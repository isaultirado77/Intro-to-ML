{
 "cells": [
  {
   "cell_type": "code",
   "execution_count": 1,
   "id": "586fe885",
   "metadata": {},
   "outputs": [],
   "source": [
    "import numpy as np"
   ]
  },
  {
   "cell_type": "markdown",
   "id": "9204d91e",
   "metadata": {},
   "source": [
    "### Comparisions and masking"
   ]
  },
  {
   "cell_type": "code",
   "execution_count": 2,
   "id": "383c7be0",
   "metadata": {},
   "outputs": [],
   "source": [
    "a = np.array([1, 3, 4])\n",
    "b = np.array([2, 2, 7])"
   ]
  },
  {
   "cell_type": "code",
   "execution_count": 11,
   "id": "302bde6e",
   "metadata": {},
   "outputs": [
    {
     "name": "stdout",
     "output_type": "stream",
     "text": [
      "[ True False  True]\n",
      "False\n",
      "True\n",
      "[1 4]\n",
      "True values:  2\n"
     ]
    }
   ],
   "source": [
    "c = a < b\n",
    "print(c)\n",
    "print(c.all())  # were all True\n",
    "print(c.any())  # was some comparision True\n",
    "print(a[c])  # values on a less than b\n",
    "print(\"True values: \", np.sum(c))  # total of less values"
   ]
  },
  {
   "cell_type": "code",
   "execution_count": 4,
   "id": "f3782a4a",
   "metadata": {},
   "outputs": [
    {
     "name": "stdout",
     "output_type": "stream",
     "text": [
      "[ True  True  True]\n"
     ]
    }
   ],
   "source": [
    "print(a > 0)"
   ]
  },
  {
   "cell_type": "code",
   "execution_count": 5,
   "id": "f0f16b31",
   "metadata": {},
   "outputs": [],
   "source": [
    "import pandas as pd\n",
    "df = pd.read_csv(\"https://raw.githubusercontent.com/csmastersUH/data_analysis_with_python_2020/master/kumpula-weather-2017.csv\")['Air temperature (degC)'].values"
   ]
  },
  {
   "cell_type": "code",
   "execution_count": 6,
   "id": "a8952d43",
   "metadata": {},
   "outputs": [
    {
     "data": {
      "text/plain": [
       "array([  0.6,  -3.9,  -6.5, -12.8, -17.8, -17.8,  -3.8,  -0.5,   0.5,\n",
       "         1.7,  -1.6,  -2.8,   1.1,   0.8,  -2.8,  -4.2,  -3.5,   1.1,\n",
       "         1.6,  -0.6,  -1.8,   1. ,   0.1,  -2.2,  -3.8,   1.9,   1.6,\n",
       "         0.8,   0.6,   1. ,   0.2,  -0.6,  -0.8,  -0.2,   0.4,  -2.5,\n",
       "        -7.3, -12.1,  -8.8, -10.1,  -8.3,  -5.4,  -2.7,   1.5,   4.4,\n",
       "         0. ,   0.5,   1.5,   1.9,   2.2,   0.4,  -2.5,  -4.6,  -0.7,\n",
       "        -5.3,  -5.6,  -2. ,  -2.3,   2.1,   1.5,   1.5,   0.9,  -1.8,\n",
       "        -4.2,  -4.2,  -2.9,   0.2,   1.2,   1.4,   2.2,  -0.9,   0.6,\n",
       "         0.6,   3.8,   3.4,   2. ,   1.6,   0.6,   0.2,   1.6,   2.3,\n",
       "         2.5,   0.5,   1.9,   4.8,   6.6,   2.4,   0.4,  -0.4,   0.2,\n",
       "         1.5,   4.3,   3. ,   3.8,   3.3,   4.7,   4.1,   3.3,   3.7,\n",
       "         6. ,   4.3,   1.8,   1.2,  -0.5,  -1.4,  -1.7,   0.6,   0.3,\n",
       "         1.2,   2.5,   5.7,   3.1,   2.9,   3.6,   2.8,   3.2,   4.4,\n",
       "         4.1,   2.3,   2.2,   7.6,   9.4,   9.2,   6.7,  10.1,  11.1,\n",
       "         6.1,   4.4,   1.5,   1.5,   2.9,   5.1,   7.5,   9.8,   9. ,\n",
       "         7.3,   9.4,  11.2,  16.1,  16.9,  14.7,  14.6,  13.3,  12.4,\n",
       "        14.1,  14.1,   9.6,  13.2,  14.1,   9.6,  10.8,   6.5,   6.2,\n",
       "        10. ,   9.9,  10.4,  14.5,  16.4,  12.3,  14. ,  16.3,  16.8,\n",
       "        12.6,  12.6,  14.8,  15.1,  18.4,  19.3,  16.9,  17.8,  12.7,\n",
       "        12.4,  12.2,  10.8,  12.9,  14. ,  13.5,  13.7,  15.3,  16.3,\n",
       "        17.2,  14.1,  16.4,  14.5,  14.1,  14. ,  11.5,  14.7,  16.1,\n",
       "        17.4,  18. ,  16.8,  16.8,  14.7,  15.3,  16.7,  18. ,  15.4,\n",
       "        15. ,  13.7,  14.6,  15.8,  15.6,  16.9,  15.7,  16.1,  17.2,\n",
       "        19. ,  19.1,  17.8,  18.3,  17.8,  18.9,  17.5,  18.2,  16.6,\n",
       "        17.1,  16. ,  15.2,  17.2,  18.3,  18.7,  18.1,  19.6,  17.4,\n",
       "        16.1,  16.4,  17.6,  19. ,  18. ,  18.2,  17.4,  16.2,  14.9,\n",
       "        13.5,  12.9,  11.2,  10.4,  10.7,  12. ,  14.4,  16.8,  17.2,\n",
       "        15.1,  12.9,  12.9,  11.9,  11.4,  10.4,  10.3,  10.6,  13.1,\n",
       "        14.6,  14.6,  14.9,  14.4,  12.9,  12.2,  12.1,   9.9,   8.7,\n",
       "         9. ,   9.2,  12.4,  11.5,  12.8,  12.5,  12.6,  12. ,  12.1,\n",
       "        10.1,   8.9,   8.8,   9.1,   9.2,   8.3,  11.2,   8.8,   7.7,\n",
       "         8.1,   9.3,   8.6,   8.1,   6.9,   6. ,   7.5,   7.2,   8.3,\n",
       "        10.7,   8.5,   8.3,   4.6,   2. ,   0.2,   0.1,   1.3,   0.8,\n",
       "         2.1,   0.3,  -0.3,   3.3,   2.1,   1.2,  -0.4,   0.1,   0.5,\n",
       "         3.2,   8. ,   8.4,   7.5,   3.9,   5.9,   6.7,   7.2,   5.9,\n",
       "         3.1,   2.4,   1.8,   3.1,   3.5,   5.8,   5.9,   4. ,   1.2,\n",
       "         0.9,   1. ,   1.5,   6.1,   4.2,   2.3,   4.6,   3.9,   2.8,\n",
       "         3.1,   0.9,   1.4,   5. ,   1.3,   0. ,  -1.2,  -0.8,   5.2,\n",
       "         4.2,   2. ,   1.4,   1.6,   1.6,   1.6,   1.7,   2.4,   0.1,\n",
       "         2. ,   1. ,   2.6,   2.5,  -0.1,   1.2,  -0.3,   0.3,   1.9,\n",
       "         3.8,   2.8,   3.8,   2.5,   1.6])"
      ]
     },
     "execution_count": 6,
     "metadata": {},
     "output_type": "execute_result"
    }
   ],
   "source": [
    "df"
   ]
  },
  {
   "cell_type": "code",
   "execution_count": 7,
   "id": "fbafe458",
   "metadata": {},
   "outputs": [
    {
     "name": "stdout",
     "output_type": "stream",
     "text": [
      "Number of days with temperature below zero:  49\n"
     ]
    }
   ],
   "source": [
    "print(\"Number of days with temperature below zero: \", np.sum(df < 0))"
   ]
  },
  {
   "cell_type": "code",
   "execution_count": 8,
   "id": "2f50905b",
   "metadata": {},
   "outputs": [
    {
     "data": {
      "text/plain": [
       "np.int64(185)"
      ]
     },
     "execution_count": 8,
     "metadata": {},
     "output_type": "execute_result"
    }
   ],
   "source": [
    "np.sum( (0 < df) & (df < 10))  # Temperature greater than 0 and less than 10"
   ]
  },
  {
   "cell_type": "code",
   "execution_count": 15,
   "id": "f8e6e5a6",
   "metadata": {},
   "outputs": [
    {
     "name": "stdout",
     "output_type": "stream",
     "text": [
      "[ True False False False False False False False  True  True]\n",
      "[ 0.6  0.5  1.7  1.1  0.8  1.1  1.6  1.   0.1  1.9  1.6  0.8  0.6  1.\n",
      "  0.2  0.4  1.5  4.4  0.5  1.5  1.9  2.2  0.4  2.1  1.5  1.5  0.9  0.2\n",
      "  1.2  1.4  2.2  0.6  0.6  3.8  3.4  2.   1.6  0.6  0.2  1.6  2.3  2.5\n",
      "  0.5  1.9  4.8  6.6  2.4  0.4  0.2  1.5  4.3  3.   3.8  3.3  4.7  4.1\n",
      "  3.3  3.7  6.   4.3  1.8  1.2  0.6  0.3  1.2  2.5  5.7  3.1  2.9  3.6\n",
      "  2.8  3.2  4.4  4.1  2.3  2.2  7.6  9.4  9.2  6.7 10.1 11.1  6.1  4.4\n",
      "  1.5  1.5  2.9  5.1  7.5  9.8  9.   7.3  9.4 11.2 16.1 16.9 14.7 14.6\n",
      " 13.3 12.4 14.1 14.1  9.6 13.2 14.1  9.6 10.8  6.5  6.2 10.   9.9 10.4\n",
      " 14.5 16.4 12.3 14.  16.3 16.8 12.6 12.6 14.8 15.1 18.4 19.3 16.9 17.8\n",
      " 12.7 12.4 12.2 10.8 12.9 14.  13.5 13.7 15.3 16.3 17.2 14.1 16.4 14.5\n",
      " 14.1 14.  11.5 14.7 16.1 17.4 18.  16.8 16.8 14.7 15.3 16.7 18.  15.4\n",
      " 15.  13.7 14.6 15.8 15.6 16.9 15.7 16.1 17.2 19.  19.1 17.8 18.3 17.8\n",
      " 18.9 17.5 18.2 16.6 17.1 16.  15.2 17.2 18.3 18.7 18.1 19.6 17.4 16.1\n",
      " 16.4 17.6 19.  18.  18.2 17.4 16.2 14.9 13.5 12.9 11.2 10.4 10.7 12.\n",
      " 14.4 16.8 17.2 15.1 12.9 12.9 11.9 11.4 10.4 10.3 10.6 13.1 14.6 14.6\n",
      " 14.9 14.4 12.9 12.2 12.1  9.9  8.7  9.   9.2 12.4 11.5 12.8 12.5 12.6\n",
      " 12.  12.1 10.1  8.9  8.8  9.1  9.2  8.3 11.2  8.8  7.7  8.1  9.3  8.6\n",
      "  8.1  6.9  6.   7.5  7.2  8.3 10.7  8.5  8.3  4.6  2.   0.2  0.1  1.3\n",
      "  0.8  2.1  0.3  3.3  2.1  1.2  0.1  0.5  3.2  8.   8.4  7.5  3.9  5.9\n",
      "  6.7  7.2  5.9  3.1  2.4  1.8  3.1  3.5  5.8  5.9  4.   1.2  0.9  1.\n",
      "  1.5  6.1  4.2  2.3  4.6  3.9  2.8  3.1  0.9  1.4  5.   1.3  5.2  4.2\n",
      "  2.   1.4  1.6  1.6  1.6  1.7  2.4  0.1  2.   1.   2.6  2.5  1.2  0.3\n",
      "  1.9  3.8  2.8  3.8  2.5  1.6]\n"
     ]
    }
   ],
   "source": [
    "c = df > 0\n",
    "print(c[:10])  # print only the first ten elements\n",
    "print(df[c])  # Select only the positive temperatures"
   ]
  },
  {
   "cell_type": "code",
   "execution_count": null,
   "id": "0ca1f2d3",
   "metadata": {},
   "outputs": [
    {
     "name": "stdout",
     "output_type": "stream",
     "text": [
      "[ 0.6  0.   0.   0.   0.   0.   0.   0.   0.5  1.7  0.   0.   1.1  0.8\n",
      "  0.   0.   0.   1.1  1.6  0.   0.   1.   0.1  0.   0.   1.9  1.6  0.8\n",
      "  0.6  1.   0.2  0.   0.   0.   0.4  0.   0.   0.   0.   0.   0.   0.\n",
      "  0.   1.5  4.4  0.   0.5  1.5  1.9  2.2  0.4  0.   0.   0.   0.   0.\n",
      "  0.   0.   2.1  1.5  1.5  0.9  0.   0.   0.   0.   0.2  1.2  1.4  2.2\n",
      "  0.   0.6  0.6  3.8  3.4  2.   1.6  0.6  0.2  1.6  2.3  2.5  0.5  1.9\n",
      "  4.8  6.6  2.4  0.4  0.   0.2  1.5  4.3  3.   3.8  3.3  4.7  4.1  3.3\n",
      "  3.7  6.   4.3  1.8  1.2  0.   0.   0.   0.6  0.3  1.2  2.5  5.7  3.1\n",
      "  2.9  3.6  2.8  3.2  4.4  4.1  2.3  2.2  7.6  9.4  9.2  6.7 10.1 11.1\n",
      "  6.1  4.4  1.5  1.5  2.9  5.1  7.5  9.8  9.   7.3  9.4 11.2 16.1 16.9\n",
      " 14.7 14.6 13.3 12.4 14.1 14.1  9.6 13.2 14.1  9.6 10.8  6.5  6.2 10.\n",
      "  9.9 10.4 14.5 16.4 12.3 14.  16.3 16.8 12.6 12.6 14.8 15.1 18.4 19.3\n",
      " 16.9 17.8 12.7 12.4 12.2 10.8 12.9 14.  13.5 13.7 15.3 16.3 17.2 14.1\n",
      " 16.4 14.5 14.1 14.  11.5 14.7 16.1 17.4 18.  16.8 16.8 14.7 15.3 16.7\n",
      " 18.  15.4 15.  13.7 14.6 15.8 15.6 16.9 15.7 16.1 17.2 19.  19.1 17.8\n",
      " 18.3 17.8 18.9 17.5 18.2 16.6 17.1 16.  15.2 17.2 18.3 18.7 18.1 19.6\n",
      " 17.4 16.1 16.4 17.6 19.  18.  18.2 17.4 16.2 14.9 13.5 12.9 11.2 10.4\n",
      " 10.7 12.  14.4 16.8 17.2 15.1 12.9 12.9 11.9 11.4 10.4 10.3 10.6 13.1\n",
      " 14.6 14.6 14.9 14.4 12.9 12.2 12.1  9.9  8.7  9.   9.2 12.4 11.5 12.8\n",
      " 12.5 12.6 12.  12.1 10.1  8.9  8.8  9.1  9.2  8.3 11.2  8.8  7.7  8.1\n",
      "  9.3  8.6  8.1  6.9  6.   7.5  7.2  8.3 10.7  8.5  8.3  4.6  2.   0.2\n",
      "  0.1  1.3  0.8  2.1  0.3  0.   3.3  2.1  1.2  0.   0.1  0.5  3.2  8.\n",
      "  8.4  7.5  3.9  5.9  6.7  7.2  5.9  3.1  2.4  1.8  3.1  3.5  5.8  5.9\n",
      "  4.   1.2  0.9  1.   1.5  6.1  4.2  2.3  4.6  3.9  2.8  3.1  0.9  1.4\n",
      "  5.   1.3  0.   0.   0.   5.2  4.2  2.   1.4  1.6  1.6  1.6  1.7  2.4\n",
      "  0.1  2.   1.   2.6  2.5  0.   1.2  0.   0.3  1.9  3.8  2.8  3.8  2.5\n",
      "  1.6]\n"
     ]
    }
   ],
   "source": [
    "# Asign new values using masking\n",
    "df[~c] = 0\n",
    "print(df)"
   ]
  },
  {
   "cell_type": "markdown",
   "id": "0ac04a62",
   "metadata": {},
   "source": [
    "### E3.1 (column comparison)\n",
    "Write function column_comparison that gets a two dimensional array as parameter. The function should return a new array containing those rows from the input that have the value in the second column larger than in the second last column. You may assume that the input contains at least two columns. Don't use loops, but instead vectorized operations. Try out your function in the main function.\n",
    "\n"
   ]
  },
  {
   "cell_type": "code",
   "execution_count": 17,
   "id": "e0438b9c",
   "metadata": {},
   "outputs": [],
   "source": [
    "def column_comparison(arr: np.ndarray):\n",
    "    mask = arr[:, 1] > arr[:, -2] \n",
    "    return arr[mask]"
   ]
  },
  {
   "cell_type": "code",
   "execution_count": 18,
   "id": "79ed3028",
   "metadata": {},
   "outputs": [
    {
     "name": "stdout",
     "output_type": "stream",
     "text": [
      "[[8 9 3 8 8]\n",
      " [5 7 6 0 4]\n",
      " [7 8 1 6 2]]\n"
     ]
    }
   ],
   "source": [
    "a = np.array(\n",
    "[[8, 9, 3, 8, 8],\n",
    " [0, 5, 3, 9, 9],\n",
    " [5, 7, 6, 0, 4],\n",
    " [7, 8, 1, 6, 2],\n",
    " [2, 1, 3, 5, 8]]\n",
    ")\n",
    "print(column_comparison(a))"
   ]
  },
  {
   "cell_type": "markdown",
   "id": "b9bd1f8b",
   "metadata": {},
   "source": [
    "### E3.2 (fitst half second half)\n",
    "Write function first_half_second_half that gets a two dimensional array of shape (n,2*m) as a parameter. The input array has 2*m columns. The output from the function should be a matrix with those rows from the input that have the sum of the first m elements larger than the sum of the last m elements on the row. Your solution should call the np.sum function or the corresponding method exactly twice."
   ]
  },
  {
   "cell_type": "code",
   "execution_count": 19,
   "id": "5280bb2a",
   "metadata": {},
   "outputs": [],
   "source": [
    "def first_half_second_half(arr: np.ndarray):\n",
    "    _, m = arr.shape\n",
    "    m = int(m / 2)\n",
    "    return [row for row in arr if np.sum(row[:m]) > np.sum(row[m:])]"
   ]
  },
  {
   "cell_type": "code",
   "execution_count": 23,
   "id": "1576a800",
   "metadata": {},
   "outputs": [
    {
     "name": "stdout",
     "output_type": "stream",
     "text": [
      "[array([2, 2, 1, 2])]\n"
     ]
    }
   ],
   "source": [
    "a = np.array([[1, 3, 4, 2],\n",
    "              [2, 2, 1, 2]])\n",
    "print( first_half_second_half(a) )"
   ]
  },
  {
   "cell_type": "code",
   "execution_count": 25,
   "id": "027c5a05",
   "metadata": {},
   "outputs": [
    {
     "name": "stdout",
     "output_type": "stream",
     "text": [
      "[[2 2 1 2]]\n"
     ]
    }
   ],
   "source": [
    "_, m = a.shape\n",
    "m = m // 2\n",
    "mask = np.sum(a[:, :m], axis=1) > np.sum(a[:, m: ], axis=1)\n",
    "print(a[mask])"
   ]
  },
  {
   "cell_type": "code",
   "execution_count": 36,
   "id": "de17517a",
   "metadata": {},
   "outputs": [],
   "source": [
    "def info(a: np.ndarray): \n",
    "    print(\"Dimension:\", a.ndim)\n",
    "    print(\"Shape [n x m]:\", a.shape)\n",
    "    print(\"Size [n * m]:\", a.size)\n",
    "    print(\"dtype:\", a.dtype)\n",
    "    for row in a: \n",
    "        print(row)\n",
    "    print()"
   ]
  },
  {
   "cell_type": "markdown",
   "id": "ec0b4fc5",
   "metadata": {},
   "source": [
    "### Fancy indexing"
   ]
  },
  {
   "cell_type": "code",
   "execution_count": 26,
   "id": "2a911dac",
   "metadata": {},
   "outputs": [],
   "source": [
    "rng = np.random.default_rng(0)"
   ]
  },
  {
   "cell_type": "code",
   "execution_count": 27,
   "id": "6ca4ba80",
   "metadata": {},
   "outputs": [
    {
     "data": {
      "text/plain": [
       "array([17, 12, 10,  5,  6,  0,  1,  0,  3, 16, 12, 18, 10, 12, 19, 14, 12,\n",
       "       10, 11, 18])"
      ]
     },
     "execution_count": 27,
     "metadata": {},
     "output_type": "execute_result"
    }
   ],
   "source": [
    "a = rng.integers(0, 20, 20)\n",
    "a"
   ]
  },
  {
   "cell_type": "code",
   "execution_count": 32,
   "id": "cc7aa703",
   "metadata": {},
   "outputs": [
    {
     "name": "stdout",
     "output_type": "stream",
     "text": [
      "[17 10  0 12]\n"
     ]
    }
   ],
   "source": [
    "idx = [0, 2, 5, 13]\n",
    "print(a[idx])"
   ]
  },
  {
   "cell_type": "code",
   "execution_count": 34,
   "id": "338a13c5",
   "metadata": {},
   "outputs": [
    {
     "data": {
      "text/plain": [
       "array([-100,   12, -100,    5,    6, -100,    1,    0,    3,   16,   12,\n",
       "         18,   10, -100,   19,   14,   12,   10,   11,   18])"
      ]
     },
     "execution_count": 34,
     "metadata": {},
     "output_type": "execute_result"
    }
   ],
   "source": [
    "a[idx] = -100\n",
    "a"
   ]
  },
  {
   "cell_type": "code",
   "execution_count": null,
   "id": "02f9be5a",
   "metadata": {},
   "outputs": [
    {
     "name": "stdout",
     "output_type": "stream",
     "text": [
      "Dimension: 2\n",
      "Shape [n x m]: (4, 4)\n",
      "Size [n * m]: 16\n",
      "dtype: int64\n",
      "[0 1 2 3]\n",
      "[4 5 6 7]\n",
      "[ 8  9 10 11]\n",
      "[12 13 14 15]\n",
      "\n",
      "[ 1 11]\n"
     ]
    }
   ],
   "source": [
    "b = np.arange(16).reshape(4, 4)\n",
    "info(b)\n",
    "row = np.array([0, 2])\n",
    "col = np.array([1, 3])\n",
    "print(b[row, col])  # row: 0, col: 1 = 1; row: 2, col: 3 = 2"
   ]
  },
  {
   "cell_type": "code",
   "execution_count": 44,
   "id": "f7c7f398",
   "metadata": {},
   "outputs": [
    {
     "name": "stdout",
     "output_type": "stream",
     "text": [
      "[ 0 15]\n"
     ]
    }
   ],
   "source": [
    "row = np.array([0, -1])\n",
    "col = np.array([0, -1])\n",
    "print(b[row, col])"
   ]
  },
  {
   "cell_type": "markdown",
   "id": "4beb4221",
   "metadata": {},
   "source": [
    "### Sorting arrays"
   ]
  },
  {
   "cell_type": "code",
   "execution_count": 52,
   "id": "fed3910c",
   "metadata": {},
   "outputs": [
    {
     "name": "stdout",
     "output_type": "stream",
     "text": [
      "[2 1 4 3 5]\n",
      "sorted [1 2 3 4 5]\n"
     ]
    }
   ],
   "source": [
    "a=np.array([2,1,4,3,5])\n",
    "print(a)\n",
    "print(\"sorted\", np.sort(a))"
   ]
  },
  {
   "cell_type": "code",
   "execution_count": 53,
   "id": "2f902921",
   "metadata": {},
   "outputs": [
    {
     "name": "stdout",
     "output_type": "stream",
     "text": [
      "[1 2 3 4 5]\n"
     ]
    }
   ],
   "source": [
    "a.sort()\n",
    "print(a)"
   ]
  },
  {
   "cell_type": "code",
   "execution_count": 64,
   "id": "aa90d0e1",
   "metadata": {},
   "outputs": [
    {
     "name": "stdout",
     "output_type": "stream",
     "text": [
      "[[4 7 3 2]\n",
      " [7 8 0 0]\n",
      " [6 3 5 1]\n",
      " [8 4 8 7]]\n"
     ]
    }
   ],
   "source": [
    "b = rng.integers(0,10, (4,4))\n",
    "print(b)"
   ]
  },
  {
   "cell_type": "code",
   "execution_count": 66,
   "id": "6082793d",
   "metadata": {},
   "outputs": [
    {
     "data": {
      "text/plain": [
       "array([[4, 3, 0, 0],\n",
       "       [6, 4, 3, 1],\n",
       "       [7, 7, 5, 2],\n",
       "       [8, 8, 8, 7]])"
      ]
     },
     "execution_count": 66,
     "metadata": {},
     "output_type": "execute_result"
    }
   ],
   "source": [
    "np.sort(b, axis=0) ## Sort by columns"
   ]
  },
  {
   "cell_type": "code",
   "execution_count": 67,
   "id": "bb4162a2",
   "metadata": {},
   "outputs": [
    {
     "data": {
      "text/plain": [
       "array([[2, 3, 4, 7],\n",
       "       [0, 0, 7, 8],\n",
       "       [1, 3, 5, 6],\n",
       "       [4, 7, 8, 8]])"
      ]
     },
     "execution_count": 67,
     "metadata": {},
     "output_type": "execute_result"
    }
   ],
   "source": [
    "np.sort(b, axis=1)  # Sort by rows"
   ]
  },
  {
   "cell_type": "code",
   "execution_count": 68,
   "id": "8d760c16",
   "metadata": {},
   "outputs": [
    {
     "name": "stdout",
     "output_type": "stream",
     "text": [
      "Array a: [23 12 47 35 59]\n",
      "Indices: [1 0 3 2 4]\n"
     ]
    }
   ],
   "source": [
    "# np.argsort return the indices of the sorted elements. \n",
    "a = np.array([23,12,47,35,59])\n",
    "print(\"Array a:\", a)\n",
    "idx = np.argsort(a)\n",
    "print(\"Indices:\", idx)"
   ]
  },
  {
   "cell_type": "markdown",
   "id": "ab99e1dd",
   "metadata": {},
   "source": [
    "### E3.3 (most frecuent first)\n",
    "\n",
    "Write function most_frequent_first that gets a two dimensional array and an index c of a column as parameters. The function should then return the array whose rows are sorted based on column c, in the following way. Rows are ordered so that those rows with the most frequent element in column c come first, then come the rows with the second most frequent element in column c, and so on. Therefore, the values outside column c don't affect the ordering in any way.\n"
   ]
  },
  {
   "cell_type": "code",
   "execution_count": null,
   "id": "dbb400a1",
   "metadata": {},
   "outputs": [],
   "source": [
    "def most_frequent_first(a: np.ndarray, c: int):\n",
    "    pass"
   ]
  },
  {
   "cell_type": "code",
   "execution_count": 70,
   "id": "1bad40b8",
   "metadata": {},
   "outputs": [],
   "source": [
    "a = np.array(\n",
    " [[5, 0, 3, 3, 7, 9, 3, 5, 2, 4],\n",
    " [7, 6, 8, 8, 1, 6, 7, 7, 8, 1],\n",
    " [5, 9, 8, 9, 4, 3, 0, 3, 5, 0],\n",
    " [2, 3, 8, 1, 3, 3, 3, 7, 0, 1],\n",
    " [9, 9, 0, 4, 7, 3, 2, 7, 2, 0],\n",
    " [0, 4, 5, 5, 6, 8, 4, 1, 4, 9],\n",
    " [8, 1, 1, 7, 9, 9, 3, 6, 7, 2],\n",
    " [0, 3, 5, 9, 4, 4, 6, 4, 4, 3],\n",
    " [4, 4, 8, 4, 3, 7, 5, 5, 0, 1],\n",
    " [5, 9, 3, 0, 5, 0, 1, 2, 4, 2]])\n",
    "\n"
   ]
  },
  {
   "cell_type": "markdown",
   "id": "1a996d63",
   "metadata": {},
   "source": [
    "### Matrix Operations"
   ]
  },
  {
   "cell_type": "code",
   "execution_count": 74,
   "id": "667815b4",
   "metadata": {},
   "outputs": [
    {
     "name": "stdout",
     "output_type": "stream",
     "text": [
      "Dimension: 2\n",
      "Shape [n x m]: (3, 2)\n",
      "Size [n * m]: 6\n",
      "dtype: int64\n",
      "[7 9]\n",
      "[4 4]\n",
      "[4 9]\n",
      "\n",
      "Dimension: 2\n",
      "Shape [n x m]: (2, 4)\n",
      "Size [n * m]: 8\n",
      "dtype: int64\n",
      "[1 4 0 4]\n",
      "[9 6 3 9]\n",
      "\n"
     ]
    }
   ],
   "source": [
    "a = rng.integers(0, 10, (3, 2))\n",
    "b = rng.integers(0, 10, (2, 4))\n",
    "info(a)\n",
    "info(b)"
   ]
  },
  {
   "cell_type": "code",
   "execution_count": 76,
   "id": "d45aaee9",
   "metadata": {},
   "outputs": [
    {
     "name": "stdout",
     "output_type": "stream",
     "text": [
      "Dimension: 2\n",
      "Shape [n x m]: (3, 4)\n",
      "Size [n * m]: 12\n",
      "dtype: int64\n",
      "[ 88  82  27 109]\n",
      "[40 40 12 52]\n",
      "[85 70 27 97]\n",
      "\n"
     ]
    }
   ],
   "source": [
    "c = np.matmul(a, b)\n",
    "info(c)"
   ]
  },
  {
   "cell_type": "code",
   "execution_count": 77,
   "id": "33705479",
   "metadata": {},
   "outputs": [
    {
     "name": "stdout",
     "output_type": "stream",
     "text": [
      "[[ 88  82  27 109]\n",
      " [ 40  40  12  52]\n",
      " [ 85  70  27  97]]\n"
     ]
    }
   ],
   "source": [
    "print(a @ b)"
   ]
  },
  {
   "cell_type": "code",
   "execution_count": 80,
   "id": "96a8034f",
   "metadata": {},
   "outputs": [
    {
     "name": "stdout",
     "output_type": "stream",
     "text": [
      "[[130  64 109]\n",
      " [ 64  32  52]\n",
      " [109  52  97]]\n"
     ]
    }
   ],
   "source": [
    "print(a @ a.T)"
   ]
  },
  {
   "cell_type": "code",
   "execution_count": 81,
   "id": "f2c4a759",
   "metadata": {},
   "outputs": [
    {
     "name": "stdout",
     "output_type": "stream",
     "text": [
      "[[ 81 115]\n",
      " [115 178]]\n"
     ]
    }
   ],
   "source": [
    "print(a.T @ a)"
   ]
  },
  {
   "cell_type": "code",
   "execution_count": null,
   "id": "da5a1b7e",
   "metadata": {},
   "outputs": [],
   "source": []
  }
 ],
 "metadata": {
  "kernelspec": {
   "display_name": "mlVirt",
   "language": "python",
   "name": "mlvirt"
  },
  "language_info": {
   "codemirror_mode": {
    "name": "ipython",
    "version": 3
   },
   "file_extension": ".py",
   "mimetype": "text/x-python",
   "name": "python",
   "nbconvert_exporter": "python",
   "pygments_lexer": "ipython3",
   "version": "3.12.4"
  }
 },
 "nbformat": 4,
 "nbformat_minor": 5
}
