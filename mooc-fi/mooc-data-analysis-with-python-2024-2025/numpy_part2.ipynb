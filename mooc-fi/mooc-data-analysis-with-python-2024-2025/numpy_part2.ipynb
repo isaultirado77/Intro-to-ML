{
 "cells": [
  {
   "cell_type": "code",
   "execution_count": 1,
   "id": "586fe885",
   "metadata": {},
   "outputs": [],
   "source": [
    "import numpy as np"
   ]
  },
  {
   "cell_type": "markdown",
   "id": "9204d91e",
   "metadata": {},
   "source": [
    "### Comparisions and masking"
   ]
  },
  {
   "cell_type": "code",
   "execution_count": 2,
   "id": "383c7be0",
   "metadata": {},
   "outputs": [],
   "source": [
    "a = np.array([1, 3, 4])\n",
    "b = np.array([2, 2, 7])"
   ]
  },
  {
   "cell_type": "code",
   "execution_count": 3,
   "id": "302bde6e",
   "metadata": {},
   "outputs": [
    {
     "name": "stdout",
     "output_type": "stream",
     "text": [
      "[ True False  True]\n",
      "False\n",
      "True\n",
      "[1 4]\n",
      "True values:  2\n"
     ]
    }
   ],
   "source": [
    "c = a < b\n",
    "print(c)\n",
    "print(c.all())  # were all True\n",
    "print(c.any())  # was some comparision True\n",
    "print(a[c])  # values on a less than b\n",
    "print(\"True values: \", np.sum(c))  # total of less values"
   ]
  },
  {
   "cell_type": "code",
   "execution_count": 4,
   "id": "f3782a4a",
   "metadata": {},
   "outputs": [
    {
     "name": "stdout",
     "output_type": "stream",
     "text": [
      "[ True  True  True]\n"
     ]
    }
   ],
   "source": [
    "print(a > 0)"
   ]
  },
  {
   "cell_type": "code",
   "execution_count": 5,
   "id": "f0f16b31",
   "metadata": {},
   "outputs": [],
   "source": [
    "import pandas as pd\n",
    "df = pd.read_csv(\"https://raw.githubusercontent.com/csmastersUH/data_analysis_with_python_2020/master/kumpula-weather-2017.csv\")['Air temperature (degC)'].values"
   ]
  },
  {
   "cell_type": "code",
   "execution_count": 6,
   "id": "a8952d43",
   "metadata": {},
   "outputs": [
    {
     "data": {
      "text/plain": [
       "array([  0.6,  -3.9,  -6.5, -12.8, -17.8, -17.8,  -3.8,  -0.5,   0.5,\n",
       "         1.7,  -1.6,  -2.8,   1.1,   0.8,  -2.8,  -4.2,  -3.5,   1.1,\n",
       "         1.6,  -0.6,  -1.8,   1. ,   0.1,  -2.2,  -3.8,   1.9,   1.6,\n",
       "         0.8,   0.6,   1. ,   0.2,  -0.6,  -0.8,  -0.2,   0.4,  -2.5,\n",
       "        -7.3, -12.1,  -8.8, -10.1,  -8.3,  -5.4,  -2.7,   1.5,   4.4,\n",
       "         0. ,   0.5,   1.5,   1.9,   2.2,   0.4,  -2.5,  -4.6,  -0.7,\n",
       "        -5.3,  -5.6,  -2. ,  -2.3,   2.1,   1.5,   1.5,   0.9,  -1.8,\n",
       "        -4.2,  -4.2,  -2.9,   0.2,   1.2,   1.4,   2.2,  -0.9,   0.6,\n",
       "         0.6,   3.8,   3.4,   2. ,   1.6,   0.6,   0.2,   1.6,   2.3,\n",
       "         2.5,   0.5,   1.9,   4.8,   6.6,   2.4,   0.4,  -0.4,   0.2,\n",
       "         1.5,   4.3,   3. ,   3.8,   3.3,   4.7,   4.1,   3.3,   3.7,\n",
       "         6. ,   4.3,   1.8,   1.2,  -0.5,  -1.4,  -1.7,   0.6,   0.3,\n",
       "         1.2,   2.5,   5.7,   3.1,   2.9,   3.6,   2.8,   3.2,   4.4,\n",
       "         4.1,   2.3,   2.2,   7.6,   9.4,   9.2,   6.7,  10.1,  11.1,\n",
       "         6.1,   4.4,   1.5,   1.5,   2.9,   5.1,   7.5,   9.8,   9. ,\n",
       "         7.3,   9.4,  11.2,  16.1,  16.9,  14.7,  14.6,  13.3,  12.4,\n",
       "        14.1,  14.1,   9.6,  13.2,  14.1,   9.6,  10.8,   6.5,   6.2,\n",
       "        10. ,   9.9,  10.4,  14.5,  16.4,  12.3,  14. ,  16.3,  16.8,\n",
       "        12.6,  12.6,  14.8,  15.1,  18.4,  19.3,  16.9,  17.8,  12.7,\n",
       "        12.4,  12.2,  10.8,  12.9,  14. ,  13.5,  13.7,  15.3,  16.3,\n",
       "        17.2,  14.1,  16.4,  14.5,  14.1,  14. ,  11.5,  14.7,  16.1,\n",
       "        17.4,  18. ,  16.8,  16.8,  14.7,  15.3,  16.7,  18. ,  15.4,\n",
       "        15. ,  13.7,  14.6,  15.8,  15.6,  16.9,  15.7,  16.1,  17.2,\n",
       "        19. ,  19.1,  17.8,  18.3,  17.8,  18.9,  17.5,  18.2,  16.6,\n",
       "        17.1,  16. ,  15.2,  17.2,  18.3,  18.7,  18.1,  19.6,  17.4,\n",
       "        16.1,  16.4,  17.6,  19. ,  18. ,  18.2,  17.4,  16.2,  14.9,\n",
       "        13.5,  12.9,  11.2,  10.4,  10.7,  12. ,  14.4,  16.8,  17.2,\n",
       "        15.1,  12.9,  12.9,  11.9,  11.4,  10.4,  10.3,  10.6,  13.1,\n",
       "        14.6,  14.6,  14.9,  14.4,  12.9,  12.2,  12.1,   9.9,   8.7,\n",
       "         9. ,   9.2,  12.4,  11.5,  12.8,  12.5,  12.6,  12. ,  12.1,\n",
       "        10.1,   8.9,   8.8,   9.1,   9.2,   8.3,  11.2,   8.8,   7.7,\n",
       "         8.1,   9.3,   8.6,   8.1,   6.9,   6. ,   7.5,   7.2,   8.3,\n",
       "        10.7,   8.5,   8.3,   4.6,   2. ,   0.2,   0.1,   1.3,   0.8,\n",
       "         2.1,   0.3,  -0.3,   3.3,   2.1,   1.2,  -0.4,   0.1,   0.5,\n",
       "         3.2,   8. ,   8.4,   7.5,   3.9,   5.9,   6.7,   7.2,   5.9,\n",
       "         3.1,   2.4,   1.8,   3.1,   3.5,   5.8,   5.9,   4. ,   1.2,\n",
       "         0.9,   1. ,   1.5,   6.1,   4.2,   2.3,   4.6,   3.9,   2.8,\n",
       "         3.1,   0.9,   1.4,   5. ,   1.3,   0. ,  -1.2,  -0.8,   5.2,\n",
       "         4.2,   2. ,   1.4,   1.6,   1.6,   1.6,   1.7,   2.4,   0.1,\n",
       "         2. ,   1. ,   2.6,   2.5,  -0.1,   1.2,  -0.3,   0.3,   1.9,\n",
       "         3.8,   2.8,   3.8,   2.5,   1.6])"
      ]
     },
     "execution_count": 6,
     "metadata": {},
     "output_type": "execute_result"
    }
   ],
   "source": [
    "df"
   ]
  },
  {
   "cell_type": "code",
   "execution_count": 7,
   "id": "fbafe458",
   "metadata": {},
   "outputs": [
    {
     "name": "stdout",
     "output_type": "stream",
     "text": [
      "Number of days with temperature below zero:  49\n"
     ]
    }
   ],
   "source": [
    "print(\"Number of days with temperature below zero: \", np.sum(df < 0))"
   ]
  },
  {
   "cell_type": "code",
   "execution_count": 8,
   "id": "2f50905b",
   "metadata": {},
   "outputs": [
    {
     "data": {
      "text/plain": [
       "np.int64(185)"
      ]
     },
     "execution_count": 8,
     "metadata": {},
     "output_type": "execute_result"
    }
   ],
   "source": [
    "np.sum( (0 < df) & (df < 10))  # Temperature greater than 0 and less than 10"
   ]
  },
  {
   "cell_type": "code",
   "execution_count": 9,
   "id": "f8e6e5a6",
   "metadata": {},
   "outputs": [
    {
     "name": "stdout",
     "output_type": "stream",
     "text": [
      "[ True False False False False False False False  True  True]\n",
      "[ 0.6  0.5  1.7  1.1  0.8  1.1  1.6  1.   0.1  1.9  1.6  0.8  0.6  1.\n",
      "  0.2  0.4  1.5  4.4  0.5  1.5  1.9  2.2  0.4  2.1  1.5  1.5  0.9  0.2\n",
      "  1.2  1.4  2.2  0.6  0.6  3.8  3.4  2.   1.6  0.6  0.2  1.6  2.3  2.5\n",
      "  0.5  1.9  4.8  6.6  2.4  0.4  0.2  1.5  4.3  3.   3.8  3.3  4.7  4.1\n",
      "  3.3  3.7  6.   4.3  1.8  1.2  0.6  0.3  1.2  2.5  5.7  3.1  2.9  3.6\n",
      "  2.8  3.2  4.4  4.1  2.3  2.2  7.6  9.4  9.2  6.7 10.1 11.1  6.1  4.4\n",
      "  1.5  1.5  2.9  5.1  7.5  9.8  9.   7.3  9.4 11.2 16.1 16.9 14.7 14.6\n",
      " 13.3 12.4 14.1 14.1  9.6 13.2 14.1  9.6 10.8  6.5  6.2 10.   9.9 10.4\n",
      " 14.5 16.4 12.3 14.  16.3 16.8 12.6 12.6 14.8 15.1 18.4 19.3 16.9 17.8\n",
      " 12.7 12.4 12.2 10.8 12.9 14.  13.5 13.7 15.3 16.3 17.2 14.1 16.4 14.5\n",
      " 14.1 14.  11.5 14.7 16.1 17.4 18.  16.8 16.8 14.7 15.3 16.7 18.  15.4\n",
      " 15.  13.7 14.6 15.8 15.6 16.9 15.7 16.1 17.2 19.  19.1 17.8 18.3 17.8\n",
      " 18.9 17.5 18.2 16.6 17.1 16.  15.2 17.2 18.3 18.7 18.1 19.6 17.4 16.1\n",
      " 16.4 17.6 19.  18.  18.2 17.4 16.2 14.9 13.5 12.9 11.2 10.4 10.7 12.\n",
      " 14.4 16.8 17.2 15.1 12.9 12.9 11.9 11.4 10.4 10.3 10.6 13.1 14.6 14.6\n",
      " 14.9 14.4 12.9 12.2 12.1  9.9  8.7  9.   9.2 12.4 11.5 12.8 12.5 12.6\n",
      " 12.  12.1 10.1  8.9  8.8  9.1  9.2  8.3 11.2  8.8  7.7  8.1  9.3  8.6\n",
      "  8.1  6.9  6.   7.5  7.2  8.3 10.7  8.5  8.3  4.6  2.   0.2  0.1  1.3\n",
      "  0.8  2.1  0.3  3.3  2.1  1.2  0.1  0.5  3.2  8.   8.4  7.5  3.9  5.9\n",
      "  6.7  7.2  5.9  3.1  2.4  1.8  3.1  3.5  5.8  5.9  4.   1.2  0.9  1.\n",
      "  1.5  6.1  4.2  2.3  4.6  3.9  2.8  3.1  0.9  1.4  5.   1.3  5.2  4.2\n",
      "  2.   1.4  1.6  1.6  1.6  1.7  2.4  0.1  2.   1.   2.6  2.5  1.2  0.3\n",
      "  1.9  3.8  2.8  3.8  2.5  1.6]\n"
     ]
    }
   ],
   "source": [
    "c = df > 0\n",
    "print(c[:10])  # print only the first ten elements\n",
    "print(df[c])  # Select only the positive temperatures"
   ]
  },
  {
   "cell_type": "code",
   "execution_count": 10,
   "id": "0ca1f2d3",
   "metadata": {},
   "outputs": [
    {
     "name": "stdout",
     "output_type": "stream",
     "text": [
      "[ 0.6  0.   0.   0.   0.   0.   0.   0.   0.5  1.7  0.   0.   1.1  0.8\n",
      "  0.   0.   0.   1.1  1.6  0.   0.   1.   0.1  0.   0.   1.9  1.6  0.8\n",
      "  0.6  1.   0.2  0.   0.   0.   0.4  0.   0.   0.   0.   0.   0.   0.\n",
      "  0.   1.5  4.4  0.   0.5  1.5  1.9  2.2  0.4  0.   0.   0.   0.   0.\n",
      "  0.   0.   2.1  1.5  1.5  0.9  0.   0.   0.   0.   0.2  1.2  1.4  2.2\n",
      "  0.   0.6  0.6  3.8  3.4  2.   1.6  0.6  0.2  1.6  2.3  2.5  0.5  1.9\n",
      "  4.8  6.6  2.4  0.4  0.   0.2  1.5  4.3  3.   3.8  3.3  4.7  4.1  3.3\n",
      "  3.7  6.   4.3  1.8  1.2  0.   0.   0.   0.6  0.3  1.2  2.5  5.7  3.1\n",
      "  2.9  3.6  2.8  3.2  4.4  4.1  2.3  2.2  7.6  9.4  9.2  6.7 10.1 11.1\n",
      "  6.1  4.4  1.5  1.5  2.9  5.1  7.5  9.8  9.   7.3  9.4 11.2 16.1 16.9\n",
      " 14.7 14.6 13.3 12.4 14.1 14.1  9.6 13.2 14.1  9.6 10.8  6.5  6.2 10.\n",
      "  9.9 10.4 14.5 16.4 12.3 14.  16.3 16.8 12.6 12.6 14.8 15.1 18.4 19.3\n",
      " 16.9 17.8 12.7 12.4 12.2 10.8 12.9 14.  13.5 13.7 15.3 16.3 17.2 14.1\n",
      " 16.4 14.5 14.1 14.  11.5 14.7 16.1 17.4 18.  16.8 16.8 14.7 15.3 16.7\n",
      " 18.  15.4 15.  13.7 14.6 15.8 15.6 16.9 15.7 16.1 17.2 19.  19.1 17.8\n",
      " 18.3 17.8 18.9 17.5 18.2 16.6 17.1 16.  15.2 17.2 18.3 18.7 18.1 19.6\n",
      " 17.4 16.1 16.4 17.6 19.  18.  18.2 17.4 16.2 14.9 13.5 12.9 11.2 10.4\n",
      " 10.7 12.  14.4 16.8 17.2 15.1 12.9 12.9 11.9 11.4 10.4 10.3 10.6 13.1\n",
      " 14.6 14.6 14.9 14.4 12.9 12.2 12.1  9.9  8.7  9.   9.2 12.4 11.5 12.8\n",
      " 12.5 12.6 12.  12.1 10.1  8.9  8.8  9.1  9.2  8.3 11.2  8.8  7.7  8.1\n",
      "  9.3  8.6  8.1  6.9  6.   7.5  7.2  8.3 10.7  8.5  8.3  4.6  2.   0.2\n",
      "  0.1  1.3  0.8  2.1  0.3  0.   3.3  2.1  1.2  0.   0.1  0.5  3.2  8.\n",
      "  8.4  7.5  3.9  5.9  6.7  7.2  5.9  3.1  2.4  1.8  3.1  3.5  5.8  5.9\n",
      "  4.   1.2  0.9  1.   1.5  6.1  4.2  2.3  4.6  3.9  2.8  3.1  0.9  1.4\n",
      "  5.   1.3  0.   0.   0.   5.2  4.2  2.   1.4  1.6  1.6  1.6  1.7  2.4\n",
      "  0.1  2.   1.   2.6  2.5  0.   1.2  0.   0.3  1.9  3.8  2.8  3.8  2.5\n",
      "  1.6]\n"
     ]
    }
   ],
   "source": [
    "# Asign new values using masking\n",
    "df[~c] = 0\n",
    "print(df)"
   ]
  },
  {
   "cell_type": "markdown",
   "id": "0ac04a62",
   "metadata": {},
   "source": [
    "### E3.1 (column comparison)\n",
    "Write function column_comparison that gets a two dimensional array as parameter. The function should return a new array containing those rows from the input that have the value in the second column larger than in the second last column. You may assume that the input contains at least two columns. Don't use loops, but instead vectorized operations. Try out your function in the main function.\n",
    "\n"
   ]
  },
  {
   "cell_type": "code",
   "execution_count": 11,
   "id": "e0438b9c",
   "metadata": {},
   "outputs": [],
   "source": [
    "def column_comparison(arr: np.ndarray):\n",
    "    mask = arr[:, 1] > arr[:, -2] \n",
    "    return arr[mask]"
   ]
  },
  {
   "cell_type": "code",
   "execution_count": 12,
   "id": "79ed3028",
   "metadata": {},
   "outputs": [
    {
     "name": "stdout",
     "output_type": "stream",
     "text": [
      "[[8 9 3 8 8]\n",
      " [5 7 6 0 4]\n",
      " [7 8 1 6 2]]\n"
     ]
    }
   ],
   "source": [
    "a = np.array(\n",
    "[[8, 9, 3, 8, 8],\n",
    " [0, 5, 3, 9, 9],\n",
    " [5, 7, 6, 0, 4],\n",
    " [7, 8, 1, 6, 2],\n",
    " [2, 1, 3, 5, 8]]\n",
    ")\n",
    "print(column_comparison(a))"
   ]
  },
  {
   "cell_type": "markdown",
   "id": "b9bd1f8b",
   "metadata": {},
   "source": [
    "### E3.2 (fitst half second half)\n",
    "Write function first_half_second_half that gets a two dimensional array of shape (n,2*m) as a parameter. The input array has 2*m columns. The output from the function should be a matrix with those rows from the input that have the sum of the first m elements larger than the sum of the last m elements on the row. Your solution should call the np.sum function or the corresponding method exactly twice."
   ]
  },
  {
   "cell_type": "code",
   "execution_count": 13,
   "id": "5280bb2a",
   "metadata": {},
   "outputs": [],
   "source": [
    "def first_half_second_half(arr: np.ndarray):\n",
    "    _, m = arr.shape\n",
    "    m = int(m / 2)\n",
    "    return [row for row in arr if np.sum(row[:m]) > np.sum(row[m:])]"
   ]
  },
  {
   "cell_type": "code",
   "execution_count": 14,
   "id": "1576a800",
   "metadata": {},
   "outputs": [
    {
     "name": "stdout",
     "output_type": "stream",
     "text": [
      "[array([2, 2, 1, 2])]\n"
     ]
    }
   ],
   "source": [
    "a = np.array([[1, 3, 4, 2],\n",
    "              [2, 2, 1, 2]])\n",
    "print( first_half_second_half(a) )"
   ]
  },
  {
   "cell_type": "code",
   "execution_count": 15,
   "id": "027c5a05",
   "metadata": {},
   "outputs": [
    {
     "name": "stdout",
     "output_type": "stream",
     "text": [
      "[[2 2 1 2]]\n"
     ]
    }
   ],
   "source": [
    "_, m = a.shape\n",
    "m = m // 2\n",
    "mask = np.sum(a[:, :m], axis=1) > np.sum(a[:, m: ], axis=1)\n",
    "print(a[mask])"
   ]
  },
  {
   "cell_type": "code",
   "execution_count": 16,
   "id": "de17517a",
   "metadata": {},
   "outputs": [],
   "source": [
    "def info(a: np.ndarray): \n",
    "    print(\"Dimension:\", a.ndim)\n",
    "    print(\"Shape [n x m]:\", a.shape)\n",
    "    print(\"Size [n * m]:\", a.size)\n",
    "    print(\"dtype:\", a.dtype)\n",
    "    for row in a: \n",
    "        print(row)\n",
    "    print()"
   ]
  },
  {
   "cell_type": "markdown",
   "id": "ec0b4fc5",
   "metadata": {},
   "source": [
    "### Fancy indexing"
   ]
  },
  {
   "cell_type": "code",
   "execution_count": 17,
   "id": "2a911dac",
   "metadata": {},
   "outputs": [],
   "source": [
    "rng = np.random.default_rng(0)"
   ]
  },
  {
   "cell_type": "code",
   "execution_count": 18,
   "id": "6ca4ba80",
   "metadata": {},
   "outputs": [
    {
     "data": {
      "text/plain": [
       "array([17, 12, 10,  5,  6,  0,  1,  0,  3, 16, 12, 18, 10, 12, 19, 14, 12,\n",
       "       10, 11, 18])"
      ]
     },
     "execution_count": 18,
     "metadata": {},
     "output_type": "execute_result"
    }
   ],
   "source": [
    "a = rng.integers(0, 20, 20)\n",
    "a"
   ]
  },
  {
   "cell_type": "code",
   "execution_count": 19,
   "id": "cc7aa703",
   "metadata": {},
   "outputs": [
    {
     "name": "stdout",
     "output_type": "stream",
     "text": [
      "[17 10  0 12]\n"
     ]
    }
   ],
   "source": [
    "idx = [0, 2, 5, 13]\n",
    "print(a[idx])"
   ]
  },
  {
   "cell_type": "code",
   "execution_count": 20,
   "id": "338a13c5",
   "metadata": {},
   "outputs": [
    {
     "data": {
      "text/plain": [
       "array([-100,   12, -100,    5,    6, -100,    1,    0,    3,   16,   12,\n",
       "         18,   10, -100,   19,   14,   12,   10,   11,   18])"
      ]
     },
     "execution_count": 20,
     "metadata": {},
     "output_type": "execute_result"
    }
   ],
   "source": [
    "a[idx] = -100\n",
    "a"
   ]
  },
  {
   "cell_type": "code",
   "execution_count": 21,
   "id": "02f9be5a",
   "metadata": {},
   "outputs": [
    {
     "name": "stdout",
     "output_type": "stream",
     "text": [
      "Dimension: 2\n",
      "Shape [n x m]: (4, 4)\n",
      "Size [n * m]: 16\n",
      "dtype: int64\n",
      "[0 1 2 3]\n",
      "[4 5 6 7]\n",
      "[ 8  9 10 11]\n",
      "[12 13 14 15]\n",
      "\n",
      "[ 1 11]\n"
     ]
    }
   ],
   "source": [
    "b = np.arange(16).reshape(4, 4)\n",
    "info(b)\n",
    "row = np.array([0, 2])\n",
    "col = np.array([1, 3])\n",
    "print(b[row, col])  # row: 0, col: 1 = 1; row: 2, col: 3 = 2"
   ]
  },
  {
   "cell_type": "code",
   "execution_count": 22,
   "id": "f7c7f398",
   "metadata": {},
   "outputs": [
    {
     "name": "stdout",
     "output_type": "stream",
     "text": [
      "[ 0 15]\n"
     ]
    }
   ],
   "source": [
    "row = np.array([0, -1])\n",
    "col = np.array([0, -1])\n",
    "print(b[row, col])"
   ]
  },
  {
   "cell_type": "markdown",
   "id": "4beb4221",
   "metadata": {},
   "source": [
    "### Sorting arrays"
   ]
  },
  {
   "cell_type": "code",
   "execution_count": 23,
   "id": "fed3910c",
   "metadata": {},
   "outputs": [
    {
     "name": "stdout",
     "output_type": "stream",
     "text": [
      "[2 1 4 3 5]\n",
      "sorted [1 2 3 4 5]\n"
     ]
    }
   ],
   "source": [
    "a=np.array([2,1,4,3,5])\n",
    "print(a)\n",
    "print(\"sorted\", np.sort(a))"
   ]
  },
  {
   "cell_type": "code",
   "execution_count": 24,
   "id": "2f902921",
   "metadata": {},
   "outputs": [
    {
     "name": "stdout",
     "output_type": "stream",
     "text": [
      "[1 2 3 4 5]\n"
     ]
    }
   ],
   "source": [
    "a.sort()\n",
    "print(a)"
   ]
  },
  {
   "cell_type": "code",
   "execution_count": 25,
   "id": "aa90d0e1",
   "metadata": {},
   "outputs": [
    {
     "name": "stdout",
     "output_type": "stream",
     "text": [
      "[[2 8 6 0]\n",
      " [3 8 5 0]\n",
      " [7 7 8 1]\n",
      " [0 8 0 5]]\n"
     ]
    }
   ],
   "source": [
    "b = rng.integers(0,10, (4,4))\n",
    "print(b)"
   ]
  },
  {
   "cell_type": "code",
   "execution_count": 26,
   "id": "6082793d",
   "metadata": {},
   "outputs": [
    {
     "data": {
      "text/plain": [
       "array([[0, 7, 0, 0],\n",
       "       [2, 8, 5, 0],\n",
       "       [3, 8, 6, 1],\n",
       "       [7, 8, 8, 5]])"
      ]
     },
     "execution_count": 26,
     "metadata": {},
     "output_type": "execute_result"
    }
   ],
   "source": [
    "np.sort(b, axis=0) ## Sort by columns"
   ]
  },
  {
   "cell_type": "code",
   "execution_count": 27,
   "id": "bb4162a2",
   "metadata": {},
   "outputs": [
    {
     "data": {
      "text/plain": [
       "array([[0, 2, 6, 8],\n",
       "       [0, 3, 5, 8],\n",
       "       [1, 7, 7, 8],\n",
       "       [0, 0, 5, 8]])"
      ]
     },
     "execution_count": 27,
     "metadata": {},
     "output_type": "execute_result"
    }
   ],
   "source": [
    "np.sort(b, axis=1)  # Sort by rows"
   ]
  },
  {
   "cell_type": "code",
   "execution_count": 28,
   "id": "8d760c16",
   "metadata": {},
   "outputs": [
    {
     "name": "stdout",
     "output_type": "stream",
     "text": [
      "Array a: [23 12 47 35 59]\n",
      "Indices: [1 0 3 2 4]\n"
     ]
    }
   ],
   "source": [
    "# np.argsort return the indices of the sorted elements. \n",
    "a = np.array([23,12,47,35,59])\n",
    "print(\"Array a:\", a)\n",
    "idx = np.argsort(a)\n",
    "print(\"Indices:\", idx)"
   ]
  },
  {
   "cell_type": "markdown",
   "id": "ab99e1dd",
   "metadata": {},
   "source": [
    "### E3.3 (most frecuent first)\n",
    "\n",
    "Write function most_frequent_first that gets a two dimensional array and an index c of a column as parameters. The function should then return the array whose rows are sorted based on column c, in the following way. Rows are ordered so that those rows with the most frequent element in column c come first, then come the rows with the second most frequent element in column c, and so on. Therefore, the values outside column c don't affect the ordering in any way.\n"
   ]
  },
  {
   "cell_type": "code",
   "execution_count": 29,
   "id": "dbb400a1",
   "metadata": {},
   "outputs": [],
   "source": [
    "def most_frequent_first(a: np.ndarray, c: int):\n",
    "    pass"
   ]
  },
  {
   "cell_type": "code",
   "execution_count": 30,
   "id": "1bad40b8",
   "metadata": {},
   "outputs": [],
   "source": [
    "a = np.array(\n",
    " [[5, 0, 3, 3, 7, 9, 3, 5, 2, 4],\n",
    " [7, 6, 8, 8, 1, 6, 7, 7, 8, 1],\n",
    " [5, 9, 8, 9, 4, 3, 0, 3, 5, 0],\n",
    " [2, 3, 8, 1, 3, 3, 3, 7, 0, 1],\n",
    " [9, 9, 0, 4, 7, 3, 2, 7, 2, 0],\n",
    " [0, 4, 5, 5, 6, 8, 4, 1, 4, 9],\n",
    " [8, 1, 1, 7, 9, 9, 3, 6, 7, 2],\n",
    " [0, 3, 5, 9, 4, 4, 6, 4, 4, 3],\n",
    " [4, 4, 8, 4, 3, 7, 5, 5, 0, 1],\n",
    " [5, 9, 3, 0, 5, 0, 1, 2, 4, 2]])\n",
    "\n"
   ]
  },
  {
   "cell_type": "markdown",
   "id": "1a996d63",
   "metadata": {},
   "source": [
    "### Matrix Operations"
   ]
  },
  {
   "cell_type": "code",
   "execution_count": 31,
   "id": "667815b4",
   "metadata": {},
   "outputs": [
    {
     "name": "stdout",
     "output_type": "stream",
     "text": [
      "Dimension: 2\n",
      "Shape [n x m]: (3, 2)\n",
      "Size [n * m]: 6\n",
      "dtype: int64\n",
      "[0 2]\n",
      "[4 4]\n",
      "[4 0]\n",
      "\n",
      "Dimension: 2\n",
      "Shape [n x m]: (2, 4)\n",
      "Size [n * m]: 8\n",
      "dtype: int64\n",
      "[0 1 0 6]\n",
      "[5 6 2 6]\n",
      "\n"
     ]
    }
   ],
   "source": [
    "a = rng.integers(0, 10, (3, 2))\n",
    "b = rng.integers(0, 10, (2, 4))\n",
    "info(a)\n",
    "info(b)"
   ]
  },
  {
   "cell_type": "code",
   "execution_count": 32,
   "id": "d45aaee9",
   "metadata": {},
   "outputs": [
    {
     "name": "stdout",
     "output_type": "stream",
     "text": [
      "Dimension: 2\n",
      "Shape [n x m]: (3, 4)\n",
      "Size [n * m]: 12\n",
      "dtype: int64\n",
      "[10 12  4 12]\n",
      "[20 28  8 48]\n",
      "[ 0  4  0 24]\n",
      "\n"
     ]
    }
   ],
   "source": [
    "c = np.matmul(a, b)\n",
    "info(c)"
   ]
  },
  {
   "cell_type": "code",
   "execution_count": 33,
   "id": "33705479",
   "metadata": {},
   "outputs": [
    {
     "name": "stdout",
     "output_type": "stream",
     "text": [
      "[[10 12  4 12]\n",
      " [20 28  8 48]\n",
      " [ 0  4  0 24]]\n"
     ]
    }
   ],
   "source": [
    "print(a @ b)"
   ]
  },
  {
   "cell_type": "code",
   "execution_count": 34,
   "id": "96a8034f",
   "metadata": {},
   "outputs": [
    {
     "name": "stdout",
     "output_type": "stream",
     "text": [
      "[[ 4  8  0]\n",
      " [ 8 32 16]\n",
      " [ 0 16 16]]\n"
     ]
    }
   ],
   "source": [
    "print(a @ a.T)"
   ]
  },
  {
   "cell_type": "code",
   "execution_count": 35,
   "id": "f2c4a759",
   "metadata": {},
   "outputs": [
    {
     "name": "stdout",
     "output_type": "stream",
     "text": [
      "[[32 16]\n",
      " [16 20]]\n"
     ]
    }
   ],
   "source": [
    "print(a.T @ a)"
   ]
  },
  {
   "cell_type": "markdown",
   "id": "3f04d99b",
   "metadata": {},
   "source": [
    "## E3.4 (matrix power)\n",
    "\n",
    "Repeat the functionality of the NumPy function numpy.linalg.matrix_power, which raises a square matrix of shape (m,m) to the nth power. Here the multiplication is the matrix multiplication. Square matrix a raised to power n is therefore a @ a @ ... @ a where a is repeated n times. When n is zero then $a^{0}$ is equal to np.eye(m).\n",
    "\n",
    "Write function matrix_power that gets as first argument a square matrix a and as second argument a non-negative integer n. The function should return the matrix a multiplied by itself n-1 times. Use Python's reduce function and a generator expression.\n",
    "\n",
    "Extend the matrix_power function. For negative powers, we define $a^{-1}$ to be equal to the multiplicative inverse of a. You can use NumPy's function numpy.linalg.inv for this. And you may assume that the input matrix is invertible.\n",
    "\n"
   ]
  },
  {
   "cell_type": "code",
   "execution_count": 52,
   "id": "8608c380",
   "metadata": {},
   "outputs": [],
   "source": [
    "from functools import reduce"
   ]
  },
  {
   "cell_type": "code",
   "execution_count": 53,
   "id": "850de581",
   "metadata": {},
   "outputs": [
    {
     "name": "stdout",
     "output_type": "stream",
     "text": [
      "Help on built-in function reduce in module _functools:\n",
      "\n",
      "reduce(...)\n",
      "    reduce(function, iterable[, initial]) -> value\n",
      "\n",
      "    Apply a function of two arguments cumulatively to the items of a sequence\n",
      "    or iterable, from left to right, so as to reduce the iterable to a single\n",
      "    value.  For example, reduce(lambda x, y: x+y, [1, 2, 3, 4, 5]) calculates\n",
      "    ((((1+2)+3)+4)+5).  If initial is present, it is placed before the items\n",
      "    of the iterable in the calculation, and serves as a default when the\n",
      "    iterable is empty.\n",
      "\n"
     ]
    }
   ],
   "source": [
    "help(reduce)"
   ]
  },
  {
   "cell_type": "code",
   "execution_count": 61,
   "id": "da5a1b7e",
   "metadata": {},
   "outputs": [],
   "source": [
    "def matrix_power(a: np.ndarray, n: int): \n",
    "    m = len(a)\n",
    "    if n == 0:\n",
    "        return np.eye(m)\n",
    "    elif n == -1: \n",
    "        return np.linalg.inv(a)\n",
    "    \n",
    "    return reduce(lambda X, Y: X @ Y, [a] * (n - 1), a)"
   ]
  },
  {
   "cell_type": "code",
   "execution_count": 69,
   "id": "3e6a9e96",
   "metadata": {},
   "outputs": [
    {
     "name": "stdout",
     "output_type": "stream",
     "text": [
      "Dimension: 2\n",
      "Shape [n x m]: (2, 2)\n",
      "Size [n * m]: 4\n",
      "dtype: float64\n",
      "[2.5 0. ]\n",
      "[0.  2.5]\n",
      "\n"
     ]
    }
   ],
   "source": [
    "arr = np.array([[2.5, 0], \n",
    "                [0, 2.5]])\n",
    "info(arr)"
   ]
  },
  {
   "cell_type": "code",
   "execution_count": 70,
   "id": "a06ee240",
   "metadata": {},
   "outputs": [
    {
     "name": "stdout",
     "output_type": "stream",
     "text": [
      "[[1. 0.]\n",
      " [0. 1.]]\n"
     ]
    }
   ],
   "source": [
    "print(matrix_power(arr, 0))"
   ]
  },
  {
   "cell_type": "code",
   "execution_count": 71,
   "id": "92a2e13b",
   "metadata": {},
   "outputs": [
    {
     "name": "stdout",
     "output_type": "stream",
     "text": [
      "[[0.4 0. ]\n",
      " [0.  0.4]]\n"
     ]
    }
   ],
   "source": [
    "print(matrix_power(arr, -1))"
   ]
  },
  {
   "cell_type": "code",
   "execution_count": 72,
   "id": "c5d637c6",
   "metadata": {},
   "outputs": [
    {
     "name": "stdout",
     "output_type": "stream",
     "text": [
      "[[1. 0.]\n",
      " [0. 1.]]\n"
     ]
    }
   ],
   "source": [
    "inv = matrix_power(arr, -1)\n",
    "print(arr @ inv)"
   ]
  },
  {
   "cell_type": "code",
   "execution_count": 73,
   "id": "6ce2a88a",
   "metadata": {},
   "outputs": [
    {
     "name": "stdout",
     "output_type": "stream",
     "text": [
      "[[15.625  0.   ]\n",
      " [ 0.    15.625]]\n"
     ]
    }
   ],
   "source": [
    "print(matrix_power(arr, 3))"
   ]
  },
  {
   "cell_type": "markdown",
   "id": "0ef2a35b",
   "metadata": {},
   "source": [
    "## E3.5(correlation)"
   ]
  },
  {
   "cell_type": "code",
   "execution_count": 85,
   "id": "16c6610b",
   "metadata": {},
   "outputs": [],
   "source": [
    "import scipy.stats as stats"
   ]
  },
  {
   "cell_type": "code",
   "execution_count": null,
   "id": "e1d1a461",
   "metadata": {},
   "outputs": [],
   "source": [
    "def load():\n",
    "    import pandas as pd\n",
    "    return pd.read_csv(\"data/iris.csv\").drop('species', axis=1).values\n",
    "\n",
    "def lengths(data: np.ndarray):\n",
    "    pearson_result = stats.pearsonr(data[:, 0], data[:, 2])\n",
    "    return pearson_result[0]\n",
    "\n",
    "def correlations(data: np.ndarray):\n",
    "    return np.corrcoef(data.T)"
   ]
  },
  {
   "cell_type": "code",
   "execution_count": 86,
   "id": "3e3c1e86",
   "metadata": {},
   "outputs": [
    {
     "data": {
      "text/plain": [
       "array([[5.1, 3.5, 1.4, 0.2],\n",
       "       [4.9, 3. , 1.4, 0.2],\n",
       "       [4.7, 3.2, 1.3, 0.2],\n",
       "       [4.6, 3.1, 1.5, 0.2],\n",
       "       [5. , 3.6, 1.4, 0.2]])"
      ]
     },
     "execution_count": 86,
     "metadata": {},
     "output_type": "execute_result"
    }
   ],
   "source": [
    "data = load()\n",
    "data[:5, :]"
   ]
  },
  {
   "cell_type": "code",
   "execution_count": 87,
   "id": "4a1d812f",
   "metadata": {},
   "outputs": [
    {
     "name": "stdout",
     "output_type": "stream",
     "text": [
      "Help on function pearsonr in module scipy.stats._stats_py:\n",
      "\n",
      "pearsonr(x, y, *, alternative='two-sided', method=None, axis=0)\n",
      "    Pearson correlation coefficient and p-value for testing non-correlation.\n",
      "\n",
      "    The Pearson correlation coefficient [1]_ measures the linear relationship\n",
      "    between two datasets. Like other correlation\n",
      "    coefficients, this one varies between -1 and +1 with 0 implying no\n",
      "    correlation. Correlations of -1 or +1 imply an exact linear relationship.\n",
      "    Positive correlations imply that as x increases, so does y. Negative\n",
      "    correlations imply that as x increases, y decreases.\n",
      "\n",
      "    This function also performs a test of the null hypothesis that the\n",
      "    distributions underlying the samples are uncorrelated and normally\n",
      "    distributed. (See Kowalski [3]_\n",
      "    for a discussion of the effects of non-normality of the input on the\n",
      "    distribution of the correlation coefficient.)\n",
      "    The p-value roughly indicates the probability of an uncorrelated system\n",
      "    producing datasets that have a Pearson correlation at least as extreme\n",
      "    as the one computed from these datasets.\n",
      "\n",
      "    Parameters\n",
      "    ----------\n",
      "    x : array_like\n",
      "        Input array.\n",
      "    y : array_like\n",
      "        Input array.\n",
      "    axis : int or None, default\n",
      "        Axis along which to perform the calculation. Default is 0.\n",
      "        If None, ravel both arrays before performing the calculation.\n",
      "\n",
      "        .. versionadded:: 1.13.0\n",
      "    alternative : {'two-sided', 'greater', 'less'}, optional\n",
      "        Defines the alternative hypothesis. Default is 'two-sided'.\n",
      "        The following options are available:\n",
      "\n",
      "        * 'two-sided': the correlation is nonzero\n",
      "        * 'less': the correlation is negative (less than zero)\n",
      "        * 'greater':  the correlation is positive (greater than zero)\n",
      "\n",
      "        .. versionadded:: 1.9.0\n",
      "    method : ResamplingMethod, optional\n",
      "        Defines the method used to compute the p-value. If `method` is an\n",
      "        instance of `PermutationMethod`/`MonteCarloMethod`, the p-value is\n",
      "        computed using\n",
      "        `scipy.stats.permutation_test`/`scipy.stats.monte_carlo_test` with the\n",
      "        provided configuration options and other appropriate settings.\n",
      "        Otherwise, the p-value is computed as documented in the notes.\n",
      "\n",
      "        .. versionadded:: 1.11.0\n",
      "\n",
      "    Returns\n",
      "    -------\n",
      "    result : `~scipy.stats._result_classes.PearsonRResult`\n",
      "        An object with the following attributes:\n",
      "\n",
      "        statistic : float\n",
      "            Pearson product-moment correlation coefficient.\n",
      "        pvalue : float\n",
      "            The p-value associated with the chosen alternative.\n",
      "\n",
      "        The object has the following method:\n",
      "\n",
      "        confidence_interval(confidence_level, method)\n",
      "            This computes the confidence interval of the correlation\n",
      "            coefficient `statistic` for the given confidence level.\n",
      "            The confidence interval is returned in a ``namedtuple`` with\n",
      "            fields `low` and `high`. If `method` is not provided, the\n",
      "            confidence interval is computed using the Fisher transformation\n",
      "            [1]_. If `method` is an instance of `BootstrapMethod`, the\n",
      "            confidence interval is computed using `scipy.stats.bootstrap` with\n",
      "            the provided configuration options and other appropriate settings.\n",
      "            In some cases, confidence limits may be NaN due to a degenerate\n",
      "            resample, and this is typical for very small samples (~6\n",
      "            observations).\n",
      "\n",
      "    Raises\n",
      "    ------\n",
      "    ValueError\n",
      "        If `x` and `y` do not have length at least 2.\n",
      "\n",
      "    Warns\n",
      "    -----\n",
      "    `~scipy.stats.ConstantInputWarning`\n",
      "        Raised if an input is a constant array.  The correlation coefficient\n",
      "        is not defined in this case, so ``np.nan`` is returned.\n",
      "\n",
      "    `~scipy.stats.NearConstantInputWarning`\n",
      "        Raised if an input is \"nearly\" constant.  The array ``x`` is considered\n",
      "        nearly constant if ``norm(x - mean(x)) < 1e-13 * abs(mean(x))``.\n",
      "        Numerical errors in the calculation ``x - mean(x)`` in this case might\n",
      "        result in an inaccurate calculation of r.\n",
      "\n",
      "    See Also\n",
      "    --------\n",
      "    spearmanr : Spearman rank-order correlation coefficient.\n",
      "    kendalltau : Kendall's tau, a correlation measure for ordinal data.\n",
      "\n",
      "    Notes\n",
      "    -----\n",
      "    The correlation coefficient is calculated as follows:\n",
      "\n",
      "    .. math::\n",
      "\n",
      "        r = \\frac{\\sum (x - m_x) (y - m_y)}\n",
      "                 {\\sqrt{\\sum (x - m_x)^2 \\sum (y - m_y)^2}}\n",
      "\n",
      "    where :math:`m_x` is the mean of the vector x and :math:`m_y` is\n",
      "    the mean of the vector y.\n",
      "\n",
      "    Under the assumption that x and y are drawn from\n",
      "    independent normal distributions (so the population correlation coefficient\n",
      "    is 0), the probability density function of the sample correlation\n",
      "    coefficient r is ([1]_, [2]_):\n",
      "\n",
      "    .. math::\n",
      "        f(r) = \\frac{{(1-r^2)}^{n/2-2}}{\\mathrm{B}(\\frac{1}{2},\\frac{n}{2}-1)}\n",
      "\n",
      "    where n is the number of samples, and B is the beta function.  This\n",
      "    is sometimes referred to as the exact distribution of r.  This is\n",
      "    the distribution that is used in `pearsonr` to compute the p-value when\n",
      "    the `method` parameter is left at its default value (None).\n",
      "    The distribution is a beta distribution on the interval [-1, 1],\n",
      "    with equal shape parameters a = b = n/2 - 1.  In terms of SciPy's\n",
      "    implementation of the beta distribution, the distribution of r is::\n",
      "\n",
      "        dist = scipy.stats.beta(n/2 - 1, n/2 - 1, loc=-1, scale=2)\n",
      "\n",
      "    The default p-value returned by `pearsonr` is a two-sided p-value. For a\n",
      "    given sample with correlation coefficient r, the p-value is\n",
      "    the probability that abs(r') of a random sample x' and y' drawn from\n",
      "    the population with zero correlation would be greater than or equal\n",
      "    to abs(r). In terms of the object ``dist`` shown above, the p-value\n",
      "    for a given r and length n can be computed as::\n",
      "\n",
      "        p = 2*dist.cdf(-abs(r))\n",
      "\n",
      "    When n is 2, the above continuous distribution is not well-defined.\n",
      "    One can interpret the limit of the beta distribution as the shape\n",
      "    parameters a and b approach a = b = 0 as a discrete distribution with\n",
      "    equal probability masses at r = 1 and r = -1.  More directly, one\n",
      "    can observe that, given the data x = [x1, x2] and y = [y1, y2], and\n",
      "    assuming x1 != x2 and y1 != y2, the only possible values for r are 1\n",
      "    and -1.  Because abs(r') for any sample x' and y' with length 2 will\n",
      "    be 1, the two-sided p-value for a sample of length 2 is always 1.\n",
      "\n",
      "    For backwards compatibility, the object that is returned also behaves\n",
      "    like a tuple of length two that holds the statistic and the p-value.\n",
      "\n",
      "    References\n",
      "    ----------\n",
      "    .. [1] \"Pearson correlation coefficient\", Wikipedia,\n",
      "           https://en.wikipedia.org/wiki/Pearson_correlation_coefficient\n",
      "    .. [2] Student, \"Probable error of a correlation coefficient\",\n",
      "           Biometrika, Volume 6, Issue 2-3, 1 September 1908, pp. 302-310.\n",
      "    .. [3] C. J. Kowalski, \"On the Effects of Non-Normality on the Distribution\n",
      "           of the Sample Product-Moment Correlation Coefficient\"\n",
      "           Journal of the Royal Statistical Society. Series C (Applied\n",
      "           Statistics), Vol. 21, No. 1 (1972), pp. 1-12.\n",
      "\n",
      "    Examples\n",
      "    --------\n",
      "    >>> import numpy as np\n",
      "    >>> from scipy import stats\n",
      "    >>> x, y = [1, 2, 3, 4, 5, 6, 7], [10, 9, 2.5, 6, 4, 3, 2]\n",
      "    >>> res = stats.pearsonr(x, y)\n",
      "    >>> res\n",
      "    PearsonRResult(statistic=-0.828503883588428, pvalue=0.021280260007523286)\n",
      "\n",
      "    To perform an exact permutation version of the test:\n",
      "\n",
      "    >>> rng = np.random.default_rng(7796654889291491997)\n",
      "    >>> method = stats.PermutationMethod(n_resamples=np.inf, random_state=rng)\n",
      "    >>> stats.pearsonr(x, y, method=method)\n",
      "    PearsonRResult(statistic=-0.828503883588428, pvalue=0.028174603174603175)\n",
      "\n",
      "    To perform the test under the null hypothesis that the data were drawn from\n",
      "    *uniform* distributions:\n",
      "\n",
      "    >>> method = stats.MonteCarloMethod(rvs=(rng.uniform, rng.uniform))\n",
      "    >>> stats.pearsonr(x, y, method=method)\n",
      "    PearsonRResult(statistic=-0.828503883588428, pvalue=0.0188)\n",
      "\n",
      "    To produce an asymptotic 90% confidence interval:\n",
      "\n",
      "    >>> res.confidence_interval(confidence_level=0.9)\n",
      "    ConfidenceInterval(low=-0.9644331982722841, high=-0.3460237473272273)\n",
      "\n",
      "    And for a bootstrap confidence interval:\n",
      "\n",
      "    >>> method = stats.BootstrapMethod(method='BCa', rng=rng)\n",
      "    >>> res.confidence_interval(confidence_level=0.9, method=method)\n",
      "    ConfidenceInterval(low=-0.9983163756488651, high=-0.22771001702132443)  # may vary\n",
      "\n",
      "    If N-dimensional arrays are provided, multiple tests are performed in a\n",
      "    single call according to the same conventions as most `scipy.stats` functions:\n",
      "\n",
      "    >>> rng = np.random.default_rng(2348246935601934321)\n",
      "    >>> x = rng.standard_normal((8, 15))\n",
      "    >>> y = rng.standard_normal((8, 15))\n",
      "    >>> stats.pearsonr(x, y, axis=0).statistic.shape  # between corresponding columns\n",
      "    (15,)\n",
      "    >>> stats.pearsonr(x, y, axis=1).statistic.shape  # between corresponding rows\n",
      "    (8,)\n",
      "\n",
      "    To perform all pairwise comparisons between slices of the arrays,\n",
      "    use standard NumPy broadcasting techniques. For instance, to compute the\n",
      "    correlation between all pairs of rows:\n",
      "\n",
      "    >>> stats.pearsonr(x[:, np.newaxis, :], y, axis=-1).statistic.shape\n",
      "    (8, 8)\n",
      "\n",
      "    There is a linear dependence between x and y if y = a + b*x + e, where\n",
      "    a,b are constants and e is a random error term, assumed to be independent\n",
      "    of x. For simplicity, assume that x is standard normal, a=0, b=1 and let\n",
      "    e follow a normal distribution with mean zero and standard deviation s>0.\n",
      "\n",
      "    >>> rng = np.random.default_rng()\n",
      "    >>> s = 0.5\n",
      "    >>> x = stats.norm.rvs(size=500, random_state=rng)\n",
      "    >>> e = stats.norm.rvs(scale=s, size=500, random_state=rng)\n",
      "    >>> y = x + e\n",
      "    >>> stats.pearsonr(x, y).statistic\n",
      "    0.9001942438244763\n",
      "\n",
      "    This should be close to the exact value given by\n",
      "\n",
      "    >>> 1/np.sqrt(1 + s**2)\n",
      "    0.8944271909999159\n",
      "\n",
      "    For s=0.5, we observe a high level of correlation. In general, a large\n",
      "    variance of the noise reduces the correlation, while the correlation\n",
      "    approaches one as the variance of the error goes to zero.\n",
      "\n",
      "    It is important to keep in mind that no correlation does not imply\n",
      "    independence unless (x, y) is jointly normal. Correlation can even be zero\n",
      "    when there is a very simple dependence structure: if X follows a\n",
      "    standard normal distribution, let y = abs(x). Note that the correlation\n",
      "    between x and y is zero. Indeed, since the expectation of x is zero,\n",
      "    cov(x, y) = E[x*y]. By definition, this equals E[x*abs(x)] which is zero\n",
      "    by symmetry. The following lines of code illustrate this observation:\n",
      "\n",
      "    >>> y = np.abs(x)\n",
      "    >>> stats.pearsonr(x, y)\n",
      "    PearsonRResult(statistic=-0.05444919272687482, pvalue=0.22422294836207743)\n",
      "\n",
      "    A non-zero correlation coefficient can be misleading. For example, if X has\n",
      "    a standard normal distribution, define y = x if x < 0 and y = 0 otherwise.\n",
      "    A simple calculation shows that corr(x, y) = sqrt(2/Pi) = 0.797...,\n",
      "    implying a high level of correlation:\n",
      "\n",
      "    >>> y = np.where(x < 0, x, 0)\n",
      "    >>> stats.pearsonr(x, y)\n",
      "    PearsonRResult(statistic=0.861985781588, pvalue=4.813432002751103e-149)\n",
      "\n",
      "    This is unintuitive since there is no dependence of x and y if x is larger\n",
      "    than zero which happens in about half of the cases if we sample x and y.\n",
      "\n"
     ]
    }
   ],
   "source": [
    "help(stats.pearsonr)"
   ]
  },
  {
   "cell_type": "code",
   "execution_count": 91,
   "id": "5860395a",
   "metadata": {},
   "outputs": [
    {
     "name": "stdout",
     "output_type": "stream",
     "text": [
      "PearsonRResult(statistic=np.float64(0.8717537758865831), pvalue=np.float64(1.038667419449872e-47))\n"
     ]
    }
   ],
   "source": [
    "pearson_result = stats.pearsonr(data[:, 0], data[:, 2]) \n",
    "print(pearson_result)"
   ]
  },
  {
   "cell_type": "code",
   "execution_count": 92,
   "id": "74a58849",
   "metadata": {},
   "outputs": [
    {
     "name": "stdout",
     "output_type": "stream",
     "text": [
      "Help on _ArrayFunctionDispatcher in module numpy:\n",
      "\n",
      "corrcoef(x, y=None, rowvar=True, bias=<no value>, ddof=<no value>, *, dtype=None)\n",
      "    Return Pearson product-moment correlation coefficients.\n",
      "\n",
      "    Please refer to the documentation for `cov` for more detail.  The\n",
      "    relationship between the correlation coefficient matrix, `R`, and the\n",
      "    covariance matrix, `C`, is\n",
      "\n",
      "    .. math:: R_{ij} = \\frac{ C_{ij} } { \\sqrt{ C_{ii} C_{jj} } }\n",
      "\n",
      "    The values of `R` are between -1 and 1, inclusive.\n",
      "\n",
      "    Parameters\n",
      "    ----------\n",
      "    x : array_like\n",
      "        A 1-D or 2-D array containing multiple variables and observations.\n",
      "        Each row of `x` represents a variable, and each column a single\n",
      "        observation of all those variables. Also see `rowvar` below.\n",
      "    y : array_like, optional\n",
      "        An additional set of variables and observations. `y` has the same\n",
      "        shape as `x`.\n",
      "    rowvar : bool, optional\n",
      "        If `rowvar` is True (default), then each row represents a\n",
      "        variable, with observations in the columns. Otherwise, the relationship\n",
      "        is transposed: each column represents a variable, while the rows\n",
      "        contain observations.\n",
      "    bias : _NoValue, optional\n",
      "        Has no effect, do not use.\n",
      "\n",
      "        .. deprecated:: 1.10.0\n",
      "    ddof : _NoValue, optional\n",
      "        Has no effect, do not use.\n",
      "\n",
      "        .. deprecated:: 1.10.0\n",
      "    dtype : data-type, optional\n",
      "        Data-type of the result. By default, the return data-type will have\n",
      "        at least `numpy.float64` precision.\n",
      "\n",
      "        .. versionadded:: 1.20\n",
      "\n",
      "    Returns\n",
      "    -------\n",
      "    R : ndarray\n",
      "        The correlation coefficient matrix of the variables.\n",
      "\n",
      "    See Also\n",
      "    --------\n",
      "    cov : Covariance matrix\n",
      "\n",
      "    Notes\n",
      "    -----\n",
      "    Due to floating point rounding the resulting array may not be Hermitian,\n",
      "    the diagonal elements may not be 1, and the elements may not satisfy the\n",
      "    inequality abs(a) <= 1. The real and imaginary parts are clipped to the\n",
      "    interval [-1,  1] in an attempt to improve on that situation but is not\n",
      "    much help in the complex case.\n",
      "\n",
      "    This function accepts but discards arguments `bias` and `ddof`.  This is\n",
      "    for backwards compatibility with previous versions of this function.  These\n",
      "    arguments had no effect on the return values of the function and can be\n",
      "    safely ignored in this and previous versions of numpy.\n",
      "\n",
      "    Examples\n",
      "    --------\n",
      "    >>> import numpy as np\n",
      "\n",
      "    In this example we generate two random arrays, ``xarr`` and ``yarr``, and\n",
      "    compute the row-wise and column-wise Pearson correlation coefficients,\n",
      "    ``R``. Since ``rowvar`` is  true by  default, we first find the row-wise\n",
      "    Pearson correlation coefficients between the variables of ``xarr``.\n",
      "\n",
      "    >>> import numpy as np\n",
      "    >>> rng = np.random.default_rng(seed=42)\n",
      "    >>> xarr = rng.random((3, 3))\n",
      "    >>> xarr\n",
      "    array([[0.77395605, 0.43887844, 0.85859792],\n",
      "           [0.69736803, 0.09417735, 0.97562235],\n",
      "           [0.7611397 , 0.78606431, 0.12811363]])\n",
      "    >>> R1 = np.corrcoef(xarr)\n",
      "    >>> R1\n",
      "    array([[ 1.        ,  0.99256089, -0.68080986],\n",
      "           [ 0.99256089,  1.        , -0.76492172],\n",
      "           [-0.68080986, -0.76492172,  1.        ]])\n",
      "\n",
      "    If we add another set of variables and observations ``yarr``, we can\n",
      "    compute the row-wise Pearson correlation coefficients between the\n",
      "    variables in ``xarr`` and ``yarr``.\n",
      "\n",
      "    >>> yarr = rng.random((3, 3))\n",
      "    >>> yarr\n",
      "    array([[0.45038594, 0.37079802, 0.92676499],\n",
      "           [0.64386512, 0.82276161, 0.4434142 ],\n",
      "           [0.22723872, 0.55458479, 0.06381726]])\n",
      "    >>> R2 = np.corrcoef(xarr, yarr)\n",
      "    >>> R2\n",
      "    array([[ 1.        ,  0.99256089, -0.68080986,  0.75008178, -0.934284  ,\n",
      "            -0.99004057],\n",
      "           [ 0.99256089,  1.        , -0.76492172,  0.82502011, -0.97074098,\n",
      "            -0.99981569],\n",
      "           [-0.68080986, -0.76492172,  1.        , -0.99507202,  0.89721355,\n",
      "             0.77714685],\n",
      "           [ 0.75008178,  0.82502011, -0.99507202,  1.        , -0.93657855,\n",
      "            -0.83571711],\n",
      "           [-0.934284  , -0.97074098,  0.89721355, -0.93657855,  1.        ,\n",
      "             0.97517215],\n",
      "           [-0.99004057, -0.99981569,  0.77714685, -0.83571711,  0.97517215,\n",
      "             1.        ]])\n",
      "\n",
      "    Finally if we use the option ``rowvar=False``, the columns are now\n",
      "    being treated as the variables and we will find the column-wise Pearson\n",
      "    correlation coefficients between variables in ``xarr`` and ``yarr``.\n",
      "\n",
      "    >>> R3 = np.corrcoef(xarr, yarr, rowvar=False)\n",
      "    >>> R3\n",
      "    array([[ 1.        ,  0.77598074, -0.47458546, -0.75078643, -0.9665554 ,\n",
      "             0.22423734],\n",
      "           [ 0.77598074,  1.        , -0.92346708, -0.99923895, -0.58826587,\n",
      "            -0.44069024],\n",
      "           [-0.47458546, -0.92346708,  1.        ,  0.93773029,  0.23297648,\n",
      "             0.75137473],\n",
      "           [-0.75078643, -0.99923895,  0.93773029,  1.        ,  0.55627469,\n",
      "             0.47536961],\n",
      "           [-0.9665554 , -0.58826587,  0.23297648,  0.55627469,  1.        ,\n",
      "            -0.46666491],\n",
      "           [ 0.22423734, -0.44069024,  0.75137473,  0.47536961, -0.46666491,\n",
      "             1.        ]])\n",
      "\n"
     ]
    }
   ],
   "source": [
    "help(np.corrcoef)"
   ]
  },
  {
   "cell_type": "code",
   "execution_count": 94,
   "id": "ec4e6cf6",
   "metadata": {},
   "outputs": [
    {
     "name": "stdout",
     "output_type": "stream",
     "text": [
      "[[ 1.         -0.11756978  0.87175378  0.81794113]\n",
      " [-0.11756978  1.         -0.4284401  -0.36612593]\n",
      " [ 0.87175378 -0.4284401   1.          0.96286543]\n",
      " [ 0.81794113 -0.36612593  0.96286543  1.        ]]\n"
     ]
    }
   ],
   "source": [
    "corr = np.corrcoef(data.T)\n",
    "print(corr)"
   ]
  },
  {
   "cell_type": "code",
   "execution_count": null,
   "id": "83534b70",
   "metadata": {},
   "outputs": [],
   "source": []
  }
 ],
 "metadata": {
  "kernelspec": {
   "display_name": "mlVirt",
   "language": "python",
   "name": "mlvirt"
  },
  "language_info": {
   "codemirror_mode": {
    "name": "ipython",
    "version": 3
   },
   "file_extension": ".py",
   "mimetype": "text/x-python",
   "name": "python",
   "nbconvert_exporter": "python",
   "pygments_lexer": "ipython3",
   "version": "3.12.4"
  }
 },
 "nbformat": 4,
 "nbformat_minor": 5
}
