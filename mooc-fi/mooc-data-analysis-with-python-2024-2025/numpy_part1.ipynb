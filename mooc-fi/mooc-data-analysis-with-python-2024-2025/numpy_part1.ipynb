{
 "cells": [
  {
   "cell_type": "code",
   "execution_count": 1,
   "id": "994ab005",
   "metadata": {},
   "outputs": [],
   "source": [
    "import numpy as np"
   ]
  },
  {
   "cell_type": "markdown",
   "id": "aaa99729",
   "metadata": {},
   "source": [
    "### Creation of arrays"
   ]
  },
  {
   "cell_type": "code",
   "execution_count": 2,
   "id": "b327b7af",
   "metadata": {},
   "outputs": [],
   "source": [
    "a = np.array([1,2 , 3])  # One dimensional array"
   ]
  },
  {
   "cell_type": "code",
   "execution_count": 3,
   "id": "f954c0f3",
   "metadata": {},
   "outputs": [
    {
     "data": {
      "text/plain": [
       "(3,)"
      ]
     },
     "execution_count": 3,
     "metadata": {},
     "output_type": "execute_result"
    }
   ],
   "source": [
    "a.shape"
   ]
  },
  {
   "cell_type": "code",
   "execution_count": 4,
   "id": "8587979e",
   "metadata": {},
   "outputs": [
    {
     "data": {
      "text/plain": [
       "numpy.ndarray"
      ]
     },
     "execution_count": 4,
     "metadata": {},
     "output_type": "execute_result"
    }
   ],
   "source": [
    "type(a)"
   ]
  },
  {
   "cell_type": "code",
   "execution_count": 5,
   "id": "11494111",
   "metadata": {},
   "outputs": [],
   "source": [
    "b = np.array([[1, 2, 3], [4, 5, 6]])"
   ]
  },
  {
   "cell_type": "code",
   "execution_count": 6,
   "id": "77ca063a",
   "metadata": {},
   "outputs": [
    {
     "data": {
      "text/plain": [
       "(2, 3)"
      ]
     },
     "execution_count": 6,
     "metadata": {},
     "output_type": "execute_result"
    }
   ],
   "source": [
    "b.shape"
   ]
  },
  {
   "cell_type": "code",
   "execution_count": 7,
   "id": "03233652",
   "metadata": {},
   "outputs": [
    {
     "name": "stdout",
     "output_type": "stream",
     "text": [
      "[1 2 3]\n",
      "[4 5 6]\n"
     ]
    }
   ],
   "source": [
    "print(b[0])\n",
    "print(b[1])"
   ]
  },
  {
   "cell_type": "code",
   "execution_count": 8,
   "id": "7a932607",
   "metadata": {},
   "outputs": [
    {
     "name": "stdout",
     "output_type": "stream",
     "text": [
      "[[1 2]\n",
      " [3 4]\n",
      " [5 6]]\n"
     ]
    }
   ],
   "source": [
    "b_reshaped = b.reshape(-1,2)\n",
    "print(b_reshaped)"
   ]
  },
  {
   "cell_type": "code",
   "execution_count": 9,
   "id": "dc15f10b",
   "metadata": {},
   "outputs": [
    {
     "name": "stdout",
     "output_type": "stream",
     "text": [
      "[[0 0 0 0]\n",
      " [0 0 0 0]\n",
      " [0 0 0 0]]\n"
     ]
    }
   ],
   "source": [
    "zeros = np.zeros(shape=(3, 4), dtype=int)\n",
    "print(zeros)"
   ]
  },
  {
   "cell_type": "code",
   "execution_count": 10,
   "id": "398ceb84",
   "metadata": {},
   "outputs": [
    {
     "name": "stdout",
     "output_type": "stream",
     "text": [
      "[[1 1 1]\n",
      " [1 1 1]]\n"
     ]
    }
   ],
   "source": [
    "ones = np.ones(shape=(2, 3), dtype=int)\n",
    "print(ones)"
   ]
  },
  {
   "cell_type": "code",
   "execution_count": 11,
   "id": "fdad5e6b",
   "metadata": {},
   "outputs": [
    {
     "name": "stdout",
     "output_type": "stream",
     "text": [
      "[[7 7 7]\n",
      " [7 7 7]\n",
      " [7 7 7]]\n"
     ]
    }
   ],
   "source": [
    "sevens = np.full(shape=(3, 3), fill_value=7)\n",
    "print(sevens)"
   ]
  },
  {
   "cell_type": "code",
   "execution_count": 12,
   "id": "d8ae3fae",
   "metadata": {},
   "outputs": [
    {
     "name": "stdout",
     "output_type": "stream",
     "text": [
      "[7 7 7 7 7 7 7 7 7]\n"
     ]
    }
   ],
   "source": [
    "print(sevens.flatten())"
   ]
  },
  {
   "cell_type": "code",
   "execution_count": 13,
   "id": "f12d6a85",
   "metadata": {},
   "outputs": [
    {
     "name": "stdout",
     "output_type": "stream",
     "text": [
      "[[3.5e-323 3.5e-323 3.5e-323]\n",
      " [3.5e-323 3.5e-323 3.5e-323]\n",
      " [3.5e-323 3.5e-323 3.5e-323]]\n"
     ]
    }
   ],
   "source": [
    "empty = np.empty((3, 3))\n",
    "print(empty)"
   ]
  },
  {
   "cell_type": "code",
   "execution_count": 14,
   "id": "dd03737f",
   "metadata": {},
   "outputs": [
    {
     "name": "stdout",
     "output_type": "stream",
     "text": [
      "[[1 0 0]\n",
      " [0 1 0]\n",
      " [0 0 1]]\n"
     ]
    }
   ],
   "source": [
    "I3 = np.eye(M=3, N=3, dtype=int)\n",
    "print(I3)"
   ]
  },
  {
   "cell_type": "code",
   "execution_count": 15,
   "id": "605e78c6",
   "metadata": {},
   "outputs": [
    {
     "name": "stdout",
     "output_type": "stream",
     "text": [
      "[0 1 2 3 4 5 6 7 8 9]\n"
     ]
    }
   ],
   "source": [
    "arange = np.arange(start=0, stop=10, step=1)  # arange is used for integer ranges\n",
    "print(arange)"
   ]
  },
  {
   "cell_type": "code",
   "execution_count": 16,
   "id": "73911e4b",
   "metadata": {},
   "outputs": [
    {
     "name": "stdout",
     "output_type": "stream",
     "text": [
      "[0.         0.03173326 0.06346652 0.09519978 0.12693304 0.1586663\n",
      " 0.19039955 0.22213281 0.25386607 0.28559933 0.31733259 0.34906585\n",
      " 0.38079911 0.41253237 0.44426563 0.47599889 0.50773215 0.53946541\n",
      " 0.57119866 0.60293192 0.63466518 0.66639844 0.6981317  0.72986496\n",
      " 0.76159822 0.79333148 0.82506474 0.856798   0.88853126 0.92026451\n",
      " 0.95199777 0.98373103 1.01546429 1.04719755 1.07893081 1.11066407\n",
      " 1.14239733 1.17413059 1.20586385 1.23759711 1.26933037 1.30106362\n",
      " 1.33279688 1.36453014 1.3962634  1.42799666 1.45972992 1.49146318\n",
      " 1.52319644 1.5549297  1.58666296 1.61839622 1.65012947 1.68186273\n",
      " 1.71359599 1.74532925 1.77706251 1.80879577 1.84052903 1.87226229\n",
      " 1.90399555 1.93572881 1.96746207 1.99919533 2.03092858 2.06266184\n",
      " 2.0943951  2.12612836 2.15786162 2.18959488 2.22132814 2.2530614\n",
      " 2.28479466 2.31652792 2.34826118 2.37999443 2.41172769 2.44346095\n",
      " 2.47519421 2.50692747 2.53866073 2.57039399 2.60212725 2.63386051\n",
      " 2.66559377 2.69732703 2.72906028 2.76079354 2.7925268  2.82426006\n",
      " 2.85599332 2.88772658 2.91945984 2.9511931  2.98292636 3.01465962\n",
      " 3.04639288 3.07812614 3.10985939 3.14159265]\n"
     ]
    }
   ],
   "source": [
    "linspace = np.linspace(start=0, stop=np.pi, num=100)  # Evenly spaced range with 5 elements\n",
    "print(linspace)"
   ]
  },
  {
   "cell_type": "markdown",
   "id": "f8f3c077",
   "metadata": {},
   "source": [
    "### Arrays with random elements"
   ]
  },
  {
   "cell_type": "code",
   "execution_count": 17,
   "id": "8286bc9f",
   "metadata": {},
   "outputs": [
    {
     "name": "stdout",
     "output_type": "stream",
     "text": [
      "[[0.28683254 0.73154932 0.05903206]\n",
      " [0.96359784 0.03092652 0.50429977]\n",
      " [0.60277854 0.16468322 0.82160868]]\n"
     ]
    }
   ],
   "source": [
    "arr = np.random.random((3, 3))  # Elements are uniformly distributed from half-open interval [0.0,1.0)\n",
    "print(arr)"
   ]
  },
  {
   "cell_type": "code",
   "execution_count": 18,
   "id": "80b1401d",
   "metadata": {},
   "outputs": [
    {
     "name": "stdout",
     "output_type": "stream",
     "text": [
      "[[-1.64989639  1.53782016  0.81755906 -0.66258298]\n",
      " [ 0.24618726 -0.95750338 -0.41470693 -0.49453053]\n",
      " [-0.88119929 -0.21684333  0.08660031 -0.30039352]\n",
      " [ 0.11840293  1.104486    0.10870406 -1.06796931]]\n"
     ]
    }
   ],
   "source": [
    "arrnormal = np.random.normal(0, 1, (4, 4))  # Elements are normally distributed with mean 0 and stdev 1\n",
    "print(arrnormal)"
   ]
  },
  {
   "cell_type": "code",
   "execution_count": 19,
   "id": "693f942b",
   "metadata": {},
   "outputs": [
    {
     "name": "stdout",
     "output_type": "stream",
     "text": [
      "[[ 6 -4 -2]\n",
      " [ 5 -1 -2]\n",
      " [-7  7 -3]]\n"
     ]
    }
   ],
   "source": [
    "arrint = np.random.randint(low=-10, high=10, size=(3, 3))\n",
    "print(arrint)"
   ]
  },
  {
   "cell_type": "markdown",
   "id": "b6113c1e",
   "metadata": {},
   "source": [
    "### Random Generator"
   ]
  },
  {
   "cell_type": "code",
   "execution_count": 20,
   "id": "948f1cd4",
   "metadata": {},
   "outputs": [],
   "source": [
    "rng = np.random.default_rng(seed=42)"
   ]
  },
  {
   "cell_type": "code",
   "execution_count": 21,
   "id": "add2a12b",
   "metadata": {},
   "outputs": [
    {
     "name": "stdout",
     "output_type": "stream",
     "text": [
      "[ 8 77 65 43 43 85  8 69 20  9]\n"
     ]
    }
   ],
   "source": [
    "print(rng.integers(0, 100, 10))"
   ]
  },
  {
   "cell_type": "code",
   "execution_count": 22,
   "id": "ada0e56b",
   "metadata": {},
   "outputs": [
    {
     "name": "stdout",
     "output_type": "stream",
     "text": [
      "[[  5  95  47  52  43]\n",
      " [ 57   2 -75  67 -10]\n",
      " [  0 -26 -64  85  56]\n",
      " [ 28 -20  64   9 -12]\n",
      " [-10 -55 -82  10  77]]\n"
     ]
    }
   ],
   "source": [
    "print(rng.integers(-100, 100, (5, 5)))"
   ]
  },
  {
   "cell_type": "code",
   "execution_count": 23,
   "id": "5ba76699",
   "metadata": {},
   "outputs": [
    {
     "name": "stdout",
     "output_type": "stream",
     "text": [
      "[[ 2.7569006   0.90014818  0.63027527]\n",
      " [-0.36185909  3.44508268  0.69094104]\n",
      " [ 0.14334436  0.2957329   2.06461837]]\n"
     ]
    }
   ],
   "source": [
    "print(rng.normal(1, 2, (3, 3)))  # 3x3 array normally distributed with mean 1 and stdev 2"
   ]
  },
  {
   "cell_type": "code",
   "execution_count": 24,
   "id": "5f623108",
   "metadata": {},
   "outputs": [
    {
     "name": "stdout",
     "output_type": "stream",
     "text": [
      "[[ 0.36544406  0.41273261  0.430821  ]\n",
      " [ 2.1416476  -0.40641502 -0.51224273]\n",
      " [-0.81377273  0.61597942  1.12897229]]\n"
     ]
    }
   ],
   "source": [
    "print(rng.standard_normal(size=(3, 3)))  # 3x3 array normaly distributed"
   ]
  },
  {
   "cell_type": "markdown",
   "id": "84b016e9",
   "metadata": {},
   "source": [
    "### Array types and atributes"
   ]
  },
  {
   "cell_type": "code",
   "execution_count": 25,
   "id": "b984a597",
   "metadata": {},
   "outputs": [],
   "source": [
    "def info(a: np.ndarray): \n",
    "    print(\"Dimension:\", a.ndim)\n",
    "    print(\"Shape [n x m]:\", a.shape)\n",
    "    print(\"Size [n * m]:\", a.size)\n",
    "    print(\"dtype:\", a.dtype)\n",
    "    for row in a: \n",
    "        print(row)\n",
    "    print()"
   ]
  },
  {
   "cell_type": "code",
   "execution_count": 26,
   "id": "d80d9837",
   "metadata": {},
   "outputs": [
    {
     "name": "stdout",
     "output_type": "stream",
     "text": [
      "Dimension: 2\n",
      "Shape [n x m]: (2, 3)\n",
      "Size [n * m]: 6\n",
      "dtype: int64\n",
      "[1 2 3]\n",
      "[4 5 6]\n",
      "\n"
     ]
    }
   ],
   "source": [
    "info(b)"
   ]
  },
  {
   "cell_type": "code",
   "execution_count": 27,
   "id": "8d55847a",
   "metadata": {},
   "outputs": [
    {
     "name": "stdout",
     "output_type": "stream",
     "text": [
      "Dimension: 3\n",
      "Shape [n x m]: (2, 2, 3)\n",
      "Size [n * m]: 12\n",
      "dtype: int64\n",
      "[[1 2 3]\n",
      " [4 5 6]]\n",
      "[[1 2 3]\n",
      " [4 5 6]]\n",
      "\n"
     ]
    }
   ],
   "source": [
    "c = np.array([b, b])\n",
    "info(c)"
   ]
  },
  {
   "cell_type": "code",
   "execution_count": 28,
   "id": "f332a8c5",
   "metadata": {},
   "outputs": [
    {
     "name": "stdout",
     "output_type": "stream",
     "text": [
      "Dimension: 1\n",
      "Shape [n x m]: (4,)\n",
      "Size [n * m]: 4\n",
      "dtype: int64\n",
      "1\n",
      "2\n",
      "3\n",
      "4\n",
      "\n"
     ]
    }
   ],
   "source": [
    "row = np.array([1, 2, 3, 4])\n",
    "info(row)"
   ]
  },
  {
   "cell_type": "code",
   "execution_count": 29,
   "id": "cbcab000",
   "metadata": {},
   "outputs": [
    {
     "name": "stdout",
     "output_type": "stream",
     "text": [
      "Dimension: 2\n",
      "Shape [n x m]: (4, 1)\n",
      "Size [n * m]: 4\n",
      "dtype: int64\n",
      "[1]\n",
      "[2]\n",
      "[3]\n",
      "[4]\n",
      "\n"
     ]
    }
   ],
   "source": [
    "col = row.reshape(-1, 1)\n",
    "info(col)"
   ]
  },
  {
   "cell_type": "code",
   "execution_count": 30,
   "id": "920fe05b",
   "metadata": {},
   "outputs": [
    {
     "name": "stdout",
     "output_type": "stream",
     "text": [
      "Dimension: 2\n",
      "Shape [n x m]: (1, 4)\n",
      "Size [n * m]: 4\n",
      "dtype: int64\n",
      "[1 2 3 4]\n",
      "\n"
     ]
    }
   ],
   "source": [
    "info(col.reshape(1, -1))"
   ]
  },
  {
   "cell_type": "markdown",
   "id": "534401dd",
   "metadata": {},
   "source": [
    "### Indexing, slicing and reshaping"
   ]
  },
  {
   "cell_type": "code",
   "execution_count": 31,
   "id": "dd2cbb87",
   "metadata": {},
   "outputs": [
    {
     "name": "stdout",
     "output_type": "stream",
     "text": [
      "Dimension: 2\n",
      "Shape [n x m]: (3, 3)\n",
      "Size [n * m]: 9\n",
      "dtype: int64\n",
      "[1 2 3]\n",
      "[4 5 6]\n",
      "[7 8 9]\n",
      "\n"
     ]
    }
   ],
   "source": [
    "t = np.arange(1, 10).reshape(3, 3)\n",
    "info(t)"
   ]
  },
  {
   "cell_type": "code",
   "execution_count": 32,
   "id": "889b3583",
   "metadata": {},
   "outputs": [
    {
     "name": "stdout",
     "output_type": "stream",
     "text": [
      "4\n",
      "8\n"
     ]
    }
   ],
   "source": [
    "print(t[1, 0])\n",
    "print(t[-1, 1])"
   ]
  },
  {
   "cell_type": "code",
   "execution_count": 33,
   "id": "3bec382f",
   "metadata": {},
   "outputs": [
    {
     "name": "stdout",
     "output_type": "stream",
     "text": [
      "[[1]\n",
      " [4]\n",
      " [7]]\n"
     ]
    }
   ],
   "source": [
    "print(t[:, 0].reshape(-1, 1))"
   ]
  },
  {
   "cell_type": "code",
   "execution_count": 34,
   "id": "8c0132c6",
   "metadata": {},
   "outputs": [
    {
     "name": "stdout",
     "output_type": "stream",
     "text": [
      "[[1 2 3]\n",
      " [4 5 6]\n",
      " [7 8 9]]\n"
     ]
    }
   ],
   "source": [
    "print(t[0:3, :])"
   ]
  },
  {
   "cell_type": "code",
   "execution_count": 35,
   "id": "0928fdf2",
   "metadata": {},
   "outputs": [
    {
     "name": "stdout",
     "output_type": "stream",
     "text": [
      "[[2 3]\n",
      " [5 6]\n",
      " [8 9]]\n"
     ]
    }
   ],
   "source": [
    "print(t[:, 1:].reshape(-1, 2))"
   ]
  },
  {
   "cell_type": "code",
   "execution_count": 36,
   "id": "abaa1d38",
   "metadata": {},
   "outputs": [
    {
     "name": "stdout",
     "output_type": "stream",
     "text": [
      "Dimension: 2\n",
      "Shape [n x m]: (3, 3)\n",
      "Size [n * m]: 9\n",
      "dtype: int64\n",
      "[1 2 3]\n",
      "[4 5 6]\n",
      "[ 7  8 10]\n",
      "\n"
     ]
    }
   ],
   "source": [
    "t[-1, -1] = 10\n",
    "info(t)"
   ]
  },
  {
   "cell_type": "code",
   "execution_count": 37,
   "id": "546211d1",
   "metadata": {},
   "outputs": [
    {
     "name": "stdout",
     "output_type": "stream",
     "text": [
      "Dimension: 2\n",
      "Shape [n x m]: (3, 3)\n",
      "Size [n * m]: 9\n",
      "dtype: int64\n",
      "[0 0 0]\n",
      "[4 5 6]\n",
      "[ 7  8 10]\n",
      "\n"
     ]
    }
   ],
   "source": [
    "t[0, :] = 0\n",
    "info(t)"
   ]
  },
  {
   "cell_type": "code",
   "execution_count": 38,
   "id": "f235c979",
   "metadata": {},
   "outputs": [
    {
     "name": "stdout",
     "output_type": "stream",
     "text": [
      "Dimension: 2\n",
      "Shape [n x m]: (3, 3)\n",
      "Size [n * m]: 9\n",
      "dtype: int64\n",
      "[0 4 1]\n",
      "[6 4 3]\n",
      "[2 5 6]\n",
      "\n"
     ]
    }
   ],
   "source": [
    "randten = rng.integers(0, 10, size=(3,3))\n",
    "info(randten)"
   ]
  },
  {
   "cell_type": "code",
   "execution_count": 39,
   "id": "582916c5",
   "metadata": {},
   "outputs": [
    {
     "name": "stdout",
     "output_type": "stream",
     "text": [
      "Dimension: 1\n",
      "Shape [n x m]: (4,)\n",
      "Size [n * m]: 4\n",
      "dtype: int64\n",
      "0\n",
      "1\n",
      "2\n",
      "3\n",
      "\n",
      "Dimension: 2\n",
      "Shape [n x m]: (1, 4)\n",
      "Size [n * m]: 4\n",
      "dtype: int64\n",
      "[0 1 2 3]\n",
      "\n",
      "Dimension: 2\n",
      "Shape [n x m]: (4, 1)\n",
      "Size [n * m]: 4\n",
      "dtype: int64\n",
      "[0]\n",
      "[1]\n",
      "[2]\n",
      "[3]\n",
      "\n"
     ]
    }
   ],
   "source": [
    "d = np.arange(4)  # 1d array\n",
    "drow = d.reshape(1, -1)  # Row vector\n",
    "dcol = d.reshape(-1, 1)  # Col vector\n",
    "\n",
    "info(d)\n",
    "info(drow)\n",
    "info(dcol)"
   ]
  },
  {
   "cell_type": "code",
   "execution_count": 40,
   "id": "a081e84d",
   "metadata": {},
   "outputs": [
    {
     "name": "stdout",
     "output_type": "stream",
     "text": [
      "Dimension: 2\n",
      "Shape [n x m]: (2, 2)\n",
      "Size [n * m]: 4\n",
      "dtype: int64\n",
      "[0 1]\n",
      "[2 3]\n",
      "\n"
     ]
    }
   ],
   "source": [
    "dd = d.reshape(2, 2)  # 2x2 matrix\n",
    "info(dd)"
   ]
  },
  {
   "cell_type": "markdown",
   "id": "b5b32b8f",
   "metadata": {},
   "source": [
    "## E2.1\n",
    "\n",
    "Write two functions, get_rows and get_columns, that get a two dimensional array as parameter. They should return the list of rows and columns of the array, respectively. The rows and columns should be one dimensional arrays. "
   ]
  },
  {
   "cell_type": "code",
   "execution_count": 41,
   "id": "acc00efb",
   "metadata": {},
   "outputs": [],
   "source": [
    "def get_rows(arr: np.ndarray):\n",
    "    return [row for row in arr]\n",
    "\n",
    "def get_columns(arr: np.ndarray): \n",
    "    return [col for col in arr.T]"
   ]
  },
  {
   "cell_type": "code",
   "execution_count": 42,
   "id": "8223a8e1",
   "metadata": {},
   "outputs": [],
   "source": [
    "a = np.array([[5, 0, 3, 3],\n",
    " [7, 9, 3, 5],\n",
    " [2, 4, 7, 6],\n",
    " [8, 8, 1, 6]])"
   ]
  },
  {
   "cell_type": "code",
   "execution_count": 43,
   "id": "87505486",
   "metadata": {},
   "outputs": [
    {
     "data": {
      "text/plain": [
       "[array([5, 0, 3, 3]),\n",
       " array([7, 9, 3, 5]),\n",
       " array([2, 4, 7, 6]),\n",
       " array([8, 8, 1, 6])]"
      ]
     },
     "execution_count": 43,
     "metadata": {},
     "output_type": "execute_result"
    }
   ],
   "source": [
    "get_rows(a)"
   ]
  },
  {
   "cell_type": "code",
   "execution_count": 44,
   "id": "5e394934",
   "metadata": {},
   "outputs": [
    {
     "data": {
      "text/plain": [
       "[array([5, 7, 2, 8]),\n",
       " array([0, 9, 4, 8]),\n",
       " array([3, 3, 7, 1]),\n",
       " array([3, 5, 6, 6])]"
      ]
     },
     "execution_count": 44,
     "metadata": {},
     "output_type": "execute_result"
    }
   ],
   "source": [
    "get_columns(a)"
   ]
  },
  {
   "cell_type": "markdown",
   "id": "3964ee81",
   "metadata": {},
   "source": [
    "### Array concatenation, splitting and stacking"
   ]
  },
  {
   "cell_type": "code",
   "execution_count": 45,
   "id": "35513729",
   "metadata": {},
   "outputs": [
    {
     "name": "stdout",
     "output_type": "stream",
     "text": [
      "(2,) (3,)\n",
      "[0 1 2 3 4]\n"
     ]
    }
   ],
   "source": [
    "a = np.arange(2)\n",
    "b = np.arange(2, 5)\n",
    "\n",
    "print(a.shape, b.shape)\n",
    "\n",
    "print(np.concatenate((a, b)))  # a + b: error"
   ]
  },
  {
   "cell_type": "code",
   "execution_count": 46,
   "id": "8afb4807",
   "metadata": {},
   "outputs": [
    {
     "name": "stdout",
     "output_type": "stream",
     "text": [
      "[[1 2]\n",
      " [3 4]]\n",
      "\n",
      "(2, 2)\n"
     ]
    }
   ],
   "source": [
    "\n",
    "c = np.arange(1, 5).reshape(2, 2)\n",
    "print(c, c.shape, sep=\"\\n\\n\")"
   ]
  },
  {
   "cell_type": "code",
   "execution_count": 47,
   "id": "51687e43",
   "metadata": {},
   "outputs": [
    {
     "name": "stdout",
     "output_type": "stream",
     "text": [
      "[[1 2]\n",
      " [3 4]\n",
      " [1 2]\n",
      " [3 4]]\n"
     ]
    }
   ],
   "source": [
    "print(np.concatenate((c, c)))"
   ]
  },
  {
   "cell_type": "code",
   "execution_count": 48,
   "id": "10560eae",
   "metadata": {},
   "outputs": [
    {
     "name": "stdout",
     "output_type": "stream",
     "text": [
      "[[1 2 1 2]\n",
      " [3 4 3 4]]\n"
     ]
    }
   ],
   "source": [
    "print(np.concatenate((c, c), axis=1))"
   ]
  },
  {
   "cell_type": "code",
   "execution_count": 49,
   "id": "b8320e61",
   "metadata": {},
   "outputs": [
    {
     "name": "stdout",
     "output_type": "stream",
     "text": [
      "Dimension: 2\n",
      "Shape [n x m]: (1, 2)\n",
      "Size [n * m]: 2\n",
      "dtype: int64\n",
      "[0 1]\n",
      "\n",
      "[[1 2]\n",
      " [3 4]\n",
      " [0 1]] \n",
      "\n",
      "[[1 2 0]\n",
      " [3 4 1]]\n"
     ]
    }
   ],
   "source": [
    "info(a.reshape(1, -1))\n",
    "print(np.concatenate( (c,a.reshape(1,2)) ), \"\\n\")\n",
    "print(np.concatenate( (c, a.reshape(2, 1)), axis=1))"
   ]
  },
  {
   "cell_type": "code",
   "execution_count": 50,
   "id": "0c5468be",
   "metadata": {},
   "outputs": [
    {
     "name": "stdout",
     "output_type": "stream",
     "text": [
      "Dimension: 1\n",
      "Shape [n x m]: (3,)\n",
      "Size [n * m]: 3\n",
      "dtype: int64\n",
      "2\n",
      "3\n",
      "4\n",
      "\n",
      "Dimension: 2\n",
      "Shape [n x m]: (2, 3)\n",
      "Size [n * m]: 6\n",
      "dtype: int64\n",
      "[2 3 4]\n",
      "[2 3 4]\n",
      "\n",
      "Dimension: 2\n",
      "Shape [n x m]: (3, 2)\n",
      "Size [n * m]: 6\n",
      "dtype: int64\n",
      "[2 2]\n",
      "[3 3]\n",
      "[4 4]\n",
      "\n"
     ]
    }
   ],
   "source": [
    "info(b)\n",
    "bstack_row = np.stack((b, b))\n",
    "info(bstack_row)\n",
    "bstack_col = np.stack((b, b), axis=1)\n",
    "info(bstack_col)"
   ]
  },
  {
   "cell_type": "code",
   "execution_count": 51,
   "id": "04742054",
   "metadata": {},
   "outputs": [
    {
     "name": "stdout",
     "output_type": "stream",
     "text": [
      "[[0 1 2]\n",
      " [3 4 5]\n",
      " [6 7 8]] \n",
      "\n",
      "[[0 3 6]\n",
      " [1 4 7]\n",
      " [2 5 8]]\n"
     ]
    }
   ],
   "source": [
    "# Column stack\n",
    "a = np.arange(9).reshape(3, 3)\n",
    "print(a, \"\\n\")\n",
    "lst = [row for row in a]\n",
    "b = np.column_stack(lst)\n",
    "print(b)"
   ]
  },
  {
   "cell_type": "code",
   "execution_count": 52,
   "id": "8c4441ab",
   "metadata": {},
   "outputs": [
    {
     "name": "stdout",
     "output_type": "stream",
     "text": [
      "Dimension: 2\n",
      "Shape [n x m]: (6, 2)\n",
      "Size [n * m]: 12\n",
      "dtype: int64\n",
      "[0 1]\n",
      "[2 3]\n",
      "[4 5]\n",
      "[6 7]\n",
      "[8 9]\n",
      "[10 11]\n",
      "\n",
      "Dimension: 2\n",
      "Shape [n x m]: (3, 2)\n",
      "Size [n * m]: 6\n",
      "dtype: int64\n",
      "[0 1]\n",
      "[2 3]\n",
      "[4 5]\n",
      "\n",
      "Dimension: 2\n",
      "Shape [n x m]: (3, 2)\n",
      "Size [n * m]: 6\n",
      "dtype: int64\n",
      "[6 7]\n",
      "[8 9]\n",
      "[10 11]\n",
      "\n"
     ]
    }
   ],
   "source": [
    "d = np.arange(12).reshape(6, 2)\n",
    "info(d)\n",
    "\n",
    "d1, d2 = np.split(d, 2, axis=0)\n",
    "info(d1)\n",
    "info(d2)"
   ]
  },
  {
   "cell_type": "code",
   "execution_count": 53,
   "id": "9992c194",
   "metadata": {},
   "outputs": [
    {
     "name": "stdout",
     "output_type": "stream",
     "text": [
      "Dimension: 2\n",
      "Shape [n x m]: (2, 6)\n",
      "Size [n * m]: 12\n",
      "dtype: int64\n",
      "[0 1 2 3 4 5]\n",
      "[ 6  7  8  9 10 11]\n",
      "\n",
      "part 0:\n",
      "[[0 1]\n",
      " [6 7]]\n",
      "part 1:\n",
      "[[2]\n",
      " [8]]\n",
      "part 2:\n",
      "[[ 3  4]\n",
      " [ 9 10]]\n",
      "part 3:\n",
      "[[ 5]\n",
      " [11]]\n"
     ]
    }
   ],
   "source": [
    "info(d.reshape(2, 6))\n",
    "parts = np.split(d.reshape(2, 6), (2, 3, 5), axis=1)\n",
    "for i, p in enumerate(parts):\n",
    "    print(\"part %i:\" % i)\n",
    "    print(p)\n"
   ]
  },
  {
   "cell_type": "markdown",
   "id": "ce0d845a",
   "metadata": {},
   "source": [
    "## E2.12 (row and column vectors)\n",
    "\n",
    "Create function get_row_vectors that returns a list of rows from the input array of shape (n,m), but this time the rows must have shape (1,m). Similarly, create function get_columns_vectors that returns a list of columns (each having shape (n,1)) of the input matrix ."
   ]
  },
  {
   "cell_type": "code",
   "execution_count": 54,
   "id": "b05e3f60",
   "metadata": {},
   "outputs": [],
   "source": [
    "def get_row_vectors(arr: np.ndarray):\n",
    "    return [row for row in arr]\n",
    "\n",
    "def get_column_vectors(arr: np.ndarray): \n",
    "    return [col.reshape(-1, 1) for col in arr.T]"
   ]
  },
  {
   "cell_type": "code",
   "execution_count": 55,
   "id": "75dee42b",
   "metadata": {},
   "outputs": [
    {
     "name": "stdout",
     "output_type": "stream",
     "text": [
      "Dimension: 2\n",
      "Shape [n x m]: (2, 3)\n",
      "Size [n * m]: 6\n",
      "dtype: int64\n",
      "[5 0 3]\n",
      "[3 7 9]\n",
      "\n",
      "[array([5, 0, 3]), array([3, 7, 9])]\n",
      "[array([[5],\n",
      "       [3]]), array([[0],\n",
      "       [7]]), array([[3],\n",
      "       [9]])]\n"
     ]
    }
   ],
   "source": [
    "a = np.array([[5, 0, 3], [3, 7, 9]])\n",
    "info(a)\n",
    "\n",
    "print(get_row_vectors(a))\n",
    "print(get_column_vectors(a))"
   ]
  },
  {
   "cell_type": "markdown",
   "id": "ed6fe905",
   "metadata": {},
   "source": [
    "### Fast computations using universal functions"
   ]
  },
  {
   "cell_type": "code",
   "execution_count": 56,
   "id": "deb087f8",
   "metadata": {},
   "outputs": [
    {
     "name": "stdout",
     "output_type": "stream",
     "text": [
      "[ 4.2 10.  34.4]\n",
      "[ 2  5 17]\n"
     ]
    }
   ],
   "source": [
    "a = np.array([2.1, 5.0, 17.2])\n",
    "a2 = 2 * a\n",
    "print(a2)\n",
    "print((a2 // 2).astype(int))"
   ]
  },
  {
   "cell_type": "code",
   "execution_count": 57,
   "id": "4b0c654e",
   "metadata": {},
   "outputs": [
    {
     "name": "stdout",
     "output_type": "stream",
     "text": [
      "[   4.41   -80.    -710.016]\n"
     ]
    }
   ],
   "source": [
    "b = np.array([-1, 3.2, 2.4])\n",
    "print(-a**2 * b)"
   ]
  },
  {
   "cell_type": "code",
   "execution_count": 58,
   "id": "1befe2fd",
   "metadata": {},
   "outputs": [
    {
     "name": "stdout",
     "output_type": "stream",
     "text": [
      "[1.  3.2 2.4]\n",
      "[ 0.54030231 -0.99829478 -0.73739372]\n",
      "[ 0.36787944 24.5325302  11.02317638]\n",
      "[0.         1.67807191 1.26303441]\n"
     ]
    }
   ],
   "source": [
    "print(np.abs(b))\n",
    "print(np.cos(b))\n",
    "print(np.exp(b))\n",
    "print(np.log2(np.abs(b)))"
   ]
  },
  {
   "attachments": {
    "image.png": {
     "image/png": "[encoded data removed]"
    }
   },
   "cell_type": "markdown",
   "id": "b1f57eee",
   "metadata": {},
   "source": [
    "### Agregations\n",
    "\n",
    "![image.png](attachment:image.png)"
   ]
  },
  {
   "cell_type": "code",
   "execution_count": 59,
   "id": "cbec37e5",
   "metadata": {},
   "outputs": [
    {
     "name": "stdout",
     "output_type": "stream",
     "text": [
      "Dimension: 2\n",
      "Shape [n x m]: (4, 5)\n",
      "Size [n * m]: 20\n",
      "dtype: int64\n",
      "[ 8 -2 -7  6  2]\n",
      "[ 4 -9 -4  5  6]\n",
      "[-2  6  6 -3  7]\n",
      "[-5 -6  3  2 -8]\n",
      "\n"
     ]
    }
   ],
   "source": [
    "a = rng.integers(-10, 10, (4, 5))\n",
    "info(a)"
   ]
  },
  {
   "cell_type": "code",
   "execution_count": 60,
   "id": "552c6958",
   "metadata": {},
   "outputs": [
    {
     "name": "stdout",
     "output_type": "stream",
     "text": [
      "Minimum: -9, Maximum: 8\n",
      "Sum: 9\n",
      "Mean: 0.45, standard deviation: 5.47243090408641\n"
     ]
    }
   ],
   "source": [
    "print(f\"Minimum: {a.min()}, Maximum: {a.max()}\")\n",
    "print(f\"Sum: {a.sum()}\")\n",
    "print(f\"Mean: {a.mean()}, standard deviation: {a.std()}\")"
   ]
  },
  {
   "cell_type": "code",
   "execution_count": 61,
   "id": "abfee2bc",
   "metadata": {},
   "outputs": [
    {
     "name": "stdout",
     "output_type": "stream",
     "text": [
      "Column sums:  [  5 -11  -2  10   7]\n",
      "Row sums:  [  7   2  14 -14]\n"
     ]
    }
   ],
   "source": [
    "print(\"Column sums: \", a.sum(axis=0))\n",
    "print(\"Row sums: \", a.sum(axis=1))"
   ]
  },
  {
   "cell_type": "code",
   "execution_count": 62,
   "id": "cc8080ac",
   "metadata": {},
   "outputs": [
    {
     "name": "stdout",
     "output_type": "stream",
     "text": [
      "Max in cols:  [8 6 6 6 7]\n",
      "Max in rows:  [8 6 7 3]\n"
     ]
    }
   ],
   "source": [
    "print(\"Max in cols: \", a.max(axis=0))\n",
    "print(\"Max in rows: \", a.max(axis=1))"
   ]
  },
  {
   "cell_type": "code",
   "execution_count": 63,
   "id": "60579ee0",
   "metadata": {},
   "outputs": [
    {
     "name": "stdout",
     "output_type": "stream",
     "text": [
      "5.26 μs ± 709 ns per loop (mean ± std. dev. of 7 runs, 100,000 loops each)\n"
     ]
    }
   ],
   "source": [
    "a = np.arange(100)\n",
    "%timeit np.sum(a)"
   ]
  },
  {
   "cell_type": "code",
   "execution_count": 64,
   "id": "a348ba1d",
   "metadata": {},
   "outputs": [
    {
     "name": "stdout",
     "output_type": "stream",
     "text": [
      "10.8 μs ± 951 ns per loop (mean ± std. dev. of 7 runs, 100,000 loops each)\n"
     ]
    }
   ],
   "source": [
    "%timeit sum(a)"
   ]
  },
  {
   "cell_type": "markdown",
   "id": "62d4d204",
   "metadata": {},
   "source": [
    "## E2.14 (Vector lengths)\n",
    "\n",
    "Write function vector_lengths that gets a two dimensional array of shape (n,m) as a parameter. Each row in this array corresponds to a vector. The function should return an array of shape (n,), that has the length of each vector in the input. The length is defined by the usual Euclidean norm (Wikipedia). Don't use loops at all in your solution. Instead use vectorized operations. You must use at least the np.sum and the np.sqrt functions. You can't use the function scipy.linalg.norm. "
   ]
  },
  {
   "cell_type": "code",
   "execution_count": 70,
   "id": "3178102e",
   "metadata": {},
   "outputs": [],
   "source": [
    "import scipy.linalg as linalg"
   ]
  },
  {
   "cell_type": "code",
   "execution_count": 92,
   "id": "bfe89a79",
   "metadata": {},
   "outputs": [],
   "source": [
    "def vector_lengths(arr: np.ndarray):\n",
    "    return np.sqrt(np.sum(arr**2, axis=1))"
   ]
  },
  {
   "cell_type": "code",
   "execution_count": 83,
   "id": "7521875d",
   "metadata": {},
   "outputs": [
    {
     "name": "stdout",
     "output_type": "stream",
     "text": [
      "Dimension: 2\n",
      "Shape [n x m]: (2, 6)\n",
      "Size [n * m]: 12\n",
      "dtype: int64\n",
      "[0 1 2 3 4 5]\n",
      "[ 6  7  8  9 10 11]\n",
      "\n"
     ]
    }
   ],
   "source": [
    "d = np.arange(12).reshape(2, 6)\n",
    "info(d)"
   ]
  },
  {
   "cell_type": "code",
   "execution_count": 93,
   "id": "e6ad384c",
   "metadata": {},
   "outputs": [
    {
     "name": "stdout",
     "output_type": "stream",
     "text": [
      "[ 7.41619849 21.23676058]\n",
      "[ 7.41619849 21.23676058]\n"
     ]
    }
   ],
   "source": [
    "print(vector_lengths(d))\n",
    "print(linalg.norm(d, axis=1))"
   ]
  },
  {
   "cell_type": "markdown",
   "id": "ebea030b",
   "metadata": {},
   "source": [
    "### 2.15 (vector angles)\n",
    "Write function vector_angles that gets two arrays X and Y with same shape (n,m) as parameters. Each row in the arrays corresponds to a vector. The function should return vector of shape (n,) with the corresponding angles between vectors of X and Y in degrees, not in radians. Again, don't use loops, but use vectorized operations.\n",
    "\n"
   ]
  },
  {
   "cell_type": "code",
   "execution_count": 115,
   "id": "f248de82",
   "metadata": {},
   "outputs": [],
   "source": [
    "def vector_angles(a: np.ndarray, b: np.ndarray): \n",
    "    dots = np.sum(a * b, axis=1)\n",
    "    norm_a = np.sum(a**2, axis=1)\n",
    "    norm_b = np.sum(b**2, axis=1)\n",
    "    alpha = dots / (norm_a * norm_b)\n",
    "    alpha_clip = alpha.clip(-1., 1.)\n",
    "    rads = np.arccos(alpha_clip)\n",
    "    degrees = np.degrees(rads)\n",
    "    return degrees"
   ]
  },
  {
   "cell_type": "code",
   "execution_count": 116,
   "id": "0826a1ad",
   "metadata": {},
   "outputs": [
    {
     "name": "stdout",
     "output_type": "stream",
     "text": [
      "Dimension: 2\n",
      "Shape [n x m]: (3, 2)\n",
      "Size [n * m]: 6\n",
      "dtype: int64\n",
      "[1 0]\n",
      "[0 1]\n",
      "[1 1]\n",
      "\n",
      "Dimension: 2\n",
      "Shape [n x m]: (3, 2)\n",
      "Size [n * m]: 6\n",
      "dtype: int64\n",
      "[0 1]\n",
      "[1 0]\n",
      "[-1 -1]\n",
      "\n"
     ]
    }
   ],
   "source": [
    "X = np.array([[1, 0], [0, 1], [1, 1]])\n",
    "Y = np.array([[0, 1], [1, 0], [-1, -1]])\n",
    "info(X)\n",
    "info(Y)"
   ]
  },
  {
   "cell_type": "code",
   "execution_count": 118,
   "id": "1c4c1193",
   "metadata": {},
   "outputs": [
    {
     "name": "stdout",
     "output_type": "stream",
     "text": [
      "[ 90.  90. 120.]\n"
     ]
    }
   ],
   "source": [
    "print(vector_angles(X, Y))"
   ]
  },
  {
   "cell_type": "markdown",
   "id": "6e5f5e34",
   "metadata": {},
   "source": [
    "### Broadcasting\n",
    "\n",
    "NumPy also allows binary operations that don't require the two arrays to have the same shape.\n",
    "\n",
    "before the binary operation is performed, NumPy tries to stretch the arrays to have the same shape. For example, above, NumPy first stretched the array np.array([4]) (or the scalar 4), to the array np.array([4,4,4]) and then performed the element-wise addition. In NumPy this stretching is called *broadcasting*.\n",
    "\n"
   ]
  },
  {
   "cell_type": "code",
   "execution_count": 119,
   "id": "0ac24575",
   "metadata": {},
   "outputs": [
    {
     "data": {
      "text/plain": [
       "array([4, 5, 6])"
      ]
     },
     "execution_count": 119,
     "metadata": {},
     "output_type": "execute_result"
    }
   ],
   "source": [
    "np.arange(3) + np.array([4])"
   ]
  },
  {
   "cell_type": "code",
   "execution_count": 120,
   "id": "d16d57df",
   "metadata": {},
   "outputs": [
    {
     "data": {
      "text/plain": [
       "array([4, 5, 6])"
      ]
     },
     "execution_count": 120,
     "metadata": {},
     "output_type": "execute_result"
    }
   ],
   "source": [
    "np.arange(3) + 4"
   ]
  },
  {
   "cell_type": "code",
   "execution_count": 123,
   "id": "671dd5bf",
   "metadata": {},
   "outputs": [
    {
     "name": "stdout",
     "output_type": "stream",
     "text": [
      "a:\n",
      "[[5 5 5]\n",
      " [5 5 5]\n",
      " [5 5 5]]\n",
      "b: [0 1 2]\n",
      "a + b:\n",
      "[[5 6 7]\n",
      " [5 6 7]\n",
      " [5 6 7]]\n"
     ]
    }
   ],
   "source": [
    "a = np.full((3,3), 5)\n",
    "b = np.arange(3)\n",
    "print(\"a:\", a, sep=\"\\n\")\n",
    "print(\"b:\", b)\n",
    "print(\"a + b:\", a + b, sep=\"\\n\")"
   ]
  },
  {
   "cell_type": "code",
   "execution_count": 126,
   "id": "a199c114",
   "metadata": {},
   "outputs": [
    {
     "name": "stdout",
     "output_type": "stream",
     "text": [
      "Dimension: 2\n",
      "Shape [n x m]: (1, 3)\n",
      "Size [n * m]: 3\n",
      "dtype: int64\n",
      "[0 1 2]\n",
      "\n",
      "Dimension: 2\n",
      "Shape [n x m]: (3, 1)\n",
      "Size [n * m]: 3\n",
      "dtype: int64\n",
      "[0]\n",
      "[1]\n",
      "[2]\n",
      "\n"
     ]
    }
   ],
   "source": [
    "a = np.arange(3)\n",
    "b = np.arange(3).reshape(-1, 1)\n",
    "info(a.reshape(1, -1))\n",
    "info(b)"
   ]
  },
  {
   "cell_type": "code",
   "execution_count": 127,
   "id": "9c550bee",
   "metadata": {},
   "outputs": [
    {
     "name": "stdout",
     "output_type": "stream",
     "text": [
      "Dimension: 2\n",
      "Shape [n x m]: (3, 3)\n",
      "Size [n * m]: 9\n",
      "dtype: int64\n",
      "[0 1 2]\n",
      "[1 2 3]\n",
      "[2 3 4]\n",
      "\n"
     ]
    }
   ],
   "source": [
    "info(a + b)"
   ]
  },
  {
   "cell_type": "code",
   "execution_count": 128,
   "id": "b67a41df",
   "metadata": {},
   "outputs": [
    {
     "name": "stdout",
     "output_type": "stream",
     "text": [
      "Dimension: 2\n",
      "Shape [n x m]: (3, 3)\n",
      "Size [n * m]: 9\n",
      "dtype: int64\n",
      "[0 1 2]\n",
      "[0 1 2]\n",
      "[0 1 2]\n",
      "\n",
      "Dimension: 2\n",
      "Shape [n x m]: (3, 3)\n",
      "Size [n * m]: 9\n",
      "dtype: int64\n",
      "[0 0 0]\n",
      "[1 1 1]\n",
      "[2 2 2]\n",
      "\n"
     ]
    }
   ],
   "source": [
    "broadcasted_a, broadcasted_b = np.broadcast_arrays(a,b)\n",
    "info(broadcasted_a)\n",
    "info(broadcasted_b)"
   ]
  },
  {
   "cell_type": "code",
   "execution_count": null,
   "id": "f38c8964",
   "metadata": {},
   "outputs": [],
   "source": []
  }
 ],
 "metadata": {
  "kernelspec": {
   "display_name": "mlVirt",
   "language": "python",
   "name": "mlvirt"
  },
  "language_info": {
   "codemirror_mode": {
    "name": "ipython",
    "version": 3
   },
   "file_extension": ".py",
   "mimetype": "text/x-python",
   "name": "python",
   "nbconvert_exporter": "python",
   "pygments_lexer": "ipython3",
   "version": "3.12.4"
  }
 },
 "nbformat": 4,
 "nbformat_minor": 5
}
