{
 "cells": [
  {
   "cell_type": "code",
   "execution_count": 1,
   "id": "994ab005",
   "metadata": {},
   "outputs": [],
   "source": [
    "import numpy as np"
   ]
  },
  {
   "cell_type": "code",
   "execution_count": 7,
   "id": "85ae9534",
   "metadata": {},
   "outputs": [],
   "source": [
    "def info(arr: np.ndarray):\n",
    "    print(arr)\n",
    "    print(f\"dim: {arr.ndim}\\nshape: {arr.shape}\\nsize: {arr.size}\\ndtype: {arr.dtype}\\n\")"
   ]
  },
  {
   "cell_type": "code",
   "execution_count": 9,
   "id": "1b55ff55",
   "metadata": {},
   "outputs": [
    {
     "name": "stdout",
     "output_type": "stream",
     "text": [
      "[0 1]\n",
      "dim: 1\n",
      "shape: (2,)\n",
      "size: 2\n",
      "dtype: int64\n",
      "\n",
      "[2 3 4]\n",
      "dim: 1\n",
      "shape: (3,)\n",
      "size: 3\n",
      "dtype: int64\n",
      "\n"
     ]
    }
   ],
   "source": [
    "# Aconcatenations, splitting\n",
    "\n",
    "a = np.arange(2)\n",
    "b = np.arange(2, 5)\n",
    "info(a)\n",
    "info(b)"
   ]
  },
  {
   "cell_type": "code",
   "execution_count": 10,
   "id": "8c7e6917",
   "metadata": {},
   "outputs": [
    {
     "name": "stdout",
     "output_type": "stream",
     "text": [
      "[0 1 2 3 4]\n",
      "dim: 1\n",
      "shape: (5,)\n",
      "size: 5\n",
      "dtype: int64\n",
      "\n"
     ]
    }
   ],
   "source": [
    "c = np.concat([a, b])\n",
    "info(c)"
   ]
  },
  {
   "cell_type": "code",
   "execution_count": 20,
   "id": "4b1ba495",
   "metadata": {},
   "outputs": [
    {
     "name": "stdout",
     "output_type": "stream",
     "text": [
      "[[1 2]\n",
      " [3 4]]\n",
      "dim: 2\n",
      "shape: (2, 2)\n",
      "size: 4\n",
      "dtype: int64\n",
      "\n",
      "[[1 2]\n",
      " [3 4]\n",
      " [1 2]\n",
      " [3 4]]\n",
      "dim: 2\n",
      "shape: (4, 2)\n",
      "size: 8\n",
      "dtype: int64\n",
      "\n",
      "[[1 2 1 2]\n",
      " [3 4 3 4]]\n",
      "dim: 2\n",
      "shape: (2, 4)\n",
      "size: 8\n",
      "dtype: int64\n",
      "\n"
     ]
    }
   ],
   "source": [
    "arr = np.arange(1, 5).reshape(2, 2)\n",
    "info(arr)\n",
    "\n",
    "info(np.concat((arr, arr)))\n",
    "\n",
    "info(np.concat((arr, arr), axis=1))"
   ]
  },
  {
   "cell_type": "code",
   "execution_count": null,
   "id": "8af18cc9",
   "metadata": {},
   "outputs": [
    {
     "name": "stdout",
     "output_type": "stream",
     "text": [
      "[2 3 4] \n",
      "\n",
      "[[2 3 4]\n",
      " [2 3 4]] \n",
      "\n",
      "[[2 2]\n",
      " [3 3]\n",
      " [4 4]] \n",
      "\n"
     ]
    }
   ],
   "source": [
    "print(b, \"\\n\")\n",
    "print(np.stack((b, b), axis=0), \"\\n\")\n",
    "print(np.stack((b, b), axis=1), \"\\n\")\n"
   ]
  },
  {
   "cell_type": "code",
   "execution_count": 35,
   "id": "a3c0f979",
   "metadata": {},
   "outputs": [
    {
     "name": "stdout",
     "output_type": "stream",
     "text": [
      "d:\n",
      "[[ 0  1]\n",
      " [ 2  3]\n",
      " [ 4  5]\n",
      " [ 6  7]\n",
      " [ 8  9]\n",
      " [10 11]] \n",
      "\n",
      "d1:\n",
      "[[0 1]\n",
      " [2 3]\n",
      " [4 5]] \n",
      "\n",
      "d2:\n",
      "[[ 6  7]\n",
      " [ 8  9]\n",
      " [10 11]] \n",
      "\n"
     ]
    }
   ],
   "source": [
    "d = np.arange(12).reshape(6,2)\n",
    "print(\"d:\")\n",
    "print(d, \"\\n\")\n",
    "d1, d2 = np.split(d, 2)\n",
    "print(\"d1:\")\n",
    "print(d1, \"\\n\")\n",
    "print(\"d2:\")\n",
    "print(d2, \"\\n\")"
   ]
  },
  {
   "cell_type": "code",
   "execution_count": 38,
   "id": "e459fb22",
   "metadata": {},
   "outputs": [
    {
     "name": "stdout",
     "output_type": "stream",
     "text": [
      "d:\n",
      "[[ 0  1  2  3  4  5]\n",
      " [ 6  7  8  9 10 11]] \n",
      "\n",
      "part 0:\n",
      "[[0 1]\n",
      " [6 7]]\n",
      "part 1:\n",
      "[[2]\n",
      " [8]]\n",
      "part 2:\n",
      "[[ 3  4]\n",
      " [ 9 10]]\n",
      "part 3:\n",
      "[[ 5]\n",
      " [11]]\n"
     ]
    }
   ],
   "source": [
    "d = np.arange(12).reshape(2,6)\n",
    "print(\"d:\")\n",
    "print(d, \"\\n\")\n",
    "parts = np.split(ary=d, indices_or_sections=(2, 3, 5), axis=1)\n",
    "for i, p in enumerate(parts):\n",
    "    print(\"part %i:\" % i)\n",
    "    print(p)"
   ]
  },
  {
   "cell_type": "code",
   "execution_count": 39,
   "id": "d068add2",
   "metadata": {},
   "outputs": [],
   "source": [
    "def get_row_vectors(arr):\n",
    "    return [row.reshape(1, -1) for row in arr]\n",
    "\n",
    "def get_column_vectors(arr):\n",
    "    return [col.reshape(-1, 1) for col in arr.T]"
   ]
  },
  {
   "cell_type": "code",
   "execution_count": 40,
   "id": "d25370d1",
   "metadata": {},
   "outputs": [
    {
     "name": "stdout",
     "output_type": "stream",
     "text": [
      "a:\n",
      " [[5 0 3 3]\n",
      " [7 9 3 5]\n",
      " [2 4 7 6]\n",
      " [8 8 1 6]]\n",
      "Row vectors:\n",
      " [array([[5, 0, 3, 3]], dtype=int32), array([[7, 9, 3, 5]], dtype=int32), array([[2, 4, 7, 6]], dtype=int32), array([[8, 8, 1, 6]], dtype=int32)]\n",
      "Column vectors:\n",
      " [array([[5],\n",
      "       [7],\n",
      "       [2],\n",
      "       [8]], dtype=int32), array([[0],\n",
      "       [9],\n",
      "       [4],\n",
      "       [8]], dtype=int32), array([[3],\n",
      "       [3],\n",
      "       [7],\n",
      "       [1]], dtype=int32), array([[3],\n",
      "       [5],\n",
      "       [6],\n",
      "       [6]], dtype=int32)]\n"
     ]
    }
   ],
   "source": [
    "np.random.seed(0)\n",
    "a = np.random.randint(0,10, (4,4))\n",
    "print(\"a:\\n\", a)\n",
    "print(\"Row vectors:\\n\", get_row_vectors(a))\n",
    "print(\"Column vectors:\\n\", get_column_vectors(a))"
   ]
  },
  {
   "cell_type": "code",
   "execution_count": 49,
   "id": "4dd95590",
   "metadata": {},
   "outputs": [
    {
     "data": {
      "text/plain": [
       "array([[0., 1., 0.],\n",
       "       [1., 0., 1.],\n",
       "       [0., 1., 0.]])"
      ]
     },
     "execution_count": 49,
     "metadata": {},
     "output_type": "execute_result"
    }
   ],
   "source": [
    "np.eye(M=3, N=3, k=-1) + np.eye(M=3, N=3, k=1)"
   ]
  },
  {
   "cell_type": "code",
   "execution_count": null,
   "id": "decb81ae",
   "metadata": {},
   "outputs": [],
   "source": [
    "n = 3"
   ]
  }
 ],
 "metadata": {
  "kernelspec": {
   "display_name": "mlvirt",
   "language": "python",
   "name": "mlvirt"
  },
  "language_info": {
   "codemirror_mode": {
    "name": "ipython",
    "version": 3
   },
   "file_extension": ".py",
   "mimetype": "text/x-python",
   "name": "python",
   "nbconvert_exporter": "python",
   "pygments_lexer": "ipython3",
   "version": "3.12.4"
  }
 },
 "nbformat": 4,
 "nbformat_minor": 5
}
