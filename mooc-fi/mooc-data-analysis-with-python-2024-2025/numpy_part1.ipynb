{
 "cells": [
  {
   "cell_type": "code",
   "execution_count": 1,
   "id": "994ab005",
   "metadata": {},
   "outputs": [],
   "source": [
    "import numpy as np"
   ]
  },
  {
   "cell_type": "markdown",
   "id": "aaa99729",
   "metadata": {},
   "source": [
    "### Creation of arrays"
   ]
  },
  {
   "cell_type": "code",
   "execution_count": 11,
   "id": "b327b7af",
   "metadata": {},
   "outputs": [],
   "source": [
    "a = np.array([1,2 , 3])  # One dimensional array"
   ]
  },
  {
   "cell_type": "code",
   "execution_count": 12,
   "id": "f954c0f3",
   "metadata": {},
   "outputs": [
    {
     "data": {
      "text/plain": [
       "(3,)"
      ]
     },
     "execution_count": 12,
     "metadata": {},
     "output_type": "execute_result"
    }
   ],
   "source": [
    "a.shape"
   ]
  },
  {
   "cell_type": "code",
   "execution_count": 13,
   "id": "8587979e",
   "metadata": {},
   "outputs": [
    {
     "data": {
      "text/plain": [
       "numpy.ndarray"
      ]
     },
     "execution_count": 13,
     "metadata": {},
     "output_type": "execute_result"
    }
   ],
   "source": [
    "type(a)"
   ]
  },
  {
   "cell_type": "code",
   "execution_count": 15,
   "id": "11494111",
   "metadata": {},
   "outputs": [],
   "source": [
    "b = np.array([[1, 2, 3], [4, 5, 6]])"
   ]
  },
  {
   "cell_type": "code",
   "execution_count": 16,
   "id": "77ca063a",
   "metadata": {},
   "outputs": [
    {
     "data": {
      "text/plain": [
       "(2, 3)"
      ]
     },
     "execution_count": 16,
     "metadata": {},
     "output_type": "execute_result"
    }
   ],
   "source": [
    "b.shape"
   ]
  },
  {
   "cell_type": "code",
   "execution_count": 20,
   "id": "03233652",
   "metadata": {},
   "outputs": [
    {
     "name": "stdout",
     "output_type": "stream",
     "text": [
      "[1 2 3]\n",
      "[4 5 6]\n"
     ]
    }
   ],
   "source": [
    "print(b[0])\n",
    "print(b[1])"
   ]
  },
  {
   "cell_type": "code",
   "execution_count": 30,
   "id": "7a932607",
   "metadata": {},
   "outputs": [
    {
     "name": "stdout",
     "output_type": "stream",
     "text": [
      "[[1 2]\n",
      " [3 4]\n",
      " [5 6]]\n"
     ]
    }
   ],
   "source": [
    "b_reshaped = b.reshape(-1,2)\n",
    "print(b_reshaped)"
   ]
  },
  {
   "cell_type": "code",
   "execution_count": 32,
   "id": "dc15f10b",
   "metadata": {},
   "outputs": [
    {
     "name": "stdout",
     "output_type": "stream",
     "text": [
      "[[0 0 0 0]\n",
      " [0 0 0 0]\n",
      " [0 0 0 0]]\n"
     ]
    }
   ],
   "source": [
    "zeros = np.zeros(shape=(3, 4), dtype=int)\n",
    "print(zeros)"
   ]
  },
  {
   "cell_type": "code",
   "execution_count": 35,
   "id": "398ceb84",
   "metadata": {},
   "outputs": [
    {
     "name": "stdout",
     "output_type": "stream",
     "text": [
      "[[1 1 1]\n",
      " [1 1 1]]\n"
     ]
    }
   ],
   "source": [
    "ones = np.ones(shape=(2, 3), dtype=int)\n",
    "print(ones)"
   ]
  },
  {
   "cell_type": "code",
   "execution_count": 39,
   "id": "fdad5e6b",
   "metadata": {},
   "outputs": [
    {
     "name": "stdout",
     "output_type": "stream",
     "text": [
      "[[7 7 7]\n",
      " [7 7 7]\n",
      " [7 7 7]]\n"
     ]
    }
   ],
   "source": [
    "sevens = np.full(shape=(3, 3), fill_value=7)\n",
    "print(sevens)"
   ]
  },
  {
   "cell_type": "code",
   "execution_count": 40,
   "id": "d8ae3fae",
   "metadata": {},
   "outputs": [
    {
     "name": "stdout",
     "output_type": "stream",
     "text": [
      "[7 7 7 7 7 7 7 7 7]\n"
     ]
    }
   ],
   "source": [
    "print(sevens.flatten())"
   ]
  },
  {
   "cell_type": "code",
   "execution_count": 41,
   "id": "f12d6a85",
   "metadata": {},
   "outputs": [
    {
     "name": "stdout",
     "output_type": "stream",
     "text": [
      "[[3.5e-323 3.5e-323 3.5e-323]\n",
      " [3.5e-323 3.5e-323 3.5e-323]\n",
      " [3.5e-323 3.5e-323 3.5e-323]]\n"
     ]
    }
   ],
   "source": [
    "empty = np.empty((3, 3))\n",
    "print(empty)"
   ]
  },
  {
   "cell_type": "code",
   "execution_count": 44,
   "id": "dd03737f",
   "metadata": {},
   "outputs": [
    {
     "name": "stdout",
     "output_type": "stream",
     "text": [
      "[[1 0 0]\n",
      " [0 1 0]\n",
      " [0 0 1]]\n"
     ]
    }
   ],
   "source": [
    "I3 = np.eye(M=3, N=3, dtype=int)\n",
    "print(I3)"
   ]
  },
  {
   "cell_type": "code",
   "execution_count": 58,
   "id": "605e78c6",
   "metadata": {},
   "outputs": [
    {
     "name": "stdout",
     "output_type": "stream",
     "text": [
      "[0 1 2 3 4 5 6 7 8 9]\n"
     ]
    }
   ],
   "source": [
    "arange = np.arange(start=0, stop=10, step=1)  # arange is used for integer ranges\n",
    "print(arange)"
   ]
  },
  {
   "cell_type": "code",
   "execution_count": 65,
   "id": "73911e4b",
   "metadata": {},
   "outputs": [
    {
     "name": "stdout",
     "output_type": "stream",
     "text": [
      "[0.         0.03173326 0.06346652 0.09519978 0.12693304 0.1586663\n",
      " 0.19039955 0.22213281 0.25386607 0.28559933 0.31733259 0.34906585\n",
      " 0.38079911 0.41253237 0.44426563 0.47599889 0.50773215 0.53946541\n",
      " 0.57119866 0.60293192 0.63466518 0.66639844 0.6981317  0.72986496\n",
      " 0.76159822 0.79333148 0.82506474 0.856798   0.88853126 0.92026451\n",
      " 0.95199777 0.98373103 1.01546429 1.04719755 1.07893081 1.11066407\n",
      " 1.14239733 1.17413059 1.20586385 1.23759711 1.26933037 1.30106362\n",
      " 1.33279688 1.36453014 1.3962634  1.42799666 1.45972992 1.49146318\n",
      " 1.52319644 1.5549297  1.58666296 1.61839622 1.65012947 1.68186273\n",
      " 1.71359599 1.74532925 1.77706251 1.80879577 1.84052903 1.87226229\n",
      " 1.90399555 1.93572881 1.96746207 1.99919533 2.03092858 2.06266184\n",
      " 2.0943951  2.12612836 2.15786162 2.18959488 2.22132814 2.2530614\n",
      " 2.28479466 2.31652792 2.34826118 2.37999443 2.41172769 2.44346095\n",
      " 2.47519421 2.50692747 2.53866073 2.57039399 2.60212725 2.63386051\n",
      " 2.66559377 2.69732703 2.72906028 2.76079354 2.7925268  2.82426006\n",
      " 2.85599332 2.88772658 2.91945984 2.9511931  2.98292636 3.01465962\n",
      " 3.04639288 3.07812614 3.10985939 3.14159265]\n"
     ]
    }
   ],
   "source": [
    "linspace = np.linspace(start=0, stop=np.pi, num=100)  # Evenly spaced range with 5 elements\n",
    "print(linspace)"
   ]
  },
  {
   "cell_type": "markdown",
   "id": "f8f3c077",
   "metadata": {},
   "source": [
    "### Arrays with random elements"
   ]
  },
  {
   "cell_type": "code",
   "execution_count": 70,
   "id": "8286bc9f",
   "metadata": {},
   "outputs": [
    {
     "name": "stdout",
     "output_type": "stream",
     "text": [
      "[[0.68104077 0.03850448 0.58533288]\n",
      " [0.586103   0.34495787 0.01109426]\n",
      " [0.90571646 0.80415189 0.52431422]]\n"
     ]
    }
   ],
   "source": [
    "arr = np.random.random((3, 3))  # Elements are uniformly distributed from half-open interval [0.0,1.0)\n",
    "print(arr)"
   ]
  },
  {
   "cell_type": "code",
   "execution_count": 75,
   "id": "80b1401d",
   "metadata": {},
   "outputs": [
    {
     "name": "stdout",
     "output_type": "stream",
     "text": [
      "[[-2.21169832  0.66895837  0.90112569  0.75402738]\n",
      " [ 0.03515088  1.39348375 -1.68750841 -0.78117545]\n",
      " [-0.0745599  -0.40538169 -1.09406577  1.00259701]\n",
      " [-1.11481194 -0.52280121 -1.02967167 -1.33092355]]\n"
     ]
    }
   ],
   "source": [
    "arrnormal = np.random.normal(0, 1, (4, 4))  # Elements are normally distributed with mean 0 and stdev 1\n",
    "print(arrnormal)"
   ]
  },
  {
   "cell_type": "code",
   "execution_count": 83,
   "id": "693f942b",
   "metadata": {},
   "outputs": [
    {
     "name": "stdout",
     "output_type": "stream",
     "text": [
      "[[ -5  -1   9]\n",
      " [ -1 -10  -9]\n",
      " [ -2  -4  -2]]\n"
     ]
    }
   ],
   "source": [
    "arrint = np.random.randint(low=-10, high=10, size=(3, 3))\n",
    "print(arrint)"
   ]
  },
  {
   "cell_type": "markdown",
   "id": "b6113c1e",
   "metadata": {},
   "source": [
    "### Random Generator"
   ]
  },
  {
   "cell_type": "code",
   "execution_count": 84,
   "id": "948f1cd4",
   "metadata": {},
   "outputs": [],
   "source": [
    "rng = np.random.default_rng(seed=42)"
   ]
  },
  {
   "cell_type": "code",
   "execution_count": 86,
   "id": "add2a12b",
   "metadata": {},
   "outputs": [
    {
     "name": "stdout",
     "output_type": "stream",
     "text": [
      "[52 97 73 76 71 78 51 12 83 45]\n"
     ]
    }
   ],
   "source": [
    "print(rng.integers(0, 100, 10))"
   ]
  },
  {
   "cell_type": "code",
   "execution_count": 88,
   "id": "ada0e56b",
   "metadata": {},
   "outputs": [
    {
     "name": "stdout",
     "output_type": "stream",
     "text": [
      "[[ 94 -11  78  35  55]\n",
      " [ 51 -62 -28  -7  -1]\n",
      " [-92   9 -70  48  36]\n",
      " [ 84  48 -27  93 -18]\n",
      " [-35  81 -26 -85  -7]]\n"
     ]
    }
   ],
   "source": [
    "print(rng.integers(-100, 100, (5, 5)))"
   ]
  },
  {
   "cell_type": "code",
   "execution_count": 90,
   "id": "5ba76699",
   "metadata": {},
   "outputs": [
    {
     "name": "stdout",
     "output_type": "stream",
     "text": [
      "[[ 1.23337162  1.43737719  2.74285756]\n",
      " [ 1.4471911   2.35782713  1.13515814]\n",
      " [ 1.5782388   2.26257645 -1.91431164]]\n"
     ]
    }
   ],
   "source": [
    "print(rng.normal(1, 2, (3, 3)))  # 3x3 array normally distributed with mean 1 and stdev 2"
   ]
  },
  {
   "cell_type": "code",
   "execution_count": 92,
   "id": "5f623108",
   "metadata": {},
   "outputs": [
    {
     "name": "stdout",
     "output_type": "stream",
     "text": [
      "[[ 0.16275307  0.58622233  0.71122658]\n",
      " [ 0.79334724 -0.34872507 -0.46235179]\n",
      " [ 0.85797588 -0.19130432 -1.27568632]]\n"
     ]
    }
   ],
   "source": [
    "print(rng.standard_normal(size=(3, 3)))  # 3x3 array normaly distributed"
   ]
  },
  {
   "cell_type": "markdown",
   "id": "84b016e9",
   "metadata": {},
   "source": [
    "### Array types and atributes"
   ]
  },
  {
   "cell_type": "code",
   "execution_count": 116,
   "id": "b984a597",
   "metadata": {},
   "outputs": [],
   "source": [
    "def info(a: np.ndarray): \n",
    "    print(\"Dimension:\", a.ndim)\n",
    "    print(\"Shape [n x m]:\", a.shape)\n",
    "    print(\"Size [n * m]:\", a.size)\n",
    "    print(\"dtype:\", a.dtype)\n",
    "    for row in a: \n",
    "        print(row)"
   ]
  },
  {
   "cell_type": "code",
   "execution_count": 117,
   "id": "d80d9837",
   "metadata": {},
   "outputs": [
    {
     "name": "stdout",
     "output_type": "stream",
     "text": [
      "Dimension: 2\n",
      "Shape [n x m]: (2, 3)\n",
      "Size [n * m]: 6\n",
      "dtype: int64\n",
      "[1 2 3]\n",
      "[4 5 6]\n"
     ]
    }
   ],
   "source": [
    "info(b)"
   ]
  },
  {
   "cell_type": "code",
   "execution_count": 118,
   "id": "8d55847a",
   "metadata": {},
   "outputs": [
    {
     "name": "stdout",
     "output_type": "stream",
     "text": [
      "Dimension: 3\n",
      "Shape [n x m]: (2, 2, 3)\n",
      "Size [n * m]: 12\n",
      "dtype: int64\n",
      "[[1 2 3]\n",
      " [4 5 6]]\n",
      "[[1 2 3]\n",
      " [4 5 6]]\n"
     ]
    }
   ],
   "source": [
    "c = np.array([b, b])\n",
    "info(c)"
   ]
  },
  {
   "cell_type": "code",
   "execution_count": 119,
   "id": "f332a8c5",
   "metadata": {},
   "outputs": [
    {
     "name": "stdout",
     "output_type": "stream",
     "text": [
      "Dimension: 1\n",
      "Shape [n x m]: (4,)\n",
      "Size [n * m]: 4\n",
      "dtype: int64\n",
      "1\n",
      "2\n",
      "3\n",
      "4\n"
     ]
    }
   ],
   "source": [
    "row = np.array([1, 2, 3, 4])\n",
    "info(row)"
   ]
  },
  {
   "cell_type": "code",
   "execution_count": 120,
   "id": "cbcab000",
   "metadata": {},
   "outputs": [
    {
     "name": "stdout",
     "output_type": "stream",
     "text": [
      "Dimension: 2\n",
      "Shape [n x m]: (4, 1)\n",
      "Size [n * m]: 4\n",
      "dtype: int64\n",
      "[1]\n",
      "[2]\n",
      "[3]\n",
      "[4]\n"
     ]
    }
   ],
   "source": [
    "col = row.reshape(-1, 1)\n",
    "info(col)"
   ]
  },
  {
   "cell_type": "code",
   "execution_count": 121,
   "id": "920fe05b",
   "metadata": {},
   "outputs": [
    {
     "name": "stdout",
     "output_type": "stream",
     "text": [
      "Dimension: 2\n",
      "Shape [n x m]: (1, 4)\n",
      "Size [n * m]: 4\n",
      "dtype: int64\n",
      "[1 2 3 4]\n"
     ]
    }
   ],
   "source": [
    "info(col.reshape(1, -1))"
   ]
  },
  {
   "cell_type": "markdown",
   "id": "534401dd",
   "metadata": {},
   "source": [
    "### Indexing, slicing and reshaping"
   ]
  },
  {
   "cell_type": "code",
   "execution_count": 127,
   "id": "dd2cbb87",
   "metadata": {},
   "outputs": [
    {
     "name": "stdout",
     "output_type": "stream",
     "text": [
      "Dimension: 2\n",
      "Shape [n x m]: (3, 3)\n",
      "Size [n * m]: 9\n",
      "dtype: int64\n",
      "[1 2 3]\n",
      "[4 5 6]\n",
      "[7 8 9]\n"
     ]
    }
   ],
   "source": [
    "t = np.arange(1, 10).reshape(3, 3)\n",
    "info(t)"
   ]
  },
  {
   "cell_type": "code",
   "execution_count": 131,
   "id": "889b3583",
   "metadata": {},
   "outputs": [
    {
     "name": "stdout",
     "output_type": "stream",
     "text": [
      "4\n",
      "8\n"
     ]
    }
   ],
   "source": [
    "print(t[1, 0])\n",
    "print(t[-1, 1])"
   ]
  },
  {
   "cell_type": "code",
   "execution_count": 136,
   "id": "3bec382f",
   "metadata": {},
   "outputs": [
    {
     "name": "stdout",
     "output_type": "stream",
     "text": [
      "[[1]\n",
      " [4]\n",
      " [7]]\n"
     ]
    }
   ],
   "source": [
    "print(t[:, 0].reshape(-1, 1))"
   ]
  },
  {
   "cell_type": "code",
   "execution_count": 139,
   "id": "8c0132c6",
   "metadata": {},
   "outputs": [
    {
     "name": "stdout",
     "output_type": "stream",
     "text": [
      "[[1 2 3]\n",
      " [4 5 6]\n",
      " [7 8 9]]\n"
     ]
    }
   ],
   "source": [
    "print(t[0:3, :])"
   ]
  },
  {
   "cell_type": "code",
   "execution_count": 142,
   "id": "0928fdf2",
   "metadata": {},
   "outputs": [
    {
     "name": "stdout",
     "output_type": "stream",
     "text": [
      "[[2 3]\n",
      " [5 6]\n",
      " [8 9]]\n"
     ]
    }
   ],
   "source": [
    "print(t[:, 1:].reshape(-1, 2))"
   ]
  },
  {
   "cell_type": "code",
   "execution_count": 143,
   "id": "abaa1d38",
   "metadata": {},
   "outputs": [
    {
     "name": "stdout",
     "output_type": "stream",
     "text": [
      "Dimension: 2\n",
      "Shape [n x m]: (3, 3)\n",
      "Size [n * m]: 9\n",
      "dtype: int64\n",
      "[1 2 3]\n",
      "[4 5 6]\n",
      "[ 7  8 10]\n"
     ]
    }
   ],
   "source": [
    "t[-1, -1] = 10\n",
    "info(t)"
   ]
  },
  {
   "cell_type": "code",
   "execution_count": 144,
   "id": "546211d1",
   "metadata": {},
   "outputs": [
    {
     "name": "stdout",
     "output_type": "stream",
     "text": [
      "Dimension: 2\n",
      "Shape [n x m]: (3, 3)\n",
      "Size [n * m]: 9\n",
      "dtype: int64\n",
      "[0 0 0]\n",
      "[4 5 6]\n",
      "[ 7  8 10]\n"
     ]
    }
   ],
   "source": [
    "t[0, :] = 0\n",
    "info(t)"
   ]
  },
  {
   "cell_type": "code",
   "execution_count": 124,
   "id": "f235c979",
   "metadata": {},
   "outputs": [
    {
     "name": "stdout",
     "output_type": "stream",
     "text": [
      "Dimension: 2\n",
      "Shape [n x m]: (3, 3)\n",
      "Size [n * m]: 9\n",
      "dtype: int64\n",
      "[0 2 8]\n",
      "[0 8 2]\n",
      "[9 2 4]\n"
     ]
    }
   ],
   "source": [
    "randten = rng.integers(0, 10, size=(3,3))\n",
    "info(randten)"
   ]
  },
  {
   "cell_type": "code",
   "execution_count": 145,
   "id": "582916c5",
   "metadata": {},
   "outputs": [
    {
     "name": "stdout",
     "output_type": "stream",
     "text": [
      "Dimension: 1\n",
      "Shape [n x m]: (4,)\n",
      "Size [n * m]: 4\n",
      "dtype: int64\n",
      "0\n",
      "1\n",
      "2\n",
      "3\n",
      "Dimension: 2\n",
      "Shape [n x m]: (1, 4)\n",
      "Size [n * m]: 4\n",
      "dtype: int64\n",
      "[0 1 2 3]\n",
      "Dimension: 2\n",
      "Shape [n x m]: (4, 1)\n",
      "Size [n * m]: 4\n",
      "dtype: int64\n",
      "[0]\n",
      "[1]\n",
      "[2]\n",
      "[3]\n"
     ]
    }
   ],
   "source": [
    "d = np.arange(4)  # 1d array\n",
    "drow = d.reshape(1, -1)  # Row vector\n",
    "dcol = d.reshape(-1, 1)  # Col vector\n",
    "\n",
    "info(d)\n",
    "info(drow)\n",
    "info(dcol)"
   ]
  },
  {
   "cell_type": "code",
   "execution_count": 146,
   "id": "a081e84d",
   "metadata": {},
   "outputs": [
    {
     "name": "stdout",
     "output_type": "stream",
     "text": [
      "Dimension: 2\n",
      "Shape [n x m]: (2, 2)\n",
      "Size [n * m]: 4\n",
      "dtype: int64\n",
      "[0 1]\n",
      "[2 3]\n"
     ]
    }
   ],
   "source": [
    "dd = d.reshape(2, 2)  # 2x2 matrix\n",
    "info(dd)"
   ]
  },
  {
   "cell_type": "markdown",
   "id": "b5b32b8f",
   "metadata": {},
   "source": [
    "## E2.1\n",
    "\n",
    "Write two functions, get_rows and get_columns, that get a two dimensional array as parameter. They should return the list of rows and columns of the array, respectively. The rows and columns should be one dimensional arrays. "
   ]
  },
  {
   "cell_type": "code",
   "execution_count": null,
   "id": "acc00efb",
   "metadata": {},
   "outputs": [],
   "source": [
    "def get_rows(arr: np.ndarray):\n",
    "    return \n",
    "\n",
    "def get_cols(arr: np.ndarray): \n",
    "    pass"
   ]
  },
  {
   "cell_type": "code",
   "execution_count": 147,
   "id": "8223a8e1",
   "metadata": {},
   "outputs": [],
   "source": [
    "a = np.array([[5, 0, 3, 3],\n",
    " [7, 9, 3, 5],\n",
    " [2, 4, 7, 6],\n",
    " [8, 8, 1, 6]])"
   ]
  },
  {
   "cell_type": "code",
   "execution_count": null,
   "id": "87505486",
   "metadata": {},
   "outputs": [],
   "source": []
  }
 ],
 "metadata": {
  "kernelspec": {
   "display_name": "mlVirt",
   "language": "python",
   "name": "mlvirt"
  },
  "language_info": {
   "codemirror_mode": {
    "name": "ipython",
    "version": 3
   },
   "file_extension": ".py",
   "mimetype": "text/x-python",
   "name": "python",
   "nbconvert_exporter": "python",
   "pygments_lexer": "ipython3",
   "version": "3.12.4"
  }
 },
 "nbformat": 4,
 "nbformat_minor": 5
}
