{
 "cells": [
  {
   "cell_type": "code",
   "execution_count": 1,
   "id": "0eb006ff",
   "metadata": {},
   "outputs": [],
   "source": [
    "import pandas as pd\n",
    "import numpy as np"
   ]
  },
  {
   "cell_type": "code",
   "execution_count": 2,
   "id": "14f30b6a",
   "metadata": {},
   "outputs": [
    {
     "data": {
      "text/html": [
       "<div>\n",
       "<style scoped>\n",
       "    .dataframe tbody tr th:only-of-type {\n",
       "        vertical-align: middle;\n",
       "    }\n",
       "\n",
       "    .dataframe tbody tr th {\n",
       "        vertical-align: top;\n",
       "    }\n",
       "\n",
       "    .dataframe thead th {\n",
       "        text-align: right;\n",
       "    }\n",
       "</style>\n",
       "<table border=\"1\" class=\"dataframe\">\n",
       "  <thead>\n",
       "    <tr style=\"text-align: right;\">\n",
       "      <th></th>\n",
       "      <th>Year</th>\n",
       "      <th>m</th>\n",
       "      <th>d</th>\n",
       "      <th>Time</th>\n",
       "      <th>Time zone</th>\n",
       "      <th>Precipitation amount (mm)</th>\n",
       "      <th>Snow depth (cm)</th>\n",
       "      <th>Air temperature (degC)</th>\n",
       "    </tr>\n",
       "  </thead>\n",
       "  <tbody>\n",
       "    <tr>\n",
       "      <th>0</th>\n",
       "      <td>2017</td>\n",
       "      <td>1</td>\n",
       "      <td>1</td>\n",
       "      <td>00:00</td>\n",
       "      <td>UTC</td>\n",
       "      <td>-1.0</td>\n",
       "      <td>-1.0</td>\n",
       "      <td>0.6</td>\n",
       "    </tr>\n",
       "    <tr>\n",
       "      <th>1</th>\n",
       "      <td>2017</td>\n",
       "      <td>1</td>\n",
       "      <td>2</td>\n",
       "      <td>00:00</td>\n",
       "      <td>UTC</td>\n",
       "      <td>4.4</td>\n",
       "      <td>-1.0</td>\n",
       "      <td>-3.9</td>\n",
       "    </tr>\n",
       "    <tr>\n",
       "      <th>2</th>\n",
       "      <td>2017</td>\n",
       "      <td>1</td>\n",
       "      <td>3</td>\n",
       "      <td>00:00</td>\n",
       "      <td>UTC</td>\n",
       "      <td>6.6</td>\n",
       "      <td>7.0</td>\n",
       "      <td>-6.5</td>\n",
       "    </tr>\n",
       "    <tr>\n",
       "      <th>3</th>\n",
       "      <td>2017</td>\n",
       "      <td>1</td>\n",
       "      <td>4</td>\n",
       "      <td>00:00</td>\n",
       "      <td>UTC</td>\n",
       "      <td>-1.0</td>\n",
       "      <td>13.0</td>\n",
       "      <td>-12.8</td>\n",
       "    </tr>\n",
       "    <tr>\n",
       "      <th>4</th>\n",
       "      <td>2017</td>\n",
       "      <td>1</td>\n",
       "      <td>5</td>\n",
       "      <td>00:00</td>\n",
       "      <td>UTC</td>\n",
       "      <td>-1.0</td>\n",
       "      <td>10.0</td>\n",
       "      <td>-17.8</td>\n",
       "    </tr>\n",
       "  </tbody>\n",
       "</table>\n",
       "</div>"
      ],
      "text/plain": [
       "   Year  m  d   Time Time zone  Precipitation amount (mm)  Snow depth (cm)  \\\n",
       "0  2017  1  1  00:00       UTC                       -1.0             -1.0   \n",
       "1  2017  1  2  00:00       UTC                        4.4             -1.0   \n",
       "2  2017  1  3  00:00       UTC                        6.6              7.0   \n",
       "3  2017  1  4  00:00       UTC                       -1.0             13.0   \n",
       "4  2017  1  5  00:00       UTC                       -1.0             10.0   \n",
       "\n",
       "   Air temperature (degC)  \n",
       "0                     0.6  \n",
       "1                    -3.9  \n",
       "2                    -6.5  \n",
       "3                   -12.8  \n",
       "4                   -17.8  "
      ]
     },
     "execution_count": 2,
     "metadata": {},
     "output_type": "execute_result"
    }
   ],
   "source": [
    "df = pd.read_csv(\"https://raw.githubusercontent.com/csmastersUH/data_analysis_with_python_2020/master/kumpula-weather-2017.csv\")\n",
    "df.head()"
   ]
  },
  {
   "cell_type": "code",
   "execution_count": 3,
   "id": "9e699451",
   "metadata": {},
   "outputs": [
    {
     "data": {
      "text/plain": [
       "(365, 8)"
      ]
     },
     "execution_count": 3,
     "metadata": {},
     "output_type": "execute_result"
    }
   ],
   "source": [
    "df.shape"
   ]
  },
  {
   "cell_type": "code",
   "execution_count": 4,
   "id": "8883d1aa",
   "metadata": {},
   "outputs": [
    {
     "data": {
      "text/plain": [
       "Index(['Year', 'm', 'd', 'Time', 'Time zone', 'Precipitation amount (mm)',\n",
       "       'Snow depth (cm)', 'Air temperature (degC)'],\n",
       "      dtype='object')"
      ]
     },
     "execution_count": 4,
     "metadata": {},
     "output_type": "execute_result"
    }
   ],
   "source": [
    "df.columns"
   ]
  },
  {
   "cell_type": "code",
   "execution_count": 5,
   "id": "a6189437",
   "metadata": {},
   "outputs": [
    {
     "data": {
      "text/plain": [
       "0   -1.0\n",
       "1    4.4\n",
       "2    6.6\n",
       "3   -1.0\n",
       "4   -1.0\n",
       "Name: Precipitation amount (mm), dtype: float64"
      ]
     },
     "execution_count": 5,
     "metadata": {},
     "output_type": "execute_result"
    }
   ],
   "source": [
    "df['Precipitation amount (mm)'].head()"
   ]
  },
  {
   "cell_type": "code",
   "execution_count": 6,
   "id": "ffc53f2c",
   "metadata": {},
   "outputs": [
    {
     "data": {
      "text/plain": [
       "np.float64(1.9663013698630138)"
      ]
     },
     "execution_count": 6,
     "metadata": {},
     "output_type": "execute_result"
    }
   ],
   "source": [
    "df['Precipitation amount (mm)'].mean()"
   ]
  },
  {
   "cell_type": "code",
   "execution_count": 7,
   "id": "8d505371",
   "metadata": {},
   "outputs": [
    {
     "data": {
      "text/html": [
       "<div>\n",
       "<style scoped>\n",
       "    .dataframe tbody tr th:only-of-type {\n",
       "        vertical-align: middle;\n",
       "    }\n",
       "\n",
       "    .dataframe tbody tr th {\n",
       "        vertical-align: top;\n",
       "    }\n",
       "\n",
       "    .dataframe thead th {\n",
       "        text-align: right;\n",
       "    }\n",
       "</style>\n",
       "<table border=\"1\" class=\"dataframe\">\n",
       "  <thead>\n",
       "    <tr style=\"text-align: right;\">\n",
       "      <th></th>\n",
       "      <th>Year</th>\n",
       "      <th>m</th>\n",
       "      <th>d</th>\n",
       "      <th>Precipitation amount (mm)</th>\n",
       "      <th>Snow depth (cm)</th>\n",
       "      <th>Air temperature (degC)</th>\n",
       "    </tr>\n",
       "  </thead>\n",
       "  <tbody>\n",
       "    <tr>\n",
       "      <th>count</th>\n",
       "      <td>365.0</td>\n",
       "      <td>365.000000</td>\n",
       "      <td>365.000000</td>\n",
       "      <td>365.000000</td>\n",
       "      <td>358.000000</td>\n",
       "      <td>365.000000</td>\n",
       "    </tr>\n",
       "    <tr>\n",
       "      <th>mean</th>\n",
       "      <td>2017.0</td>\n",
       "      <td>6.526027</td>\n",
       "      <td>15.720548</td>\n",
       "      <td>1.966301</td>\n",
       "      <td>0.966480</td>\n",
       "      <td>6.527123</td>\n",
       "    </tr>\n",
       "    <tr>\n",
       "      <th>std</th>\n",
       "      <td>0.0</td>\n",
       "      <td>3.452584</td>\n",
       "      <td>8.808321</td>\n",
       "      <td>4.858423</td>\n",
       "      <td>3.717472</td>\n",
       "      <td>7.183934</td>\n",
       "    </tr>\n",
       "    <tr>\n",
       "      <th>min</th>\n",
       "      <td>2017.0</td>\n",
       "      <td>1.000000</td>\n",
       "      <td>1.000000</td>\n",
       "      <td>-1.000000</td>\n",
       "      <td>-1.000000</td>\n",
       "      <td>-17.800000</td>\n",
       "    </tr>\n",
       "    <tr>\n",
       "      <th>25%</th>\n",
       "      <td>2017.0</td>\n",
       "      <td>4.000000</td>\n",
       "      <td>8.000000</td>\n",
       "      <td>-1.000000</td>\n",
       "      <td>-1.000000</td>\n",
       "      <td>1.200000</td>\n",
       "    </tr>\n",
       "    <tr>\n",
       "      <th>50%</th>\n",
       "      <td>2017.0</td>\n",
       "      <td>7.000000</td>\n",
       "      <td>16.000000</td>\n",
       "      <td>0.200000</td>\n",
       "      <td>-1.000000</td>\n",
       "      <td>4.800000</td>\n",
       "    </tr>\n",
       "    <tr>\n",
       "      <th>75%</th>\n",
       "      <td>2017.0</td>\n",
       "      <td>10.000000</td>\n",
       "      <td>23.000000</td>\n",
       "      <td>2.700000</td>\n",
       "      <td>0.000000</td>\n",
       "      <td>12.900000</td>\n",
       "    </tr>\n",
       "    <tr>\n",
       "      <th>max</th>\n",
       "      <td>2017.0</td>\n",
       "      <td>12.000000</td>\n",
       "      <td>31.000000</td>\n",
       "      <td>35.000000</td>\n",
       "      <td>15.000000</td>\n",
       "      <td>19.600000</td>\n",
       "    </tr>\n",
       "  </tbody>\n",
       "</table>\n",
       "</div>"
      ],
      "text/plain": [
       "         Year           m           d  Precipitation amount (mm)  \\\n",
       "count   365.0  365.000000  365.000000                 365.000000   \n",
       "mean   2017.0    6.526027   15.720548                   1.966301   \n",
       "std       0.0    3.452584    8.808321                   4.858423   \n",
       "min    2017.0    1.000000    1.000000                  -1.000000   \n",
       "25%    2017.0    4.000000    8.000000                  -1.000000   \n",
       "50%    2017.0    7.000000   16.000000                   0.200000   \n",
       "75%    2017.0   10.000000   23.000000                   2.700000   \n",
       "max    2017.0   12.000000   31.000000                  35.000000   \n",
       "\n",
       "       Snow depth (cm)  Air temperature (degC)  \n",
       "count       358.000000              365.000000  \n",
       "mean          0.966480                6.527123  \n",
       "std           3.717472                7.183934  \n",
       "min          -1.000000              -17.800000  \n",
       "25%          -1.000000                1.200000  \n",
       "50%          -1.000000                4.800000  \n",
       "75%           0.000000               12.900000  \n",
       "max          15.000000               19.600000  "
      ]
     },
     "execution_count": 7,
     "metadata": {},
     "output_type": "execute_result"
    }
   ],
   "source": [
    "df.describe()"
   ]
  },
  {
   "cell_type": "code",
   "execution_count": 8,
   "id": "001105bc",
   "metadata": {},
   "outputs": [
    {
     "data": {
      "text/html": [
       "<div>\n",
       "<style scoped>\n",
       "    .dataframe tbody tr th:only-of-type {\n",
       "        vertical-align: middle;\n",
       "    }\n",
       "\n",
       "    .dataframe tbody tr th {\n",
       "        vertical-align: top;\n",
       "    }\n",
       "\n",
       "    .dataframe thead th {\n",
       "        text-align: right;\n",
       "    }\n",
       "</style>\n",
       "<table border=\"1\" class=\"dataframe\">\n",
       "  <thead>\n",
       "    <tr style=\"text-align: right;\">\n",
       "      <th></th>\n",
       "      <th>Year</th>\n",
       "      <th>m</th>\n",
       "      <th>d</th>\n",
       "      <th>Time</th>\n",
       "      <th>Precipitation amount (mm)</th>\n",
       "      <th>Snow depth (cm)</th>\n",
       "      <th>Air temperature (degC)</th>\n",
       "    </tr>\n",
       "  </thead>\n",
       "  <tbody>\n",
       "    <tr>\n",
       "      <th>0</th>\n",
       "      <td>2017</td>\n",
       "      <td>1</td>\n",
       "      <td>1</td>\n",
       "      <td>00:00</td>\n",
       "      <td>-1.0</td>\n",
       "      <td>-1.0</td>\n",
       "      <td>0.6</td>\n",
       "    </tr>\n",
       "    <tr>\n",
       "      <th>1</th>\n",
       "      <td>2017</td>\n",
       "      <td>1</td>\n",
       "      <td>2</td>\n",
       "      <td>00:00</td>\n",
       "      <td>4.4</td>\n",
       "      <td>-1.0</td>\n",
       "      <td>-3.9</td>\n",
       "    </tr>\n",
       "    <tr>\n",
       "      <th>2</th>\n",
       "      <td>2017</td>\n",
       "      <td>1</td>\n",
       "      <td>3</td>\n",
       "      <td>00:00</td>\n",
       "      <td>6.6</td>\n",
       "      <td>7.0</td>\n",
       "      <td>-6.5</td>\n",
       "    </tr>\n",
       "    <tr>\n",
       "      <th>3</th>\n",
       "      <td>2017</td>\n",
       "      <td>1</td>\n",
       "      <td>4</td>\n",
       "      <td>00:00</td>\n",
       "      <td>-1.0</td>\n",
       "      <td>13.0</td>\n",
       "      <td>-12.8</td>\n",
       "    </tr>\n",
       "    <tr>\n",
       "      <th>4</th>\n",
       "      <td>2017</td>\n",
       "      <td>1</td>\n",
       "      <td>5</td>\n",
       "      <td>00:00</td>\n",
       "      <td>-1.0</td>\n",
       "      <td>10.0</td>\n",
       "      <td>-17.8</td>\n",
       "    </tr>\n",
       "  </tbody>\n",
       "</table>\n",
       "</div>"
      ],
      "text/plain": [
       "   Year  m  d   Time  Precipitation amount (mm)  Snow depth (cm)  \\\n",
       "0  2017  1  1  00:00                       -1.0             -1.0   \n",
       "1  2017  1  2  00:00                        4.4             -1.0   \n",
       "2  2017  1  3  00:00                        6.6              7.0   \n",
       "3  2017  1  4  00:00                       -1.0             13.0   \n",
       "4  2017  1  5  00:00                       -1.0             10.0   \n",
       "\n",
       "   Air temperature (degC)  \n",
       "0                     0.6  \n",
       "1                    -3.9  \n",
       "2                    -6.5  \n",
       "3                   -12.8  \n",
       "4                   -17.8  "
      ]
     },
     "execution_count": 8,
     "metadata": {},
     "output_type": "execute_result"
    }
   ],
   "source": [
    "df.drop('Time zone', axis=1).head()"
   ]
  },
  {
   "cell_type": "code",
   "execution_count": 9,
   "id": "fc0e2b40",
   "metadata": {},
   "outputs": [
    {
     "data": {
      "text/html": [
       "<div>\n",
       "<style scoped>\n",
       "    .dataframe tbody tr th:only-of-type {\n",
       "        vertical-align: middle;\n",
       "    }\n",
       "\n",
       "    .dataframe tbody tr th {\n",
       "        vertical-align: top;\n",
       "    }\n",
       "\n",
       "    .dataframe thead th {\n",
       "        text-align: right;\n",
       "    }\n",
       "</style>\n",
       "<table border=\"1\" class=\"dataframe\">\n",
       "  <thead>\n",
       "    <tr style=\"text-align: right;\">\n",
       "      <th></th>\n",
       "      <th>Year</th>\n",
       "      <th>m</th>\n",
       "      <th>d</th>\n",
       "      <th>Time</th>\n",
       "      <th>Time zone</th>\n",
       "      <th>Precipitation amount (mm)</th>\n",
       "      <th>Snow depth (cm)</th>\n",
       "      <th>Air temperature (degC)</th>\n",
       "      <th>Rainy</th>\n",
       "    </tr>\n",
       "  </thead>\n",
       "  <tbody>\n",
       "    <tr>\n",
       "      <th>0</th>\n",
       "      <td>2017</td>\n",
       "      <td>1</td>\n",
       "      <td>1</td>\n",
       "      <td>00:00</td>\n",
       "      <td>UTC</td>\n",
       "      <td>-1.0</td>\n",
       "      <td>-1.0</td>\n",
       "      <td>0.6</td>\n",
       "      <td>False</td>\n",
       "    </tr>\n",
       "    <tr>\n",
       "      <th>1</th>\n",
       "      <td>2017</td>\n",
       "      <td>1</td>\n",
       "      <td>2</td>\n",
       "      <td>00:00</td>\n",
       "      <td>UTC</td>\n",
       "      <td>4.4</td>\n",
       "      <td>-1.0</td>\n",
       "      <td>-3.9</td>\n",
       "      <td>False</td>\n",
       "    </tr>\n",
       "    <tr>\n",
       "      <th>2</th>\n",
       "      <td>2017</td>\n",
       "      <td>1</td>\n",
       "      <td>3</td>\n",
       "      <td>00:00</td>\n",
       "      <td>UTC</td>\n",
       "      <td>6.6</td>\n",
       "      <td>7.0</td>\n",
       "      <td>-6.5</td>\n",
       "      <td>True</td>\n",
       "    </tr>\n",
       "    <tr>\n",
       "      <th>3</th>\n",
       "      <td>2017</td>\n",
       "      <td>1</td>\n",
       "      <td>4</td>\n",
       "      <td>00:00</td>\n",
       "      <td>UTC</td>\n",
       "      <td>-1.0</td>\n",
       "      <td>13.0</td>\n",
       "      <td>-12.8</td>\n",
       "      <td>False</td>\n",
       "    </tr>\n",
       "    <tr>\n",
       "      <th>4</th>\n",
       "      <td>2017</td>\n",
       "      <td>1</td>\n",
       "      <td>5</td>\n",
       "      <td>00:00</td>\n",
       "      <td>UTC</td>\n",
       "      <td>-1.0</td>\n",
       "      <td>10.0</td>\n",
       "      <td>-17.8</td>\n",
       "      <td>False</td>\n",
       "    </tr>\n",
       "  </tbody>\n",
       "</table>\n",
       "</div>"
      ],
      "text/plain": [
       "   Year  m  d   Time Time zone  Precipitation amount (mm)  Snow depth (cm)  \\\n",
       "0  2017  1  1  00:00       UTC                       -1.0             -1.0   \n",
       "1  2017  1  2  00:00       UTC                        4.4             -1.0   \n",
       "2  2017  1  3  00:00       UTC                        6.6              7.0   \n",
       "3  2017  1  4  00:00       UTC                       -1.0             13.0   \n",
       "4  2017  1  5  00:00       UTC                       -1.0             10.0   \n",
       "\n",
       "   Air temperature (degC)  Rainy  \n",
       "0                     0.6  False  \n",
       "1                    -3.9  False  \n",
       "2                    -6.5   True  \n",
       "3                   -12.8  False  \n",
       "4                   -17.8  False  "
      ]
     },
     "execution_count": 9,
     "metadata": {},
     "output_type": "execute_result"
    }
   ],
   "source": [
    "df['Rainy'] = df['Precipitation amount (mm)'] > 5\n",
    "df.head()"
   ]
  },
  {
   "cell_type": "markdown",
   "id": "988f3b08",
   "metadata": {},
   "source": [
    "## Creation and Indexing of series"
   ]
  },
  {
   "cell_type": "code",
   "execution_count": 10,
   "id": "ae2e87cf",
   "metadata": {},
   "outputs": [
    {
     "data": {
      "text/plain": [
       "0    1\n",
       "1    4\n",
       "2    5\n",
       "3    2\n",
       "4    5\n",
       "5    2\n",
       "Name: series, dtype: int64"
      ]
     },
     "execution_count": 10,
     "metadata": {},
     "output_type": "execute_result"
    }
   ],
   "source": [
    "s = pd.Series(data=[1, 4, 5, 2, 5, 2], name='series')\n",
    "s"
   ]
  },
  {
   "cell_type": "code",
   "execution_count": 11,
   "id": "3ae3f60d",
   "metadata": {},
   "outputs": [
    {
     "data": {
      "text/plain": [
       "0    1\n",
       "1    4\n",
       "2    5\n",
       "3    2\n",
       "4    5\n",
       "5    2\n",
       "Name: grades, dtype: int64"
      ]
     },
     "execution_count": 11,
     "metadata": {},
     "output_type": "execute_result"
    }
   ],
   "source": [
    "s.name = 'grades'\n",
    "s"
   ]
  },
  {
   "cell_type": "code",
   "execution_count": 32,
   "id": "04adaa74",
   "metadata": {},
   "outputs": [],
   "source": [
    "def series_info(s: pd.Series): \n",
    "    print(f\"Name: {s.name},\\ndtype: {s.dtype},\\nsize: {s.size}\")\n",
    "    print(f\"index: {s.index}\")\n",
    "    print(f\"values: {s.values}\")"
   ]
  },
  {
   "cell_type": "code",
   "execution_count": 33,
   "id": "d5489d3e",
   "metadata": {},
   "outputs": [
    {
     "name": "stdout",
     "output_type": "stream",
     "text": [
      "Name: None,\n",
      "dtype: object,\n",
      "size: 6\n",
      "index: RangeIndex(start=0, stop=6, step=1)\n",
      "values: ['a' 's' 'd' 'f' 'g' 'h']\n"
     ]
    }
   ],
   "source": [
    "series_info(s)"
   ]
  },
  {
   "cell_type": "code",
   "execution_count": 14,
   "id": "96f73482",
   "metadata": {},
   "outputs": [
    {
     "data": {
      "text/plain": [
       "np.int64(4)"
      ]
     },
     "execution_count": 14,
     "metadata": {},
     "output_type": "execute_result"
    }
   ],
   "source": [
    "s[1]"
   ]
  },
  {
   "cell_type": "code",
   "execution_count": 15,
   "id": "b2031356",
   "metadata": {},
   "outputs": [
    {
     "data": {
      "text/plain": [
       "0    1\n",
       "5    2\n",
       "Name: grades, dtype: int64"
      ]
     },
     "execution_count": 15,
     "metadata": {},
     "output_type": "execute_result"
    }
   ],
   "source": [
    "s2 = s[[0, 5]]  # Fancy indexing\n",
    "s2"
   ]
  },
  {
   "cell_type": "code",
   "execution_count": 16,
   "id": "6da2812b",
   "metadata": {},
   "outputs": [
    {
     "data": {
      "text/plain": [
       "4    5\n",
       "5    2\n",
       "Name: grades, dtype: int64"
      ]
     },
     "execution_count": 16,
     "metadata": {},
     "output_type": "execute_result"
    }
   ],
   "source": [
    "t = s[-2:]\n",
    "t"
   ]
  },
  {
   "cell_type": "code",
   "execution_count": 17,
   "id": "80bc5d44",
   "metadata": {},
   "outputs": [
    {
     "data": {
      "text/plain": [
       "array([1, 4, 5, 2, 5, 2])"
      ]
     },
     "execution_count": 17,
     "metadata": {},
     "output_type": "execute_result"
    }
   ],
   "source": [
    "s.values"
   ]
  },
  {
   "cell_type": "code",
   "execution_count": 18,
   "id": "c4b1926b",
   "metadata": {},
   "outputs": [
    {
     "data": {
      "text/plain": [
       "RangeIndex(start=0, stop=6, step=1)"
      ]
     },
     "execution_count": 18,
     "metadata": {},
     "output_type": "execute_result"
    }
   ],
   "source": [
    "s.index"
   ]
  },
  {
   "cell_type": "code",
   "execution_count": 19,
   "id": "fb56cac9",
   "metadata": {},
   "outputs": [
    {
     "data": {
      "text/plain": [
       "a    1\n",
       "b    4\n",
       "c    5\n",
       "d    2\n",
       "e    5\n",
       "f    2\n",
       "Name: grades, dtype: int64"
      ]
     },
     "execution_count": 19,
     "metadata": {},
     "output_type": "execute_result"
    }
   ],
   "source": [
    "s.index = ['a', 'b', 'c', 'd', 'e', 'f']\n",
    "s"
   ]
  },
  {
   "cell_type": "code",
   "execution_count": 20,
   "id": "15fe0bbd",
   "metadata": {},
   "outputs": [
    {
     "data": {
      "text/plain": [
       "a    1\n",
       "b    2\n",
       "c    3\n",
       "d    4\n",
       "e    5\n",
       "f    6\n",
       "dtype: int64"
      ]
     },
     "execution_count": 20,
     "metadata": {},
     "output_type": "execute_result"
    }
   ],
   "source": [
    "s3 = pd.Series(data=[1, 2, 3, 4, 5, 6], index=list('abcdef'))\n",
    "s3"
   ]
  },
  {
   "cell_type": "code",
   "execution_count": 21,
   "id": "b00bcd78",
   "metadata": {},
   "outputs": [
    {
     "data": {
      "text/plain": [
       "array([1, 2, 3, 4, 5, 6])"
      ]
     },
     "execution_count": 21,
     "metadata": {},
     "output_type": "execute_result"
    }
   ],
   "source": [
    "s3.values"
   ]
  },
  {
   "cell_type": "code",
   "execution_count": 22,
   "id": "8c130f23",
   "metadata": {},
   "outputs": [
    {
     "data": {
      "text/plain": [
       "Index(['a', 'b', 'c', 'd', 'e', 'f'], dtype='object')"
      ]
     },
     "execution_count": 22,
     "metadata": {},
     "output_type": "execute_result"
    }
   ],
   "source": [
    "s3.index"
   ]
  },
  {
   "cell_type": "code",
   "execution_count": 23,
   "id": "8321c3b4",
   "metadata": {},
   "outputs": [
    {
     "data": {
      "text/plain": [
       "np.int64(2)"
      ]
     },
     "execution_count": 23,
     "metadata": {},
     "output_type": "execute_result"
    }
   ],
   "source": [
    "s3['b']"
   ]
  },
  {
   "cell_type": "code",
   "execution_count": 24,
   "id": "29800f36",
   "metadata": {},
   "outputs": [
    {
     "data": {
      "text/plain": [
       "b    2\n",
       "c    3\n",
       "d    4\n",
       "e    5\n",
       "dtype: int64"
      ]
     },
     "execution_count": 24,
     "metadata": {},
     "output_type": "execute_result"
    }
   ],
   "source": [
    "s3['b': 'e']"
   ]
  },
  {
   "cell_type": "code",
   "execution_count": 25,
   "id": "f5e031fd",
   "metadata": {},
   "outputs": [
    {
     "name": "stderr",
     "output_type": "stream",
     "text": [
      "C:\\Users\\isaul\\AppData\\Local\\Temp\\ipykernel_2152\\3609381242.py:1: FutureWarning: Series.__getitem__ treating keys as positions is deprecated. In a future version, integer keys will always be treated as labels (consistent with DataFrame behavior). To access a value by position, use `ser.iloc[pos]`\n",
      "  s3[1]\n"
     ]
    },
    {
     "data": {
      "text/plain": [
       "np.int64(2)"
      ]
     },
     "execution_count": 25,
     "metadata": {},
     "output_type": "execute_result"
    }
   ],
   "source": [
    "s3[1]"
   ]
  },
  {
   "cell_type": "code",
   "execution_count": 26,
   "id": "488c45c6",
   "metadata": {},
   "outputs": [
    {
     "data": {
      "text/plain": [
       "1     Jack\n",
       "2    Jones\n",
       "3    James\n",
       "dtype: object"
      ]
     },
     "execution_count": 26,
     "metadata": {},
     "output_type": "execute_result"
    }
   ],
   "source": [
    "s4 = pd.Series([\"Jack\", \"Jones\", \"James\"], index=[1, 2, 3])\n",
    "s4"
   ]
  },
  {
   "cell_type": "code",
   "execution_count": 35,
   "id": "2ed57c87",
   "metadata": {},
   "outputs": [
    {
     "name": "stdout",
     "output_type": "stream",
     "text": [
      "Jack\n",
      "Jones\n"
     ]
    }
   ],
   "source": [
    "print(s4.loc[1])\n",
    "print(s4.iloc[1])"
   ]
  },
  {
   "cell_type": "code",
   "execution_count": 42,
   "id": "301e0620",
   "metadata": {},
   "outputs": [
    {
     "data": {
      "text/plain": [
       "2    Jones\n",
       "3    James\n",
       "dtype: object"
      ]
     },
     "execution_count": 42,
     "metadata": {},
     "output_type": "execute_result"
    }
   ],
   "source": [
    "s4.drop(1)"
   ]
  },
  {
   "cell_type": "markdown",
   "id": "51dbab8f",
   "metadata": {},
   "source": [
    "### E3.13(read series)\n",
    "\n",
    "Write function read_series that reads input lines from the user and return a Series. Each line should contain first the index and then the corresponding value, separated by whitespace. The index and values are strings (in this case dtype is object). An empty line signals the end of Series. Malformed input should cause an exception. An input line is malformed, if it is non-empty and, when split at whitespace, does not result in two parts."
   ]
  },
  {
   "cell_type": "code",
   "execution_count": null,
   "id": "62d65664",
   "metadata": {},
   "outputs": [],
   "source": [
    "def read_series():\n",
    "    x = list()\n",
    "    while True: \n",
    "        value = input()\n",
    "        if value == \"\":\n",
    "            break\n",
    "        x.append(value)\n",
    "\n",
    "    return pd.Series(data=x)"
   ]
  },
  {
   "cell_type": "code",
   "execution_count": 31,
   "id": "0319c30e",
   "metadata": {},
   "outputs": [
    {
     "data": {
      "text/plain": [
       "0    a\n",
       "1    s\n",
       "2    d\n",
       "3    f\n",
       "4    g\n",
       "5    h\n",
       "dtype: object"
      ]
     },
     "execution_count": 31,
     "metadata": {},
     "output_type": "execute_result"
    }
   ],
   "source": [
    "s = read_series()\n",
    "s"
   ]
  },
  {
   "cell_type": "markdown",
   "id": "33b8403c",
   "metadata": {},
   "source": [
    "## Exercise 3.14 (operations on series)\n",
    "Write function create_series that gets two lists of numbers as parameters. Both lists should have length 3. The function should first create two Series, s1 and s2. The first series should have values from the first parameter list and have corresponding indices a, b, and c. The second series should get its values from the second parameter list and have again the corresponding indices a, b, and c. The function should return the pair of these Series.\n",
    "\n",
    "Then, write a function modify_series that gets two Series as parameters. It should add to the first Series s1 a new value with index d. The new value should be the same as the value in Series s2 with index b. Then delete the element from s2 that has index b. Now the first Series should have four values, while the second list has only two values. Adding a new element to a Series can be achieved by assignment, like with dictionaries. Deletion of an element from a Series can be done with the del statement.\n",
    "\n"
   ]
  },
  {
   "cell_type": "code",
   "execution_count": 43,
   "id": "b0000dd3",
   "metadata": {},
   "outputs": [],
   "source": [
    "def create_series(L1: list, L2: list):\n",
    "    ids = ['a', 'b', 'c']\n",
    "    return (pd.Series(data=L1, index=ids), pd.Series(data=L2, index=ids))\n",
    "    \n",
    "def modify_series(s1: pd.Series, s2: pd.Series):\n",
    "    s1['d'] = s2.loc['b']\n",
    "    s2 = s2.drop('b')\n",
    "    return (s1, s2)"
   ]
  },
  {
   "cell_type": "code",
   "execution_count": 37,
   "id": "09698fb4",
   "metadata": {},
   "outputs": [],
   "source": [
    "l1 = (1, 2, 3)\n",
    "l2 = (4, 5, 6)"
   ]
  },
  {
   "cell_type": "code",
   "execution_count": 39,
   "id": "7a1bcd1c",
   "metadata": {},
   "outputs": [],
   "source": [
    "s1, s2 = create_series(l1, l2)"
   ]
  },
  {
   "cell_type": "code",
   "execution_count": 40,
   "id": "c10bcba7",
   "metadata": {},
   "outputs": [
    {
     "data": {
      "text/plain": [
       "a    1\n",
       "b    2\n",
       "c    3\n",
       "dtype: int64"
      ]
     },
     "execution_count": 40,
     "metadata": {},
     "output_type": "execute_result"
    }
   ],
   "source": [
    "s1"
   ]
  },
  {
   "cell_type": "code",
   "execution_count": 41,
   "id": "b09ca7a6",
   "metadata": {},
   "outputs": [
    {
     "data": {
      "text/plain": [
       "a    4\n",
       "b    5\n",
       "c    6\n",
       "dtype: int64"
      ]
     },
     "execution_count": 41,
     "metadata": {},
     "output_type": "execute_result"
    }
   ],
   "source": [
    "s2"
   ]
  },
  {
   "cell_type": "code",
   "execution_count": 44,
   "id": "a56471f6",
   "metadata": {},
   "outputs": [],
   "source": [
    "ss1, ss2 = modify_series(s1, s2)"
   ]
  },
  {
   "cell_type": "code",
   "execution_count": 45,
   "id": "2f1b53f0",
   "metadata": {},
   "outputs": [
    {
     "data": {
      "text/plain": [
       "a    1\n",
       "b    2\n",
       "c    3\n",
       "d    5\n",
       "dtype: int64"
      ]
     },
     "execution_count": 45,
     "metadata": {},
     "output_type": "execute_result"
    }
   ],
   "source": [
    "ss1"
   ]
  },
  {
   "cell_type": "code",
   "execution_count": 46,
   "id": "8f2f23f0",
   "metadata": {},
   "outputs": [
    {
     "data": {
      "text/plain": [
       "a    4\n",
       "c    6\n",
       "dtype: int64"
      ]
     },
     "execution_count": 46,
     "metadata": {},
     "output_type": "execute_result"
    }
   ],
   "source": [
    "ss2"
   ]
  },
  {
   "cell_type": "code",
   "execution_count": 47,
   "id": "1a0e6d0b",
   "metadata": {},
   "outputs": [
    {
     "data": {
      "text/plain": [
       "2001     Bush\n",
       "2005     Bush\n",
       "2009    Obama\n",
       "2013    Obama\n",
       "2017    Trump\n",
       "Name: Presidents, dtype: object"
      ]
     },
     "execution_count": 47,
     "metadata": {},
     "output_type": "execute_result"
    }
   ],
   "source": [
    "d = { 2001 : \"Bush\", 2005: \"Bush\", 2009: \"Obama\", 2013: \"Obama\", 2017 : \"Trump\"}\n",
    "s4 = pd.Series(d, name=\"Presidents\")\n",
    "s4"
   ]
  },
  {
   "cell_type": "code",
   "execution_count": 49,
   "id": "986a14dd",
   "metadata": {},
   "outputs": [
    {
     "data": {
      "text/plain": [
       "array(['Bush', 'Bush', 'Obama', 'Obama', 'Trump'], dtype=object)"
      ]
     },
     "execution_count": 49,
     "metadata": {},
     "output_type": "execute_result"
    }
   ],
   "source": [
    "s4.values"
   ]
  },
  {
   "cell_type": "code",
   "execution_count": 50,
   "id": "0e93d388",
   "metadata": {},
   "outputs": [
    {
     "data": {
      "text/plain": [
       "Index([2001, 2005, 2009, 2013, 2017], dtype='int64')"
      ]
     },
     "execution_count": 50,
     "metadata": {},
     "output_type": "execute_result"
    }
   ],
   "source": [
    "s4.index"
   ]
  },
  {
   "cell_type": "code",
   "execution_count": 53,
   "id": "5c608071",
   "metadata": {},
   "outputs": [
    {
     "name": "stdout",
     "output_type": "stream",
     "text": [
      "2001 Bush\n",
      "2005 Bush\n",
      "2009 Obama\n",
      "2013 Obama\n",
      "2017 Trump\n"
     ]
    }
   ],
   "source": [
    "for index, value in s4.items(): \n",
    "    print(index, value)"
   ]
  },
  {
   "cell_type": "code",
   "execution_count": 59,
   "id": "fc181290",
   "metadata": {},
   "outputs": [],
   "source": [
    "def inverse_series(s: pd.Series):\n",
    "    d = dict()\n",
    "    idxs = s.index\n",
    "    values = s.values\n",
    "    return pd.Series(data=idxs, index=values)"
   ]
  },
  {
   "cell_type": "code",
   "execution_count": 60,
   "id": "d101ff47",
   "metadata": {},
   "outputs": [
    {
     "data": {
      "text/plain": [
       "Bush     2001\n",
       "Bush     2005\n",
       "Obama    2009\n",
       "Obama    2013\n",
       "Trump    2017\n",
       "dtype: int64"
      ]
     },
     "execution_count": 60,
     "metadata": {},
     "output_type": "execute_result"
    }
   ],
   "source": [
    "inv_s4 = inverse_series(s4)\n",
    "inv_s4"
   ]
  },
  {
   "cell_type": "code",
   "execution_count": null,
   "id": "7832f22e",
   "metadata": {},
   "outputs": [],
   "source": []
  }
 ],
 "metadata": {
  "kernelspec": {
   "display_name": "mlVirt",
   "language": "python",
   "name": "mlvirt"
  },
  "language_info": {
   "codemirror_mode": {
    "name": "ipython",
    "version": 3
   },
   "file_extension": ".py",
   "mimetype": "text/x-python",
   "name": "python",
   "nbconvert_exporter": "python",
   "pygments_lexer": "ipython3",
   "version": "3.12.4"
  }
 },
 "nbformat": 4,
 "nbformat_minor": 5
}
